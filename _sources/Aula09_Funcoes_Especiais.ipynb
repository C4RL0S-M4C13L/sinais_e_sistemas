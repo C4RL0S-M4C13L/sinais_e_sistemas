{
 "cells": [
  {
   "cell_type": "markdown",
   "metadata": {},
   "source": [
    "# Transformada de Fourier de Funções especiais"
   ]
  },
  {
   "cell_type": "markdown",
   "metadata": {
    "slideshow": {
     "slide_type": "slide"
    }
   },
   "source": [
    "## Direto da Definição\n",
    "---\n",
    "### Linearidade\n",
    "\n",
    "### $TF\\{a_1x_1(t)+a_2x_2(t)\\}=a_1X_1(j\\omega)+a_2X_2(j\\omega)$\n",
    "\n",
    "\n",
    "## Atraso temporal\n",
    "\n",
    "### $TF\\{x(t-t_0)\\} = X(j\\omega)e^{-j\\omega t_0}$"
   ]
  },
  {
   "cell_type": "markdown",
   "metadata": {
    "slideshow": {
     "slide_type": "slide"
    }
   },
   "source": [
    "### Justificativa\n",
    "---\n",
    "\n",
    "### Linearidade \n",
    "\n",
    "$\\int_{-\\infty}^{\\infty}x(t)e^{-j\\omega t}dt = \\int_{-\\infty}^{\\infty}(a_1x_1(t)+a_2x_2(t))e^{-j\\omega t}dt=\n",
    "a_1\\int_{-\\infty}^{\\infty}x_1(t)e^{-j\\omega t}dt + a_2\\int_{-\\infty}^{\\infty}x_2(t)e^{-j\\omega t}dt= a_1X_1(j\\omega)+a_2X_2(j\\omega)$\n",
    "\n",
    "### Atraso\n",
    "$\\int_{-\\infty}^{\\infty}x(t-t_0)e^{-j\\omega t}dt$, \n",
    "\n",
    "fazendo $t'= t-t_0$ tem-se, $t=t'+t_0$ e $dt'=dt$\n",
    "\n",
    "tem-se: $\\int_{-\\infty}^{\\infty}x(t')e^{-j\\omega (t'+t_0)}dt' = e^{-j\\omega t_0}X(j\\omega)$"
   ]
  },
  {
   "cell_type": "markdown",
   "metadata": {
    "cell_style": "center",
    "slideshow": {
     "slide_type": "slide"
    }
   },
   "source": [
    "\n",
    "---\n",
    "## Escala\n",
    "\n",
    "### $ TF\\{x(at)\\}=\\frac{1}{|a|}X(\\frac{j\\omega}{a})$\n",
    "\n",
    "## Reversão temporal\n",
    "\n",
    "### $TF\\{x(-t)\\} = X(-j\\omega)$\n"
   ]
  },
  {
   "cell_type": "markdown",
   "metadata": {
    "cell_style": "center",
    "slideshow": {
     "slide_type": "fragment"
    }
   },
   "source": [
    "## Justificativa: troca de variável "
   ]
  },
  {
   "cell_type": "markdown",
   "metadata": {
    "cell_style": "center",
    "slideshow": {
     "slide_type": "slide"
    }
   },
   "source": [
    "## Propriedade: Derivada\n",
    "---\n",
    "\n",
    "### Se $x(t)\\to 0$ quando $t\\to \\pm \\infty$:\n",
    "\n",
    "### $TF\\{x^{'}(t)\\}= j\\omega X(j\\omega) $\n",
    "\n"
   ]
  },
  {
   "cell_type": "markdown",
   "metadata": {
    "cell_style": "center",
    "slideshow": {
     "slide_type": "fragment"
    }
   },
   "source": [
    "Justificativa:\n",
    "\n",
    "$ TF\\{x^{'}(t)\\}=\\int_{-\\infty}^{\\infty}x^{'}(t)e^{-j\\omega t}dt $\n",
    "\n",
    "Aplicando a **integral por partes**\n",
    "\n",
    "$TF\\{x^{'}(t)\\}=x(t)e^{-j\\omega t}|_{-\\infty}^{\\infty} + j\\omega \\int_{-\\infty}^{\\infty}x(t)e^{-j\\omega t} dt $\n",
    "\n",
    "$TF\\{x^{'}(t)\\}= j\\omega X(j\\omega)$\n",
    "\n",
    "De forma recorrente: $TF\\{x^{(n)}(t)\\} = (j\\omega)^nX(j\\omega)$"
   ]
  },
  {
   "cell_type": "markdown",
   "metadata": {
    "cell_style": "center",
    "slideshow": {
     "slide_type": "slide"
    }
   },
   "source": [
    "## Propriedade: Integral\n",
    "---\n",
    "Se $\\omega \\neq 0$:\n",
    "\n",
    "$TF\\{\\int_{-\\infty}^{t}x(\\tau)d\\tau\\}=\\frac{1}{j\\omega}X(j\\omega) $\n",
    "\n",
    "\n",
    "\n"
   ]
  },
  {
   "cell_type": "markdown",
   "metadata": {
    "cell_style": "center",
    "slideshow": {
     "slide_type": "fragment"
    }
   },
   "source": [
    "Justificativa:\n",
    "\n",
    "$ \\phi(t) = \\int_{-\\infty}^{t}x(\\tau)d\\tau \\  \\ :. \\ \\ \\phi^{'}(t)=x(t)  $\n",
    "\n",
    "$TF\\{\\phi^{'}(t)\\} = TF\\{x(t)\\} = j\\omega \\Phi(j\\omega)$\n",
    "\n",
    "$\\Phi(j\\omega)=\\frac{1}{j\\omega}X(j\\omega)$\n",
    "\n"
   ]
  },
  {
   "cell_type": "markdown",
   "metadata": {
    "cell_style": "center",
    "slideshow": {
     "slide_type": "slide"
    }
   },
   "source": [
    "## Propriedade: Multiplicação pela variável livre\n",
    "---\n",
    "\n",
    "$TF\\{-jtx(t)\\}=\\frac{d}{d\\omega}X(j\\omega)$\n",
    "\n"
   ]
  },
  {
   "cell_type": "markdown",
   "metadata": {
    "cell_style": "center",
    "slideshow": {
     "slide_type": "fragment"
    }
   },
   "source": [
    "Justificativa:\n",
    "\n",
    "$ X(j\\omega)=\\int_{-\\infty}^{\\infty}x(t)e^{-j\\omega t}dt$\n",
    "\n",
    "$\\frac{d}{d\\omega}X(j\\omega)=\\frac{d}{d\\omega}\\int_{-\\infty}^{\\infty}x(t)e^{-j\\omega t}dt $\n",
    "\n",
    "$\\frac{d}{d\\omega}X(j\\omega)=\\int_{-\\infty}^{\\infty}x(t)\\frac{d}{d\\omega}\\{e^{-j\\omega t}\\}dt $\n",
    "\n",
    "$\\frac{d}{d\\omega}X(j\\omega)=\\int_{-\\infty}^{\\infty}(-jtx(t))e^{-j\\omega t}dt $\n",
    "\n",
    "$ \\frac{d}{d\\omega}X(j\\omega)= TF\\{-jtx(t)\\} $"
   ]
  },
  {
   "cell_type": "markdown",
   "metadata": {
    "slideshow": {
     "slide_type": "slide"
    }
   },
   "source": [
    "## Propriedade: Convolução\n",
    "---\n",
    "\n",
    "$ TF\\{x_1(t)\\}=X_1(j\\omega)$\n",
    "\n",
    "$ TF\\{x_2(t)\\}=X_2(j\\omega)$\n",
    "\n",
    "$ TF\\{x_1(t)*x_2(t)\\}=X_1(j\\omega).X_2(j\\omega)$\n",
    "\n"
   ]
  },
  {
   "cell_type": "markdown",
   "metadata": {
    "slideshow": {
     "slide_type": "slide"
    }
   },
   "source": [
    "Justificativa:\n",
    "\n",
    "\n",
    "$$ TF\\{x_1(t)*x_2(t)\\} = \\int_{-\\infty}^{\\infty} \\color{red}{\\int_{-\\infty}^{\\infty}x_1(\\tau)x_2(t-\\tau)d\\tau}\\; e^{-j\\omega t} dt $$\n",
    "\n",
    "Mudando a ordem das integrais:\n",
    "\n",
    "$$ TF\\{x_1(t)*x_2(t)\\} = \\color{red}{\\int_{-\\infty}^{\\infty} x_1(\\tau)} \\int_{-\\infty}^{\\infty}\\color{red}{x_2(t-\\tau)}e^{-j\\omega t}dt \\color{red}{d\\tau} $$\n",
    "\n",
    "Usando a propriedade do deslocamento temporal:\n",
    "\n",
    "$ \\int_{-\\infty}^{\\infty}x_2(t-\\tau)e^{-j\\omega t}dt = X_2(\\omega)e^{-j\\omega \\tau} $ \n",
    "\n",
    "$\n",
    "\\begin{align}\n",
    "TF\\{x_1(t)*x_2(t)\\} & =  \\int_{-\\infty}^{\\infty}x_1(\\tau)X_2(\\omega)e^{-j\\omega \\tau} d\\tau\\\\\n",
    "                    & = X_2(\\omega)\\int_{-\\infty}^{\\infty}x_1(\\tau)e^{-j\\omega \\tau}d\\tau \\\\\n",
    "                    & = X_2(\\omega).X_1(\\omega) = X_1(\\omega).X_2(\\omega)\n",
    "\\end{align}$\n"
   ]
  },
  {
   "cell_type": "markdown",
   "metadata": {
    "slideshow": {
     "slide_type": "slide"
    }
   },
   "source": [
    "## Propriedade: Convolução\n",
    "---\n",
    "\n",
    "De forma equivalente mostra-se que\n",
    "\n",
    "$$ TF^{-1}\\{X_1(j\\omega)*X_2(j\\omega)\\}=x_1(t).x_2(t)$$\n",
    "\n"
   ]
  },
  {
   "cell_type": "markdown",
   "metadata": {
    "cell_style": "center",
    "slideshow": {
     "slide_type": "slide"
    }
   },
   "source": [
    "## Casos Especiais - Função Impulso\n",
    "\n",
    "$$ TF\\{\\delta(t)\\}=1 $$ \n",
    "\n"
   ]
  },
  {
   "cell_type": "markdown",
   "metadata": {
    "cell_style": "center",
    "slideshow": {
     "slide_type": "fragment"
    }
   },
   "source": [
    "Justificativa:\n",
    "\n",
    "i. aplicação da definição\n",
    "\n",
    "ii. uso das propriedades\n",
    "\n",
    "$$ x(t)*\\delta(t)=x(t)$$ \n",
    "\n",
    "$$ X(j\\omega)TF\\{\\delta(t)\\} = X(j\\omega)$$\n",
    "\n",
    "$$ TF\\{\\delta(t)\\} = 1 \\; \\text{ou} $$\n",
    "\n",
    "$$ TF^{-1}\\{1\\}=\\delta(t) $$"
   ]
  },
  {
   "cell_type": "markdown",
   "metadata": {
    "cell_style": "center",
    "slideshow": {
     "slide_type": "slide"
    }
   },
   "source": [
    "## Casos Especiais - Função Impulso\n",
    "---\n",
    "\n",
    "\n",
    "- Mostre que:\n",
    "\n",
    "$$\\delta(t)= \\frac{1}{2\\pi}\\int_{-\\infty}^{\\infty}e^{j\\omega t}d\\omega$$\n",
    "\n",
    "\n",
    "\n",
    "\n"
   ]
  },
  {
   "cell_type": "markdown",
   "metadata": {
    "cell_style": "center",
    "slideshow": {
     "slide_type": "fragment"
    }
   },
   "source": [
    "Justificativa\n",
    "\n",
    "$$ \\delta(t) = TF^{-1}\\{1\\}=\\frac{1}{2\\pi}\\int_{-\\infty}^{\\infty}1.e^{j\\omega t}d\\omega$$\n",
    "\n",
    "$$= \\frac{1}{2\\pi}\\int_{-\\infty}^{\\infty}e^{j\\omega t}d\\omega $$\n",
    "\n"
   ]
  },
  {
   "cell_type": "markdown",
   "metadata": {
    "cell_style": "center",
    "slideshow": {
     "slide_type": "slide"
    }
   },
   "source": [
    "## Casos Especiais - Função Impulso\n",
    "\n",
    "\n",
    "- Mostre que $$\\delta(t)=\\frac{1}{\\pi}\\int_{0}^{\\infty}\\cos(\\omega t)d\\omega$$\n"
   ]
  },
  {
   "cell_type": "markdown",
   "metadata": {
    "cell_style": "center",
    "slideshow": {
     "slide_type": "fragment"
    }
   },
   "source": [
    "\n",
    "Justificativa:\n",
    "\n",
    "$$ \\delta(t)=\\frac{1}{2\\pi}\\int_{-\\infty}^{\\infty}e^{j\\omega t}d\\omega = $$\n",
    "\n",
    "$$\\frac{1}{2\\pi}\\int_{-\\infty}^{\\infty}(cos(\\omega t)+jsen(\\omega t))d\\omega $$\n",
    "\n",
    "$sen(\\omega t)$ é ímpar. Logo:\n",
    "\n",
    "$$ \\delta(t) = \\frac{1}{\\pi}\\int_{0}^{\\infty}\\cos(\\omega t)d\\omega $$"
   ]
  },
  {
   "cell_type": "markdown",
   "metadata": {
    "slideshow": {
     "slide_type": "slide"
    }
   },
   "source": [
    "## De forma geral,\n",
    "\n",
    "$$ \\delta(y) = \\frac{1}{2\\pi}\\int_{-\\infty}^{\\infty}e^{jxy}dx$$\n",
    "\n",
    "$$ \\delta(y) = \\frac{1}{\\pi}\\int_{0}^{\\infty}\\cos(xy)dx$$"
   ]
  },
  {
   "cell_type": "markdown",
   "metadata": {
    "slideshow": {
     "slide_type": "slide"
    }
   },
   "source": [
    "## Casos Especais: TF da constante\n",
    "---\n",
    "\n",
    "- Determine a $ TF\\{1\\}$, $x(t)=1$\n",
    "\n"
   ]
  },
  {
   "cell_type": "markdown",
   "metadata": {
    "slideshow": {
     "slide_type": "fragment"
    }
   },
   "source": [
    "Justificativa\n",
    "\n",
    "$$ TF\\{1\\} = \\int_{-\\infty}^{\\infty}1.e^{-j\\omega t}dt = 2\\pi \\underbrace{\\frac{1}{2\\pi}\\int_{-\\infty}^{\\infty}e^{j(-\\omega)t}dt}_{\\text{$\\delta(-\\omega)$}} $$\n",
    "\n",
    "$$ TF\\left\\{1\\right\\} = 2\\pi\\delta(-\\omega) \\ \\ \\text{e como $\\delta(\\omega)=\\delta(-\\omega)$ (par)} \\rightarrow TF\\left\\{1\\right\\} = 2\\pi \\delta(\\omega) $$ \n",
    "\n",
    "$$ TF^{-1}\\left\\{2\\pi \\delta(\\omega)\\right\\} = 2\\pi\\frac{1}{2\\pi}\\int_{-\\infty}^{\\infty}\\delta(\\omega)e^{j\\omega}d\\omega = 1 $$ "
   ]
  },
  {
   "cell_type": "markdown",
   "metadata": {
    "slideshow": {
     "slide_type": "slide"
    }
   },
   "source": [
    "## Propriedade: Teor. Modulação\n",
    "---\n",
    "\n",
    "- Seja $X(j\\omega)=TF\\{x(t)\\}$, determine $TF\\{x(t)e^{j\\omega_0t}\\}$\n",
    "\n"
   ]
  },
  {
   "cell_type": "markdown",
   "metadata": {
    "slideshow": {
     "slide_type": "fragment"
    }
   },
   "source": [
    "Justificativa:\n",
    "\n",
    "$$ TF\\{x(t)e^{j\\omega_0t}\\} = \\int_{-\\infty}^{\\infty}x(t)e^{j\\omega_0t}e^{-j\\omega t}dt $$\n",
    "\n",
    "\n",
    "$$ TF\\{x(t)e^{j\\omega_0t}\\} = \\int_{-\\infty}^{\\infty}x(t)e^{-j(\\omega-\\omega_0)t}dt = X(\\omega-\\omega_0)$$\n"
   ]
  },
  {
   "cell_type": "markdown",
   "metadata": {
    "slideshow": {
     "slide_type": "slide"
    }
   },
   "source": [
    "## Propriedade: Teor. Modulação\n",
    "---\n",
    "- Determine $TF\\{x(t)cos\\omega_0 t\\}$\n",
    "\n",
    " "
   ]
  },
  {
   "cell_type": "markdown",
   "metadata": {
    "slideshow": {
     "slide_type": "fragment"
    }
   },
   "source": [
    "Justificativa:\n",
    "\n",
    "usando a relação de Euler\n",
    "\n",
    "$$ \\frac{1}{2}X(\\omega-\\omega_0)+\\frac{1}{2}X(\\omega+\\omega_0)$$\n"
   ]
  },
  {
   "cell_type": "markdown",
   "metadata": {
    "slideshow": {
     "slide_type": "slide"
    }
   },
   "source": [
    "## TF da exponencial complexa\n",
    "---\n",
    "- Determine $TF\\left\\{e^{j\\omega_0t}\\right\\}$\n",
    "\n"
   ]
  },
  {
   "cell_type": "markdown",
   "metadata": {
    "slideshow": {
     "slide_type": "fragment"
    }
   },
   "source": [
    "Justificativa:\n",
    "\n",
    "$$ TF\\{1\\}=\\delta(\\omega) $$ \n",
    "\n",
    "$$ TF\\{x(t)e^{j\\omega_0t}\\} = X(\\omega-\\omega_0)$$ Portanto, é possível concluir que\n",
    "\n",
    "$$ TF\\{e^{j\\omega_0t}\\}=2\\pi \\delta(\\omega-\\omega_0)$$ "
   ]
  },
  {
   "cell_type": "markdown",
   "metadata": {
    "slideshow": {
     "slide_type": "slide"
    }
   },
   "source": [
    "## TF das funções seno e cosseno\n",
    "---\n",
    "\n",
    "\n",
    "- Determine a TF para $cos(\\omega_0t)$ e $sen(\\omega_0t)$\n",
    "\n"
   ]
  },
  {
   "cell_type": "markdown",
   "metadata": {
    "slideshow": {
     "slide_type": "fragment"
    }
   },
   "source": [
    "Justificativa:\n",
    "\n",
    "\n",
    "$$ \\cos\\omega_0t = \\frac{1}{2}(e^{j\\omega_0t}+e^{-j\\omega_0t}) $$\n",
    "\n",
    "$$ TF\\{\\cos\\omega_0t\\} = \\frac{1}{2}TF\\{e^{j\\omega_0t}\\}+\\frac{1}{2}TF\\{e^{-j\\omega_0t}\\}$$ \n",
    "\n",
    "$$ TF\\{cos\\omega_0t\\} = \\pi\\delta(\\omega-\\omega_0)+\\pi\\delta(\\omega+\\omega_0)$$ \n",
    "\n",
    "De forma análoga:\n",
    "\n",
    "$$ TF\\{sen\\omega_0t\\} = \\frac{1}{2j}TF\\{e^{j\\omega_0t}\\}-\\frac{1}{2j}TF\\{e^{-j\\omega_0t}\\} $$\n",
    "\n",
    "$$ TF\\{sen\\omega_0t\\} = -j\\pi\\delta(\\omega-\\omega_0)+j\\pi\\delta(\\omega+\\omega_0) $$ "
   ]
  },
  {
   "cell_type": "markdown",
   "metadata": {
    "slideshow": {
     "slide_type": "slide"
    }
   },
   "source": [
    "## Interpretação da Série de Fourier\n",
    "\n",
    "\n",
    "![fig4.1.png](imagens/interpretacaoSF.jpg)"
   ]
  },
  {
   "cell_type": "markdown",
   "metadata": {
    "slideshow": {
     "slide_type": "slide"
    }
   },
   "source": [
    "## transformada de Fourier a partir da Série deFourier\n",
    "---\n",
    "### Função periódica\n",
    "\n",
    "### $x_{T_0}(t)$ é uma função periódica com período $T_0$ e seja $\\displaystyle{x(t)=\\lim_{T_0\\to \\infty}x_{T_0}(t)}$\n",
    "\n",
    "### $$ x_{T_0}(t)=\\sum_{k=-\\infty}^{\\infty}a_ke^{jk\\omega_0t}  \\;\\;\\;\\;\\;\\;\\;\\;\\;\\;(1) $$\n",
    "\n",
    "### $$ a_k=\\frac{1}{T_0}\\int_{-T_0/2}^{T_0/2}x_{T_0}(t)e^{-jk\\omega_0t}dt   \\;\\;\\;\\;\\;\\;\\;(2) $$\n",
    "\n"
   ]
  },
  {
   "cell_type": "markdown",
   "metadata": {
    "slideshow": {
     "slide_type": "slide"
    }
   },
   "source": [
    "### Substituindo (2) em (1):\n",
    "\n",
    "$$ x_{T_0}(t) = \\sum_{k=-\\infty}^{\\infty}\\left[\\frac{1}{T_0}\\int_{-T_0/2}^{T_0/2}x_{T_0}(u)e^{-jk\\omega_0u}du \\right]e^{jk\\omega_0t} $$\n",
    "\n",
    "### Como $\\omega_0 = \\frac{2\\pi}{T_0}$, $\\frac{1}{T_0}=\\frac{\\omega_0}{2\\pi}$. Substituindo:\n",
    "\n",
    "$$ x_{T_0}(t) = \\sum_{k=-\\infty}^{\\infty}\\frac{\\omega_0}{2\\pi}\\left[\\int_{-T_0/2}^{T_0/2}x_{T_0}(u)e^{-jk\\omega_0 u}du\\right]e^{jk\\omega_0t} =$$\n",
    "\n",
    "$$\\;\\;\\;\\;\\;\\;\\;=\\frac{1}{2\\pi}\\sum_{k=-\\infty}^{\\infty}\\left[\\int_{-T_0/2}^{T_0/2}x_{T_0}(u)e^{-jk\\omega_0 u}du\\right]e^{j\\omega_0 t}\\omega_0$$"
   ]
  },
  {
   "cell_type": "markdown",
   "metadata": {
    "slideshow": {
     "slide_type": "slide"
    }
   },
   "source": [
    "### Fazendo $T \\to \\infty$ tem-se $\\omega_0 \\to d\\omega$ e $k\\omega_0 \\to \\omega$.\n",
    "\n",
    "### $$ x(t)=\\frac{1}{2\\pi}\\sum_{k=-\\infty}^{\\infty}\\left[\\int_{-\\infty}^{\\infty}x(u)e^{-j\\omega u}du \\right]e^{j\\omega t}d\\omega $$ \n",
    "\n",
    "### Integral de Riemann $\\sum \\to \\int$\n",
    "\n",
    "$$ x(t)=\\frac{1}{2\\pi}\\int_{-\\infty}^{\\infty}\\underbrace{\\int_{-\\infty}^{\\infty}x(u)e^{-j\\omega u}du}_{X(j\\omega)} e^{j\\omega t} d\\omega $$\n",
    "\n",
    "\n",
    "$$\n",
    "\\begin{cases}\n",
    "\\displaystyle X(j\\omega) = \\int_{-\\infty}^{\\infty}x(t)e^{-j\\omega t}dt \\\\\n",
    "\\\\\n",
    "\\displaystyle x(t) = \\frac{1}{2\\pi}\\int_{-\\infty}^{\\infty}X(j\\omega)e^{j\\omega t}d\\omega\n",
    "\\end{cases} \n",
    "$$"
   ]
  }
 ],
 "metadata": {
  "celltoolbar": "Slideshow",
  "kernelspec": {
   "display_name": "Python 3 (ipykernel)",
   "language": "python",
   "name": "python3"
  },
  "language_info": {
   "codemirror_mode": {
    "name": "ipython",
    "version": 3
   },
   "file_extension": ".py",
   "mimetype": "text/x-python",
   "name": "python",
   "nbconvert_exporter": "python",
   "pygments_lexer": "ipython3",
   "version": "3.11.3"
  }
 },
 "nbformat": 4,
 "nbformat_minor": 4
}
