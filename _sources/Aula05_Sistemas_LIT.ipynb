{
 "cells": [
  {
   "cell_type": "markdown",
   "metadata": {
    "slideshow": {
     "slide_type": "slide"
    }
   },
   "source": [
    "# Sistemas Lineares e Invariantes no tempo - LTI\n",
    "---\n",
    "## Importância do estudo\n",
    "\n",
    "- Muitos sistemas físicos são bem modelados com LTI.\n",
    "- Existe conjunto de ferramentas matemáticas para caracterizá-los:\n",
    "\n",
    "    1- **Resposta ao impulso** e a **integral de convolução**;\n",
    "    \n",
    "    2- **Equações diferenciais lineares** com coeficientes constantes;"
   ]
  },
  {
   "cell_type": "markdown",
   "metadata": {
    "slideshow": {
     "slide_type": "slide"
    }
   },
   "source": [
    "## Revisões das propriedades de um sistema\n",
    "---\n",
    "### Sistema Linear e Invariante no tempo **LTI**:\n",
    "\n",
    "$$y(t) = H[x(t)] $$\n",
    "\n",
    "$$x(t) \\stackrel{H[.]}{\\rightarrow} y(t) $$\n",
    "\n",
    "### Para um sistema LTI são válidas as seguintes propriedades:\n",
    "\n",
    "- **Linearidade:** é válido o princípio da superposição:\n",
    "\n",
    "$$ H[a_1x_1(t)]+\\dots+a_M[x_M(t)] = a_1H[x_1(t)+\\dots+a_MH[x_M(t)] $$\n",
    "\n",
    "$$ y(T) = a_1y_1(t)+\\dots+a_My_M(t) $$\n",
    "\n",
    "- **Invariância no tempo:** Deslocamento na entrada $\\rightarrow$ deslocamento na saída:\n",
    "\n",
    "$$ y(t) = H[x(t)] \\to y(t-t_0) = H[x(t-t_0)] $$"
   ]
  },
  {
   "cell_type": "markdown",
   "metadata": {
    "slideshow": {
     "slide_type": "slide"
    }
   },
   "source": [
    "## Sistemas lineares e invariantes no tempo - LTI\n",
    "---\n",
    "### Definição\n",
    "Resposta ao impulso é o sinal de saída quando se aplica na entrada a função impulso unitário.<br>\n",
    "Denota-se essa resposta por h(t) ou h[n].\n",
    "\n",
    "### Sistemas LTI\n",
    "- Quando o sistema é LTI a resposta h(t) ou h[n] caracteriza totalmente o sistema.\n",
    "\n",
    "- Pode-se determinar a resposta do sistema para **qualquer** entrada."
   ]
  },
  {
   "cell_type": "markdown",
   "metadata": {
    "slideshow": {
     "slide_type": "slide"
    }
   },
   "source": [
    "## Convolução\n",
    "---\n",
    "\n",
    "A integral de convolução - tempo contínuo:\n",
    "\n",
    "$$ x(t) = \\int_{-\\infty}^{\\infty}x(\\tau)\\delta(t-\\tau)d\\tau $$\n",
    "\n",
    "$$ y(t) = T\\{x(t) \\} $$\n",
    "\n",
    "Considerando:\n",
    "- $h(t) = T\\{\\delta(t)\\}$\n",
    "\n",
    "- o sistema invariante no tempo, $T\\{\\delta(t-\\tau)\\} = h(t-\\tau)$\n",
    "\n"
   ]
  },
  {
   "cell_type": "markdown",
   "metadata": {
    "slideshow": {
     "slide_type": "slide"
    }
   },
   "source": [
    "\n",
    "$$ y(t) = T \\left\\{ \\int_{-\\infty}^{\\infty}x(\\tau)\\delta(t-\\tau)d\\tau \\right\\} $$\n",
    "\n",
    "$$ y(t) =  \\int_{-\\infty}^{\\infty}T\\{x(\\tau)\\delta(t-\\tau)\\}d\\tau $$\n",
    "\n",
    "$$ y(t) =  \\int_{-\\infty}^{\\infty}x(\\tau)T\\{\\delta(t-\\tau)\\}d\\tau $$\n",
    "\n",
    "$$ y(t) =  \\int_{-\\infty}^{\\infty}x(\\tau)h(t-\\tau)d\\tau \\equiv x(t)*h(t) $$"
   ]
  },
  {
   "cell_type": "markdown",
   "metadata": {
    "slideshow": {
     "slide_type": "slide"
    }
   },
   "source": [
    "## Interpretação gráfica"
   ]
  },
  {
   "cell_type": "markdown",
   "metadata": {
    "slideshow": {
     "slide_type": "slide"
    }
   },
   "source": [
    "### Convolução de duas exponenciais\n",
    "-------------\n",
    "\n",
    "\n",
    "![fig4.1.png](imagens/fig5.3.png)\n",
    "\n"
   ]
  },
  {
   "cell_type": "markdown",
   "metadata": {
    "slideshow": {
     "slide_type": "slide"
    }
   },
   "source": [
    "## Exemplos de convolução\n",
    "---\n",
    "\n",
    "\n",
    "![fig4.1.png](imagens/fig5.1.png)\n"
   ]
  },
  {
   "cell_type": "markdown",
   "metadata": {
    "slideshow": {
     "slide_type": "slide"
    }
   },
   "source": [
    "## Propriedades dos Sistemas LTI Contínuos\n",
    "---\n",
    "\n",
    "### Comutativa\n",
    "\n",
    "$$ x(t) ∗ h(t) = h(t) ∗ x(t) = \\int_{-\\infty}^{\\infty} h(\\tau)x(t-\\tau)d\\tau $$\n",
    "\n",
    "### Associativa \n",
    "\n",
    "$$ x(t) ∗ [h_1 (t) ∗ h_2 (t)] = [x(t) ∗ h_1 (t)] ∗ h_2 (t) $$\n",
    "\n",
    "### Distributiva\n",
    "\n",
    "$$ x(t) ∗ [h_1 (t) + h_2 (t)] = x(t) ∗ h_1 (t) + x(t) ∗ h_2 (t) $$\n",
    "\n",
    "\n",
    "![fig4.1.png](imagens/fig5.8.png)"
   ]
  },
  {
   "cell_type": "markdown",
   "metadata": {
    "slideshow": {
     "slide_type": "slide"
    }
   },
   "source": [
    "## Propriedades dos Sistemas LTI\n",
    "---\n",
    "\n",
    "### Inversibilidade\n",
    "\n",
    "![fig4.1.png](imagens/fig5.9.png)\n",
    "\n",
    "$$ y_i (t) = h(t) ∗ h_i (t) ∗ x(t) = x(t) $$\n",
    "\n",
    "$$ h(t) ∗ h i (t) = δ(t) $$\n",
    "\n",
    "\n",
    "![fig4.1.png](imagens/fig5.10.png)"
   ]
  },
  {
   "cell_type": "markdown",
   "metadata": {
    "slideshow": {
     "slide_type": "slide"
    }
   },
   "source": [
    "## Interpretação Gráfica da Integral de Convolução"
   ]
  },
  {
   "cell_type": "markdown",
   "metadata": {
    "slideshow": {
     "slide_type": "slide"
    }
   },
   "source": [
    "## Representação através da resposta ao impulso: A integral de convolução\n",
    "---\n",
    "\n",
    "- Definição:\n",
    "    - Resposta ao impulso de um sistema LTI é o sinal de saída quando aplica-se na entrada a função impulso unitário. Denota-se por h(t).\n",
    "    \n",
    "- Representação de uma função através da função \\delta(t):\n",
    "\n",
    "- Considere:\n",
    "\n",
    "    - x(t) um sinal qualquer;\n",
    "    \n",
    "    - Uma aproximação em $\\widehat x$ degraus em que cada degrau possa ser representado pelo seguinte pulso:\n",
    "\n",
    "$$\n",
    "\\delta_{\\Delta}(t) =\n",
    "\\begin{cases}\n",
    "\\displaystyle \\frac{1}{\\Delta\\tau}, 0 \\leq t < \\Delta\\tau \\\\\n",
    "\\\\\n",
    "\\displaystyle 0, c.c\n",
    "\\end{cases} \n",
    "$$\n"
   ]
  },
  {
   "cell_type": "markdown",
   "metadata": {
    "slideshow": {
     "slide_type": "slide"
    }
   },
   "source": [
    "## Representação em degraus de x(t)\n",
    "---\n",
    "\n",
    "\n",
    "\n",
    "![fig4.1.png](imagens/fig5.11t.png)\n",
    "\n",
    "Desde que $\\Delta\\tau\\delta_\\Delta$ tenha aplitude 1 então x(t) pode ser aproximada por:\n",
    "\n",
    "$$ \\widehat x = \\sum_{k=-\\infty}^{\\infty}x=(k\\Delta\\tau)\\delta_\\Delta(t-k\\Delta\\tau)\\Delta\\tau $$"
   ]
  },
  {
   "cell_type": "markdown",
   "metadata": {
    "slideshow": {
     "slide_type": "slide"
    }
   },
   "source": [
    "## Integral de convolução\n",
    "---\n",
    "\n",
    "- Seja h(t) a resposta de um sistema LTI ao impulso unitário:\n",
    "\n",
    "$\\delta(t) \\stackrel{H[.]}{\\rightarrow} h(t)$\n",
    "\n",
    "- Suponha que seja aplicado no sistema um sinal x(t) em que:\n",
    "    \n",
    "    - x(t) seja uma aproximação em degraus (como anteriormente), assim, para um instante particular $k\\Delta\\tau$ tem aplicado na entrada do sistema o seguinte pulso:\n",
    "    \n",
    "$$ x(k\\Delta\\tau)\\delta_\\Delta(t-k\\Delta\\tau)\\Delta\\tau $$\n",
    "\n"
   ]
  },
  {
   "cell_type": "code",
   "execution_count": 1,
   "metadata": {},
   "outputs": [],
   "source": [
    "from IPython.display import YouTubeVideo\n",
    "\n",
    "YouTubeVideo('acAw5WGtzuk', width=600, height=300)"
   ]
  },
  {
   "cell_type": "markdown",
   "metadata": {
    "slideshow": {
     "slide_type": "slide"
    }
   },
   "source": [
    "## Representação em degraus de x(t)\n",
    "---\n",
    "\n",
    "- Conforme $\\Delta\\tau \\rightarrow$ 0, a aproximação torna-se cada vez melhor.\n",
    "\n",
    "- No limite tem-se que:\n",
    "\n",
    "$$ x(t) = \\lim_{\\Delta\\tau\\to\\infty}\\sum_{k=-\\infty}^{\\infty}x(k\\Delta\\tau)\\delta_\\Delta(t-k\\Delta\\tau)\\Delta\\tau $$\n",
    "\n",
    "- No limite, note ainda que:\n",
    "\n",
    "    - $k\\Delta\\tau \\rightarrow$ um valor qualquer $\\tau$;\n",
    "    \n",
    "    - $\\delta_\\Delta \\rightarrow$ $\\delta(t)$ função impulso unitário;\n",
    "    \n",
    "    - $\\Delta\\tau \\rightarrow d\\tau$\n",
    "\n",
    "Portanto, a somatória torna-se uma integral do tipo:\n",
    "\n",
    "\\begin{equation} x(t) = \\int_{-\\infty}^{\\infty}x(\\tau)\\delta(t-\\tau)d\\tau \\end{equation}\n",
    "\n",
    "**$x(t)$ pode ser representado por uma soma de impulsos deslocados**"
   ]
  },
  {
   "cell_type": "markdown",
   "metadata": {
    "slideshow": {
     "slide_type": "slide"
    }
   },
   "source": [
    "## Integral de convolução\n",
    "---\n",
    "\n",
    "- Definindo:\n",
    "    - $\\widehat h(t)$ como a resposta do LTI ao pulso $\\delta_\\Delta(t)$, então a resposta do sistema ao pulso $x(k\\Delta\\tau)\\delta_\\Delta(t-k\\Delta\\tau)\\Delta\\tau$ será:\n",
    "\n",
    "$$ \\widehat y(t) = \\sum_{k=-\\infty}^{\\infty}x(k\\Delta\\tau)\\widehat h(t-k\\Delta\\tau)\\Delta\\tau $$\n",
    "\n",
    "**isto é, a saída é a soma de todas as contribuições individuais de cada pulso deslocado.**"
   ]
  },
  {
   "cell_type": "markdown",
   "metadata": {
    "slideshow": {
     "slide_type": "slide"
    }
   },
   "source": [
    "## Integral de convolução\n",
    "---\n",
    "\n",
    "- Novamente, conforme $\\Delta\\tau \\rightarrow 0$ a aproximação torna-se cada vez melhor.\n",
    "    - e no limite tem-se que:\n",
    "    \n",
    "$$ y(t) = \\int_{-\\infty}^{\\infty}x(\\tau)h(t-\\tau)d\\tau $$\n",
    "\n",
    "- a equação acima é conhecida como **integral de convolução** ou integral de superposição.\n",
    "\n",
    "- corresponde à representação de um sistema LTI em termos de sua resposta ao impulso **h(t)**.\n",
    "\n",
    "- ela é represemtada por: $y(t) = x(t) * h(t)$\n",
    "\n",
    "\n",
    "![fig4.1.png](imagens/fig5.12.png)"
   ]
  },
  {
   "cell_type": "markdown",
   "metadata": {
    "slideshow": {
     "slide_type": "slide"
    }
   },
   "source": [
    "## Propriedades de Sistemas LTI"
   ]
  },
  {
   "cell_type": "markdown",
   "metadata": {
    "slideshow": {
     "slide_type": "slide"
    }
   },
   "source": [
    "## Causalidade\n",
    "---\n",
    "\n",
    "- Um sistema é causal se a saída depende somente dos valores presentes ou passados da entrada.\n",
    "\n",
    "A seguinte condição deve ser satisfeita: h(t) = 0, t<0.\n",
    "\n",
    "Para a integral de convolução tem-se:\n",
    "\n",
    "$$ y(t) = \\int_{-\\infty}^{0^-}h(\\tau)x(t-\\tau)d\\tau + \\int_{0}^{\\infty}h(\\tau)x(t-\\tau)d\\tau $$\n",
    "\n",
    "### $\\Rightarrow$ sinais causais: $h(t) = 0$, $t<0$."
   ]
  },
  {
   "cell_type": "markdown",
   "metadata": {
    "slideshow": {
     "slide_type": "slide"
    }
   },
   "source": [
    "## Estabilidade\n",
    "---\n",
    "Um sistema é estável se para toda entrada limitada a saída também é limitada. (BIBO)\n",
    "\n",
    "Seja $|x(t)|\\leq M_x < \\infty$:\n",
    "\n",
    "$$|y(t)| = \\left| \\int_{-\\infty}^{\\infty} h(\\tau)x(t-\\tau)d\\tau \\right| \\leq \\int_{-\\infty}^{\\infty}|h(\\tau)| |x(t-\\tau)|d\\tau \\\\ \\leq M_x\\int_{-\\infty}^{\\infty}|h(\\tau)|d\\tau < \\infty  $$\n",
    "\n",
    "Portanto, $\\int_{-\\infty}^{\\infty}|h(\\tau)|d\\tau < \\infty$.\n",
    "\n",
    "$h(t)$ deve ser absolutamente somável"
   ]
  },
  {
   "cell_type": "markdown",
   "metadata": {
    "slideshow": {
     "slide_type": "slide"
    }
   },
   "source": [
    "## Resposta ao degrau unitário\n",
    "\n",
    "- Informações sobre o comportamento do sistema para mudanças abruptas no sinal.\n",
    "\n",
    "- Está relacionada com a resposta ao impulso.\n",
    "\n",
    "Seja: $s(t) = h(t) * u(t)$\n",
    "$$ s(t) =  \\int_{-\\infty}^{\\infty}h(\\tau)u(t-\\tau)d\\tau = \\int_{-\\infty}^{t}h(\\tau)u(t-\\tau)d\\tau + \\int_{t^+}^{\\infty}h(\\tau)u(t-\\tau)d\\tau $$\n",
    "\n",
    "Sabendo que $u(t-\\tau) = 1$ para $t \\geq \\tau$ e 0 c.c., então: $s(t) = \\int_{-\\infty}^{t}h(\\tau)d\\tau \\to h(t) = \\frac{d}{dt}s(t)$"
   ]
  },
  {
   "cell_type": "markdown",
   "metadata": {
    "slideshow": {
     "slide_type": "slide"
    }
   },
   "source": [
    "### Exemplo \n",
    "---\n",
    "\n",
    "- Encontre a resposta ao degrau unitário para um circuito RC tal que:\n",
    "\n",
    "$$ h(t) = \\frac{1}{RC}e^{-t/RC}u(t) $$\n",
    "\n",
    "$$ s(t) = \\int_{-\\infty}^{t} \\frac{1}{RC}e^{-\\tau/RC}u(\\tau)d\\tau = \\frac{1}{RC}\\int_{0}^{t} e^{-\\tau/RC}d\\tau = \\left[1 - e^{-t/RC}\\right]u(t) $$"
   ]
  },
  {
   "cell_type": "markdown",
   "metadata": {
    "slideshow": {
     "slide_type": "slide"
    }
   },
   "source": [
    "## Medida da resposta ao impulso\n",
    "---\n",
    "\n",
    "\n",
    "![fig4.1.png](imagens/fig5.13.png)"
   ]
  },
  {
   "cell_type": "markdown",
   "metadata": {
    "slideshow": {
     "slide_type": "slide"
    }
   },
   "source": [
    "## Excitação com onda quadrada\n",
    "---\n",
    "\n",
    "![fig4.1.png](imagens/fig5.14.png)"
   ]
  },
  {
   "cell_type": "markdown",
   "metadata": {
    "cell_style": "split",
    "slideshow": {
     "slide_type": "slide"
    }
   },
   "source": [
    "## Exemplo 1\n",
    "---\n",
    "\n",
    "\n",
    "\n",
    "![fig4.1.png](imagens/fig5.15.png)\n"
   ]
  },
  {
   "cell_type": "markdown",
   "metadata": {
    "cell_style": "split",
    "slideshow": {
     "slide_type": "fragment"
    }
   },
   "source": [
    "## Respostas da onda quadrada\n",
    "---\n",
    "\n",
    "\n",
    "![fig4.1.png](imagens/fig5.16.png)\n"
   ]
  },
  {
   "cell_type": "markdown",
   "metadata": {
    "cell_style": "center",
    "slideshow": {
     "slide_type": "slide"
    }
   },
   "source": [
    "## Diferenciação da resposta da onda quadrada\n",
    "---\n",
    "\n",
    "\n",
    "\n",
    "![fig4.1.png](imagens/fig5.17.png)\n"
   ]
  },
  {
   "cell_type": "markdown",
   "metadata": {
    "cell_style": "split",
    "slideshow": {
     "slide_type": "slide"
    }
   },
   "source": [
    "## Exemplo 2\n",
    "---\n",
    "\n",
    "\n",
    "![fig4.1.png](imagens/fig5.18.png)"
   ]
  },
  {
   "cell_type": "markdown",
   "metadata": {
    "cell_style": "split",
    "slideshow": {
     "slide_type": "fragment"
    }
   },
   "source": [
    "## Resposta da onda quadrada\n",
    "---\n",
    "\n",
    "![fig4.1.png](imagens/fig5.19.png)"
   ]
  },
  {
   "cell_type": "markdown",
   "metadata": {
    "slideshow": {
     "slide_type": "slide"
    }
   },
   "source": [
    "## Resposta diferenciada\n",
    "---\n",
    "\n",
    "\n",
    "\n",
    "![fig4.1.png](imagens/fig5.20.png)"
   ]
  },
  {
   "cell_type": "markdown",
   "metadata": {
    "cell_style": "split",
    "slideshow": {
     "slide_type": "slide"
    }
   },
   "source": [
    "## Exemplo 3\n",
    "---\n",
    "\n",
    "- Algoritmo para determinação do amortecimento de materiais cerâmicos pela técnica das frequências naturais de vibração via excitação por impulso\n",
    "\n",
    "### Set-up experimental\n",
    "\n",
    "\n",
    "![fig4.1.png](imagens/fig5.21.png)"
   ]
  },
  {
   "cell_type": "markdown",
   "metadata": {
    "cell_style": "split",
    "slideshow": {
     "slide_type": "fragment"
    }
   },
   "source": [
    "## Resposta ao impulso\n",
    "---\n",
    "\n",
    "![fig4.1.png](imagens/fig5.22.png)\n"
   ]
  },
  {
   "cell_type": "markdown",
   "metadata": {
    "cell_style": "split",
    "slideshow": {
     "slide_type": "slide"
    }
   },
   "source": [
    "## Resposta ao impulso em salas\n",
    "---\n",
    "\n",
    "![fig4.1.png](imagens/fig5.23.png)"
   ]
  },
  {
   "cell_type": "markdown",
   "metadata": {
    "cell_style": "split",
    "slideshow": {
     "slide_type": "fragment"
    }
   },
   "source": [
    "## Reverberação\n",
    "---\n",
    "\n",
    "- As intensidades dos ecos são sensiveis à geometria dos ambientes e ao materiais que o compõem.\n",
    "\n",
    "- A reverberação é um processo linear e invariante no tempo e, sendo assim, caracterizado pela resposta ao impulso.\n",
    "\n",
    "![fig4.1.png](imagens/fig5.24.png)"
   ]
  },
  {
   "cell_type": "markdown",
   "metadata": {
    "slideshow": {
     "slide_type": "slide"
    }
   },
   "source": [
    "## Sistemas Discretos"
   ]
  },
  {
   "cell_type": "markdown",
   "metadata": {
    "slideshow": {
     "slide_type": "slide"
    }
   },
   "source": [
    "## Convolução\n",
    "---\n",
    "\n",
    "### A soma de convolução - tempo discreto\n",
    "\n",
    "Sabendo que:\n",
    "\n",
    "$$ x[n] = \\sum_{k=-\\infty}^{\\infty}x[k]\\delta[n-k] $$\n",
    "\n",
    "Tem-se\n",
    "\n",
    "$$ y[n] = T\\left\\{ \\sum_{k=-\\infty}^{\\infty}x[k]\\delta[n-k]\\right\\} $$\n",
    "\n",
    "$$ y=[n] = \\sum_{k=-\\infty}^{\\infty}x[k]T\\delta[n-k] = \\sum_{k=-\\infty}^{\\infty}x[k]h[n-k] \\equiv x[n]*h[n] $$"
   ]
  },
  {
   "cell_type": "markdown",
   "metadata": {
    "slideshow": {
     "slide_type": "slide"
    }
   },
   "source": [
    "##  Comutativa\n",
    "---\n",
    "$$ x[n]*h[n] = h[n]*x[n] $$\n",
    "\n",
    "![fig4.1.png](imagens/fig5.4.png)"
   ]
  },
  {
   "cell_type": "markdown",
   "metadata": {
    "slideshow": {
     "slide_type": "slide"
    }
   },
   "source": [
    "## Distributiva\n",
    "---\n",
    "$$ y[n] = x[n]*(h_1[n]+h_2[n]) = x[n]*h_1[n]+x[n]*h_2[n] $$\n",
    "\n",
    "### Sistemas em paralelo\n",
    "\n",
    "![fig4.1.png](imagens/fig5.5.png)"
   ]
  },
  {
   "cell_type": "markdown",
   "metadata": {
    "slideshow": {
     "slide_type": "slide"
    }
   },
   "source": [
    "## Sistemas equivalentes\n",
    "---\n",
    "\n",
    "- Caso paralelo: $h_{eq} = h_1[n] + h_2[n$\n",
    "\n",
    "![fig4.1.png](imagens/fig5.6.png)\n",
    "\n",
    "- Caso série: $h_{eq} = h_1[n]*h_2[n]$\n",
    "\n",
    "![fig4.1.png](imagens/fig5.7.png)"
   ]
  },
  {
   "cell_type": "markdown",
   "metadata": {
    "slideshow": {
     "slide_type": "slide"
    }
   },
   "source": [
    "## Estabilidade\n",
    "---\n",
    "\n",
    "- Sistemas LIT são estáveis se e somente se:\n",
    "\n",
    "$$ \\sum_{k=-\\infty}^{\\infty}|h(k)|<\\infty $$\n",
    "\n",
    "Justificativa:\n",
    "\n",
    "$$ |y[n]| = \\left|\\sum_{k=-\\infty}^{\\infty} h[n]x[n-k] \\right| \\leq \\sum_{k=-\\infty}^{\\infty} |h[n]| |x[n-k]| $$\n",
    "\n",
    "Se $x[n]$ é limitado ($x[n] \\leq B_x$) então\n",
    "\n",
    "$$ B_x \\geq \\sum_{k=-\\infty}^{\\infty}|h(k)| $$"
   ]
  },
  {
   "cell_type": "markdown",
   "metadata": {
    "slideshow": {
     "slide_type": "slide"
    }
   },
   "source": [
    "## Causalidade\n",
    "---\n",
    "\n",
    "- Sistemas LIT são causais se somente se $h[n = 0$, $n<0$.\n",
    "\n",
    "Justificativa:\n",
    "\n",
    "$$ y(n_0) = \\sum_{k=-\\infty}^{\\infty} h(k)x(n_0-k) $$\n",
    "\n",
    "$$ = \\sum_{k=0}^{\\infty} h(k)x(n_0-k) + \\sum_{k=-\\infty}^{-1} h(k)x(n_0-k) $$\n",
    "\n",
    "O primeiro somatório corresponde aos valores correntes e passados do sinal de entrada. Por outro lado, o segundo somatório envolve os sinais em tempos futuros. Para que a saída $y(\\mu_0$) dependa apenas dos valores $n \\leq n_0$ a resposta impulsiva do sistema deverá ter $h(n) = 0$, $n < 0$."
   ]
  },
  {
   "cell_type": "code",
   "execution_count": 17,
   "metadata": {},
   "outputs": [],
   "source": [
    "import numpy as np\n",
    "import matplotlib.pyplot as plt"
   ]
  },
  {
   "cell_type": "code",
   "execution_count": 18,
   "metadata": {},
   "outputs": [],
   "source": [
    "f1 = lambda t: np.maximum(0, 1-abs(t))\n",
    "f2 = lambda t: (t>0) * np.exp(-2*t)"
   ]
  },
  {
   "cell_type": "markdown",
   "metadata": {},
   "source": [
    "O gráfico das duas funções"
   ]
  },
  {
   "cell_type": "code",
   "execution_count": 19,
   "metadata": {},
   "outputs": [],
   "source": [
    "Fs = 50  \n",
    "T = 5    \n",
    "t = np.arange(-T, T, 1/Fs)  "
   ]
  },
  {
   "cell_type": "code",
   "execution_count": 20,
   "metadata": {},
   "outputs": [],
   "source": [
    "plt.plot(t, f1(t), label='$f_1(t)$')\n",
    "plt.plot(t, f2(t), label='$f_2(t)$')"
   ]
  },
  {
   "cell_type": "code",
   "execution_count": 21,
   "metadata": {},
   "outputs": [],
   "source": [
    "from IPython.core.display import HTML\n",
    "import scipy.integrate\n",
    "\n",
    "t0 = 1\n",
    "flipped = lambda tau: f2(t0-tau)\n",
    "product = lambda tau: f1(tau)*f2(t0-tau)\n",
    "\n",
    "plt.figure(figsize=(8,3))\n",
    "plt.plot(t, f1(t), label=r'$f_1(\\tau)$')\n",
    "plt.plot(t, flipped(t), label=r'$f_2(t_0-\\tau)$')\n",
    "plt.plot(t, product(t), label=r'$f_1(\\tau)f_2(t_0-\\tau)$')\n",
    "\n",
    "\n",
    "display(HTML(\"Resultado da convolução: $f_1(t)*f_2(t)|_{t_0=%.0f} = %.2f$\" % (t0, scipy.integrate.simps(product(t), t))))\n"
   ]
  },
  {
   "cell_type": "markdown",
   "metadata": {},
   "source": [
    "Como vemos, a curva verde $f_2(t_0−\\tau)$ foi deslocada por $t_0$\n",
    "\n",
    "para a direita e, em seguida, espelhado horizontalmente. O valor da integral de convolução corresponde à área sombreada em vermelho, que é o produto de ambas as curvas.\n",
    "\n",
    "Podemos agora escrever uma pequena função que ilustra a integral de convolução para diferentes deslocamentos no tempo."
   ]
  },
  {
   "cell_type": "code",
   "execution_count": 22,
   "metadata": {},
   "outputs": [],
   "source": [
    "def showConvolution(f1, f2, t0):\n",
    "    convolution = np.zeros(len(t))\n",
    "    for n, t_ in enumerate(t):\n",
    "        prod = lambda tau: f1(tau) * f2(t_-tau)\n",
    "        convolution[n] = scipy.integrate.simps(prod(t), t)\n",
    "    \n",
    "    f_shift = lambda t: f2(t0-t)\n",
    "    prod = lambda tau: f1(tau) * f2(t0-tau)\n",
    "   \n",
    "    plt.subplot(211)\n",
    "    plt.plot(t, f1(t), label=r'$f_1(\\tau)$')\n",
    "    plt.plot(t, f_shift(t), label=r'$f_2(t_0-\\tau)$')\n",
    "    plt.plot(t, prod(t), 'r-', label=r'$f_1(\\tau)f_2(t_0-\\tau)$')\n",
    "    \n",
    "   \n",
    "    plt.subplot(212)\n",
    "    plt.plot(t, convolution, label='$(f_1*f_2)(t)$')\n",
    "    \n",
    "    current_value = scipy.integrate.simps(prod(t), t)\n",
    "    plt.plot(t0, current_value, 'ro')  # plot the point"
   ]
  },
  {
   "cell_type": "code",
   "execution_count": 16,
   "metadata": {},
   "outputs": [],
   "source": [
    "showConvolution(f1, f2, t0)"
   ]
  }
 ],
 "metadata": {
  "celltoolbar": "Slideshow",
  "kernelspec": {
   "display_name": "Python 3 (ipykernel)",
   "language": "python",
   "name": "python3"
  },
  "language_info": {
   "codemirror_mode": {
    "name": "ipython",
    "version": 3
   },
   "file_extension": ".py",
   "mimetype": "text/x-python",
   "name": "python",
   "nbconvert_exporter": "python",
   "pygments_lexer": "ipython3",
   "version": "3.11.3"
  }
 },
 "nbformat": 4,
 "nbformat_minor": 4
}
