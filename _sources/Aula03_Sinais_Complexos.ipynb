{
 "cells": [
  {
   "cell_type": "markdown",
   "metadata": {},
   "source": [
    "# Impulso, Sinais Complexos e Amostragem"
   ]
  },
  {
   "cell_type": "markdown",
   "metadata": {
    "cell_style": "split",
    "slideshow": {
     "slide_type": "slide"
    }
   },
   "source": [
    "## Definição de Funções\n",
    "---\n",
    "Considere dois conjuntos: o conjunto **X** com elemento $x$ e o conjunto **Y** com elementos $y$.\n",
    "\n",
    "- f: **X** $\\rightarrow$ **Y**\n",
    "\n",
    "diz-se que a função f de **X** em **Y** que relaciona cada elemento $x$ em **X**, um único elemento $y = f(x)$ em **Y**.\n",
    "\n",
    "![image.png](imagens/DefFuncao.png)"
   ]
  },
  {
   "cell_type": "markdown",
   "metadata": {
    "cell_style": "split",
    "slideshow": {
     "slide_type": "fragment"
    }
   },
   "source": [
    "![imagem2.png](imagens/functions.jpg)\n",
    "\n",
    "\n",
    "$$ t \\in \\!R $$\n",
    "\n",
    "$$ x(t) \\in \\!R \\text{  ou  } \\!C $$"
   ]
  },
  {
   "cell_type": "code",
   "execution_count": null,
   "metadata": {
    "slideshow": {
     "slide_type": "slide"
    }
   },
   "outputs": [],
   "source": []
  },
  {
   "cell_type": "markdown",
   "metadata": {
    "cell_style": "split",
    "slideshow": {
     "slide_type": "slide"
    }
   },
   "source": [
    "## Funções Básicas\n",
    "---\n",
    "\n",
    "### Função degrau unitário\n",
    "\n",
    "$\n",
    "u(t)=\n",
    "\\begin{cases}\n",
    "\\displaystyle 1, t\\geq 0 \\\\\n",
    "\\\\\n",
    "\\displaystyle 0, t<0\n",
    "\\end{cases} \n",
    "$\n"
   ]
  },
  {
   "cell_type": "markdown",
   "metadata": {
    "cell_style": "split",
    "slideshow": {
     "slide_type": "fragment"
    }
   },
   "source": [
    "![imagem2.png](imagens/degrau.png)"
   ]
  },
  {
   "cell_type": "code",
   "execution_count": null,
   "metadata": {
    "slideshow": {
     "slide_type": "slide"
    }
   },
   "outputs": [],
   "source": []
  },
  {
   "cell_type": "markdown",
   "metadata": {
    "cell_style": "split",
    "slideshow": {
     "slide_type": "slide"
    }
   },
   "source": [
    "### Função impulso unitário\n",
    "\n",
    "$\\delta(t) = 0$, $\\forall$ $t \\neq 0$\n",
    "\n",
    "$\\int_{-\\infty}^{\\infty}\\delta(t)dt = 1$\n"
   ]
  },
  {
   "cell_type": "markdown",
   "metadata": {
    "cell_style": "split",
    "slideshow": {
     "slide_type": "fragment"
    }
   },
   "source": [
    "![imagem2.png](imagens/impulso.png)"
   ]
  },
  {
   "cell_type": "markdown",
   "metadata": {
    "slideshow": {
     "slide_type": "slide"
    }
   },
   "source": [
    "## Interpretação da função $\\delta(t)$\n",
    "---\n",
    "\n",
    "![image.png](imagens/InterpretacaoImpulso.png)"
   ]
  },
  {
   "cell_type": "markdown",
   "metadata": {
    "cell_style": "split",
    "slideshow": {
     "slide_type": "slide"
    }
   },
   "source": [
    "## Propriedades da função $\\delta(t)$\n",
    "\n",
    "- A função impulso é par: \n",
    "    - $\\delta(t)$ = $\\delta(-t)$\n",
    "\n",
    "- Mudança de escala: \n",
    "    - $\\delta(at)$ = $\\frac{1}{a}\\delta(t)$\n",
    "\n",
    "- Multiplicação por uma função: \n",
    "    - $\\int_{-\\infty}^{\\infty}x(t)\\delta(t-t_{0})dt = x(t_{0})$\n",
    "\n"
   ]
  },
  {
   "cell_type": "markdown",
   "metadata": {
    "cell_style": "split",
    "slideshow": {
     "slide_type": "fragment"
    }
   },
   "source": [
    "- Multiplicação por uma função (de modo informal):\n",
    "    - $x(t)\\delta(t-t_{0}) = x(t_{0})\\delta(t-t_{0})$\n",
    "\n",
    "- Função degrau unitário como função da função impulso:\n",
    "    -$u(t) = \\int_{-\\infty}^{t}\\delta(\\tau)d\\tau = \\int_{0}^{\\infty}\\delta(t-\\tau)d\\tau$\n",
    "\n",
    "- Função trem de impulsos:\n",
    "    - $\\delta_{T}(t) = \\sum_{k=-\\infty}^{\\infty}\\delta(t-kT)$\n"
   ]
  },
  {
   "cell_type": "markdown",
   "metadata": {
    "cell_style": "split",
    "slideshow": {
     "slide_type": "slide"
    }
   },
   "source": [
    "## Sinais Complexos\n",
    "---\n",
    "\n",
    "![image.png](imagens/SinalComplexo.png)"
   ]
  },
  {
   "cell_type": "markdown",
   "metadata": {
    "cell_style": "split",
    "slideshow": {
     "slide_type": "fragment"
    }
   },
   "source": [
    "## Relação de Euler\n",
    "\n",
    "$$ e^{j\\theta} = \\cos\\theta + j\\sin\\theta  $$\n",
    "\n",
    "$$ e^{j\\omega t} = \\cos(\\omega t) + j\\sin(\\omega t)  $$"
   ]
  },
  {
   "cell_type": "markdown",
   "metadata": {
    "cell_style": "center",
    "slideshow": {
     "slide_type": "slide"
    }
   },
   "source": [
    "## Circuito para gerar Sinais Complexos\n",
    "---\n",
    "\n",
    "![image.png](imagens/CircuitoSinalComplexo.png)"
   ]
  },
  {
   "cell_type": "markdown",
   "metadata": {
    "slideshow": {
     "slide_type": "slide"
    }
   },
   "source": []
  },
  {
   "cell_type": "markdown",
   "metadata": {
    "cell_style": "split",
    "slideshow": {
     "slide_type": "slide"
    }
   },
   "source": [
    "## Sinais Amortecidos\n",
    "\n",
    "$$ x(t) = e^{st} $$\n",
    "\n",
    "$$ s = \\sigma + j\\omega \\to x(t) = \\underbrace{e^{\\sigma t}}_{exponencial}\\overbrace{e^{j\\omega t}}^{periódico} $$"
   ]
  },
  {
   "cell_type": "markdown",
   "metadata": {
    "cell_style": "split",
    "slideshow": {
     "slide_type": "fragment"
    }
   },
   "source": [
    "![imagem2.png](imagens/damped.png)"
   ]
  },
  {
   "cell_type": "markdown",
   "metadata": {
    "slideshow": {
     "slide_type": "slide"
    }
   },
   "source": [
    "## Amostragem\n",
    "---\n",
    "\n",
    "![image.png](imagens/amostragem.png)"
   ]
  },
  {
   "cell_type": "markdown",
   "metadata": {
    "slideshow": {
     "slide_type": "slide"
    }
   },
   "source": [
    "## Sinais em tempo discreto\n",
    "---\n",
    "\n",
    "### Amostragem periódica\n",
    "\n",
    "![image.png](imagens/TempoContinuoDiscreto.png)"
   ]
  },
  {
   "cell_type": "markdown",
   "metadata": {
    "slideshow": {
     "slide_type": "slide"
    }
   },
   "source": [
    "## Sinais em tempo discreto\n",
    "---\n",
    "\n",
    "\n",
    "- Uma seqüência de números $x$, na qual o n-ésimo número da seqüência é denotado por $x[n]$ pode ser descrito como: $x = x[n]$, $-\\infty < n < \\infty$\n",
    "\n",
    "- Em situações práticas, as seqüências são geradas a partir da amostragem periódica de um sinal contínuo no tempo. Neste caso, o valor numérico do n-ésimo número da seqüência é igual ao valor do sinal analógico $x_a(t)$ no tempo $nT$: \n",
    "    - $x[n] = x_a(nT), -\\infty < n < \\infty$\n",
    "\n",
    "- O valor de $T$ é conhecido como período de amostragem e 1/T é a frequência de amostragem."
   ]
  },
  {
   "cell_type": "markdown",
   "metadata": {
    "slideshow": {
     "slide_type": "slide"
    }
   },
   "source": [
    "## Amostragem\n",
    "---\n",
    "\n",
    "- A teoria da Amostragem é a base matemática para se obter um sinal $x[n]$ discreto no tempo a partir de um sinal $x(t)$ contínuo no tempo.\n",
    "\n",
    "- A obtenção de uma sequência de amostras $x(n)$ a partir de um sinal $x(t)$ contínuo no tempo pode ser representada pela seguinte relação:\n",
    "    - $x[n] = x(t)|_{t=nT_a} = x(nT_a)$\n",
    "    \n",
    "    Em que:\n",
    "        - $n$ é um numero inteiro;\n",
    "        - $T_a$ é o período de amostragem do sinal;\n",
    "        - $F_a = 1/T_a$ é a frequência de amostragem.\n",
    "        \n",
    "- Na prática a operação de amostragem é executada por um conversor AD (analógico-digital) que inclui também a quantização das amplitudes das amostras.\n"
   ]
  },
  {
   "cell_type": "markdown",
   "metadata": {
    "slideshow": {
     "slide_type": "slide"
    }
   },
   "source": [
    "## Sinais discretos\n",
    "---\n",
    "\n",
    "### Exemplo de Sequência\n",
    "\n",
    "![image.png](imagens/ExSinalTempoDiscreto.png)"
   ]
  },
  {
   "cell_type": "markdown",
   "metadata": {
    "slideshow": {
     "slide_type": "slide"
    }
   },
   "source": [
    "## Representação Matemática\n",
    "---\n",
    "\n",
    "![image.png](imagens/Amostragem.png)\n",
    "\n",
    "- O sinal $s(t)$ é um trem de impulsos periódicos tal que:\n",
    "    $s(t) = \\sum_{-\\infty}^{\\infty}\\delta(t-nT_a)$\n",
    "    \n",
    "- Como o sinal amostrado é o produto de s(t) por x(t), então:\n",
    "    $x_a(t) = x(nT_a) = x(t)s(t) = \\sum_{-\\infty}^{\\infty}x(t)\\delta(t-nT_a)$"
   ]
  },
  {
   "cell_type": "markdown",
   "metadata": {
    "slideshow": {
     "slide_type": "slide"
    }
   },
   "source": [
    "## Operações com sinais em tempo discreto\n",
    "---\n",
    "\n",
    "- O produto e a soma de 2 seqüências $x[n]$ e $y[n]$ são definidos amostra por amostra.\n",
    "\n",
    "- A multiplicação de $x[n]$ e $\\alpha$ é definida como a multiplicação de todos os elementos de $x[n]$ por $\\alpha$.\n",
    "\n",
    "- A sequência $y[n]$ é dita atrasada com relação a $x[n]$ se:\n",
    "\\begin{equation}\n",
    "y[n] = x[n-n_0]\n",
    "\\end{equation}\n",
    "    $n_0 > 0$ ATRASO\n",
    "    \n",
    "    $n_0 < 0$ AVANÇO\n",
    "    \n",
    "    $n_0$ é um valor inteiro"
   ]
  },
  {
   "cell_type": "markdown",
   "metadata": {
    "slideshow": {
     "slide_type": "slide"
    }
   },
   "source": [
    "## Sinais discretos\n",
    "---\n",
    "\n",
    "### Operações com sequências\n",
    "\n",
    "- Reversão no tempo $$y[n] = x[-n]$$\n"
   ]
  },
  {
   "cell_type": "markdown",
   "metadata": {
    "slideshow": {
     "slide_type": "slide"
    }
   },
   "source": [
    "## Sinais discretos\n",
    "---\n",
    "\n",
    "### Sinais especiais\n",
    "\n",
    "- Impulso unitário: $\\delta[n]$\n",
    "\n",
    "\\begin{equation}\n",
    "\\delta[n] =\n",
    "\\begin{cases}\n",
    "\\displaystyle 0, n \\neq 0 \\\\\n",
    "\\\\\n",
    "\\displaystyle 1, n = 0\n",
    "\\end{cases} \n",
    "\\end{equation}\n",
    "\n",
    "- Degrau unitário: $u[n]$\n",
    "\n",
    "\\begin{equation}\n",
    "u[n] =\n",
    "\\begin{cases}\n",
    "\\displaystyle 0, n < 0 \\\\\n",
    "\\\\\n",
    "\\displaystyle 1, n \\geq 0\n",
    "\\end{cases} \n",
    "\\end{equation}"
   ]
  },
  {
   "cell_type": "markdown",
   "metadata": {
    "slideshow": {
     "slide_type": "slide"
    }
   },
   "source": [
    "## Sinais discretos\n",
    "---\n",
    "\n",
    "### Sinais especiais\n",
    "\n",
    "- Exponencial: $x[n] = A\\alpha^n$\n",
    "\n",
    "\n",
    "- Senoidal: $x[n] = Acos(\\omega n + \\phi)$\n",
    "\n",
    "Onde $\\omega$ e $\\phi$ são valores reais e $n$ é inteiro."
   ]
  }
 ],
 "metadata": {
  "celltoolbar": "Slideshow",
  "kernelspec": {
   "display_name": "Python 3 (ipykernel)",
   "language": "python",
   "name": "python3"
  },
  "language_info": {
   "codemirror_mode": {
    "name": "ipython",
    "version": 3
   },
   "file_extension": ".py",
   "mimetype": "text/x-python",
   "name": "python",
   "nbconvert_exporter": "python",
   "pygments_lexer": "ipython3",
   "version": "3.11.3"
  }
 },
 "nbformat": 4,
 "nbformat_minor": 4
}
