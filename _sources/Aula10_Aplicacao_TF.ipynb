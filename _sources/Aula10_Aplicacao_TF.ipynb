{
 "cells": [
  {
   "cell_type": "markdown",
   "metadata": {},
   "source": [
    "# Apliacação de TFourier"
   ]
  },
  {
   "cell_type": "markdown",
   "metadata": {
    "slideshow": {
     "slide_type": "slide"
    }
   },
   "source": [
    "## 1. Revisão de Série de Fourier\n",
    "\n",
    "## 2. Amostragem"
   ]
  },
  {
   "cell_type": "markdown",
   "metadata": {
    "slideshow": {
     "slide_type": "slide"
    }
   },
   "source": [
    "## Séries de Fourier\n",
    "---\n",
    "\n",
    "### Representação\n",
    "\n",
    "Anteriormente foi apresentado dois tipos de sinais periódicos:\n",
    "\n",
    "$$ cos(\\omega_0t) \\rightarrow \\text{sinal senoidal} $$\n",
    "\n",
    "$$ e^{j\\omega_0t} = cos(\\omega_0t) + jsen(\\omega_0t) $$\n",
    "\n",
    "Conjunto de exponenciais complexas relacionadas harmonicamente:\n",
    "\n",
    "$$\\phi_k(t) = e^{jk\\omega_0t}, \\ \\ k=0, \\pm 1, \\pm 2, \\dots $$\n",
    "\n",
    "$$ w_k = |k|\\omega_0 \\rightarrow \\text{frequência de cada harmônico} $$\n",
    "\n",
    "$$ T_k = \\frac{T_0}{|k|} \\rightarrow \\text{período de cada harmônico} $$"
   ]
  },
  {
   "cell_type": "markdown",
   "metadata": {
    "slideshow": {
     "slide_type": "slide"
    }
   },
   "source": [
    "## Séries de Fourier\n",
    "---\n",
    "\n",
    "### Representação \n",
    "\n",
    "Uma combinação linear do conjunto de sinais periódico pode ser escrita da seguinte maneira:\n",
    "\n",
    "$$ x(t) = \\sum_{k=-\\infty}^{\\infty} a_ke^{jk\\omega_0t} $$\n",
    "\n",
    "Série de Fourier para sinais periódicos:\n",
    "\n",
    "$$ a_k = A_k e^{j\\Phi_k} \\rightarrow \\text{coeficiente da série} \\rightarrow \\text{complexos} $$\n",
    "\n",
    "$$ k=0 \\rightarrow \\text{termo constante ou dc} $$\n",
    "\n",
    "$$ k=1 \\rightarrow \\omega_0 \\rightarrow \\text{primeiro harmônico (freq. fundamental)} $$\n",
    "\n",
    "$$ k = 2 \\rightarrow \\text{segundo harmônico} $$"
   ]
  },
  {
   "cell_type": "markdown",
   "metadata": {
    "slideshow": {
     "slide_type": "slide"
    }
   },
   "source": [
    "## Séries de Fourier\n",
    "---\n",
    "\n",
    "### Exemplo\n",
    "\n",
    "$$ x(t) = \\sum_{k=-3}^{3}a_k e^{jk\\omega_0t}, \\omega_0 = 2\\pi $$\n",
    "\n",
    "$$ a_0=\\frac{1}{2}, a_1=a_{\\_1}=\\frac{1}{4}, a_2=a_{\\_2}=\\frac{1}{2}, a_3=a_{\\_3}=\\frac{1}{3}$$\n",
    "\n",
    "Expandindo a equação acima e agrupando os sinais de mesma frequência tem-se:\n",
    "\n",
    "$$ x(t) = \\frac{1}{2}+\\frac{1}{4}\\left(e^{j2\\pi t}+e^{-j2\\pi t} \\right)+ \\frac{1}{2}\\left(e^{j4\\pi t}+e^{-j4\\pi t} \\right)+ \\frac{1}{3}\\left(e^{j6\\pi t}+e^{-j6\\pi t} \\right) $$\n",
    "\n",
    "$$x(t) = \\frac{1}{2} + \\frac{1}{2}cos(2\\pi t)+cos(4\\pi t)+\\frac{2}{3}cos(6\\pi t) $$"
   ]
  },
  {
   "cell_type": "markdown",
   "metadata": {
    "slideshow": {
     "slide_type": "slide"
    }
   },
   "source": [
    "## Séries de Fourier\n",
    "---\n",
    "\n",
    "### Exemplo\n",
    "\n",
    "![fig4.1.png](imagens/fig8.4.png)"
   ]
  },
  {
   "cell_type": "markdown",
   "metadata": {
    "slideshow": {
     "slide_type": "slide"
    }
   },
   "source": [
    "## Séries de Fourier\n",
    "---\n",
    "\n",
    "### Determinação dos coeficientes\n",
    "\n",
    "$$ x(t) = \\sum_{k=-\\infty}^{\\infty} a_k e^{jk\\omega_0t} $$\n",
    "\n",
    "Multiplicando ambos os lados da equação acima por $e^{-jn\\omega_0 t}$\n",
    "\n",
    "$$ x(t)e^{-jn\\omega_0 t} = \\sum_{k=-\\infty}^{\\infty} a_ke^{jk\\omega_0t}e^{-jn\\omega_0 t} $$\n",
    "\n",
    "Integrando em um período:\n",
    "\n",
    "$$ \\int_{0}^{T_0}x(t)e^{-jn\\omega t}dt = \\int_{0}^{T_0} \\sum_{k=-\\infty}^{\\infty} a_ke^{j(k-n)\\omega_0t}dt $$"
   ]
  },
  {
   "cell_type": "markdown",
   "metadata": {
    "slideshow": {
     "slide_type": "slide"
    }
   },
   "source": [
    "## Séries de Fourier\n",
    "---\n",
    "\n",
    "### Determinação dos coeficientes\n",
    "Trocando a ordem da integral com o somatório:\n",
    "\n",
    "$$ \\int_{0}^{T_0}x(t)e^{-jn\\omega_0t}dt = \\sum_{k=-\\infty}^{\\infty}a_k \\int_{0}^{T_0}e^{j(k-n)\\omega_0t}dt $$\n",
    "\n",
    "Como: \n",
    "\n",
    "$$ \\int_{0}^{T_0}e^{j(k-n)\\omega_0t}dt = \\begin{cases}\n",
    "\\displaystyle 0, k\\neq n \\\\\n",
    "\\\\\n",
    "\\displaystyle T_0, k=n\n",
    "\\end{cases} \n",
    "$$\n",
    "\n",
    "$$ e^{jk\\omega_0t}= \\begin{cases}\n",
    "\\displaystyle \\rightarrow \\text{funções ortogonais} \\\\\n",
    "\\\\\n",
    "\\displaystyle \\rightarrow \\text{base para funções periódicas}\n",
    "\\end{cases} $$\n",
    "\n",
    "Portanto:\n",
    "\n",
    "$$ a_k=\\frac{1}{T_0}\\int_{0}^{T_0}x(t)e^{-jk\\omega_0t}dt $$"
   ]
  },
  {
   "cell_type": "markdown",
   "metadata": {
    "slideshow": {
     "slide_type": "slide"
    }
   },
   "source": [
    "## Séries de Fourier\n",
    "---\n",
    "\n",
    "### Observações\n",
    "\n",
    "O intervalo de integração não precisa ser o anterior, basta que seja em um período qualquer.\n",
    "\n",
    "### Equações\n",
    "\n",
    "Par de equações que definem a série exponencial de Fourier:\n",
    "\n",
    "$$ x(t) = \\sum_{k=-\\infty}^{\\infty} a_ke^{jk\\omega_0t} \\ \\ \\ \\text{equação de síntese} $$\n",
    "$$ a_k = \\frac{1}{T_0} \\int_{T_0}x(t)e^{-jk\\omega_0t}dt \\ \\ \\ \\text{equação de análise} $$"
   ]
  },
  {
   "cell_type": "markdown",
   "metadata": {
    "slideshow": {
     "slide_type": "slide"
    }
   },
   "source": [
    "## A tranformada de Fourier\n",
    "---\n",
    "\n",
    "### Transformada de Fourier para sinais periódicos\n",
    "\n",
    "- Um sinal periódico não é absolutamente integrável portanto, a princípio ele não possui transformada de Fourier.\n",
    "\n",
    "- A série e a transformada são relacionadas. Podemos obter a transformada diretamente da série utilizando a função impulso."
   ]
  },
  {
   "cell_type": "markdown",
   "metadata": {
    "slideshow": {
     "slide_type": "slide"
    }
   },
   "source": [
    "## A transformada de Fourier\n",
    "---\n",
    "\n",
    "### Transformada de Fourier para sinais periódicos\n",
    "\n",
    "Seja:\n",
    "\n",
    "$$ X(\\omega) = 2\\pi \\delta(w-\\omega_0) \\rightarrow x(t) = e^{j\\omega_0t} $$\n",
    "\n",
    "Seja $X(\\omega)$ uma combinação linear de impulsos, isto é,\n",
    "\n",
    "$$ X(\\omega) = 2\\pi \\sum_{k=-\\infty}^{\\infty}a_k\\delta(w-k\\omega_0) \\rightarrow x(t) = \\sum_{k=-\\infty}^{\\infty}a_ke^{jk\\omega_0t} $$\n",
    "\n",
    "Transformada de Fourier para sinais periódicos:\n",
    "\n",
    "$$ X(\\omega) = \\sum_{k=-\\infty}^{\\infty} 2\\pi a_k \\delta(w-k\\omega_0) $$\n",
    "\n",
    "$$ X(f) = \\sum_{k=-\\infty}^{\\infty} a_k\\delta(f-kf_0) $$"
   ]
  },
  {
   "cell_type": "markdown",
   "metadata": {
    "slideshow": {
     "slide_type": "slide"
    }
   },
   "source": [
    "## Séries de Fourier\n",
    "---\n",
    "\n",
    "### Condições\n",
    "\n",
    "A convergência da série é grantida se as condições de Dirichlet forem satisfeitas:\n",
    "\n",
    "- x(t) é um sinal limitado (absolutamente somável em um período);\n",
    "\n",
    "- apresenta um número finito de máximos e mínimos em um período;\n",
    "\n",
    "- Apresenta um número finito de descontinuidades em um período.\n",
    "\n",
    "\n",
    "Se o sinal satisfazer as condições acima e não for contínuo então a série convergirá para o ponto médio de x(t) em cada descontinuidade."
   ]
  },
  {
   "cell_type": "markdown",
   "metadata": {
    "slideshow": {
     "slide_type": "slide"
    }
   },
   "source": [
    "## Séries de Fourier\n",
    "---\n",
    "\n",
    "### Exemplo\n",
    "\n",
    "$ x(t) = \\frac{1}{2} + sen(\\omega_0t) + 2cos(\\omega_0t)+cos\\left(2\\omega_0t + \\frac{\\pi}{4}\\right) $$\n",
    "\n",
    "![fig4.1.png](imagens/fig8.5.png)"
   ]
  },
  {
   "cell_type": "markdown",
   "metadata": {
    "slideshow": {
     "slide_type": "slide"
    }
   },
   "source": [
    "## Séries de Fourier\n",
    "---\n",
    "\n",
    "### Onda quadrada\n",
    "\n",
    "$$ x(t) = \n",
    "\\begin{cases}\n",
    "\\displaystyle 1, |t| < \\tau \\\\\n",
    "\\\\\n",
    "\\displaystyle 0, \\tau < |t|\n",
    "\\end{cases} $$\n",
    "\n",
    "![fig4.1.png](imagens/fig8.6.png)\n",
    "\n",
    "$$ a_k = \\frac{1}{T_0}\\int_{-\\tau}^{\\tau}e^{-jk\\omega_0t}dt \\rightarrow a_k = \\frac{1}{k\\pi}sen(k\\omega_0\\tau),\\ k \\neq 0; \\ a_0=\\frac{2\\tau}{T_0} $$\n",
    "\n",
    "$$ T_0=4\\tau \\rightarrow \\ \\ \\ a_k=\\frac{sen(k\\pi/2)}{k\\pi},\\ k\\neq 0 $$\n",
    "\n",
    "$$ T_0=8\\tau \\rightarrow \\ \\ \\ a_k=\\frac{sen(k\\pi/4)}{k\\pi},\\ k\\neq 0 $$\n",
    "\n",
    "**Observação:** Neste caso particular os coeficientes s]ao reais."
   ]
  },
  {
   "cell_type": "markdown",
   "metadata": {
    "slideshow": {
     "slide_type": "slide"
    }
   },
   "source": [
    "## Séries de Fourier\n",
    "---\n",
    "\n",
    "### Gráficos dos coeficientes $a_k$\n",
    "\n",
    "![fig4.1.png](imagens/fig8.7.png)"
   ]
  },
  {
   "cell_type": "markdown",
   "metadata": {
    "slideshow": {
     "slide_type": "slide"
    }
   },
   "source": [
    "## Séries de Fourier\n",
    "---\n",
    "\n",
    "### Espectro de amplitude\n",
    "\n",
    "![fig4.1.png](imagens/fig8.8.png)\n",
    "\n",
    "### Espectro de fase\n",
    "\n",
    "![fig4.1.png](imagens/fig8.9.png)"
   ]
  },
  {
   "cell_type": "markdown",
   "metadata": {
    "slideshow": {
     "slide_type": "slide"
    }
   },
   "source": [
    "## Séries de Fourier\n",
    "---\n",
    "\n",
    "### Onda dente de serra\n",
    "\n",
    "$$ x(t) = t, \\ |t| < 1 $$\n",
    "\n",
    "$$ \\rightarrow t_0 = 2s\\omega_0 = \\pi \\text{rad/s} $$\n",
    "\n",
    "![fig4.1.png](imagens/fig8.11.png)\n",
    "\n",
    "$$ a_k = \\frac{(-1)^k}{k\\pi}j = \\frac{j}{k\\pi}cos(k\\pi) \\ \\ \\ a_0 = 0 $$"
   ]
  },
  {
   "cell_type": "markdown",
   "metadata": {
    "slideshow": {
     "slide_type": "slide"
    }
   },
   "source": [
    "## Propriedades da série de Fourier\n",
    "---\n",
    "\n",
    "Sejam dois sinais periódicos $x(t)$ e $y(t)$ com período $T_0$ e frequência $\\omega_0=2\\pi/T_0$ tais que:\n",
    "\n",
    "$$ x(t) \\stackrel{SF} \\leftrightarrow a_k \\ \\ \\ y(t) \\stackrel{SF} \\leftrightarrow b_k $$\n",
    "\n",
    "### Linearidade\n",
    "\n",
    "$$ z(t) = Ax(t) + By(t) \\stackrel{SF} \\leftrightarrow c_k = Aa_k + Bb_k $$\n",
    "\n",
    "A e B constantes.\n"
   ]
  },
  {
   "cell_type": "markdown",
   "metadata": {
    "slideshow": {
     "slide_type": "slide"
    }
   },
   "source": [
    "## Propriedades da série de Fourier\n",
    "---\n",
    "\n",
    "### Deslocamento no tempo\n",
    "\n",
    "$$ y(t) = x(t-t_d) \\stackrel{SF} \\leftrightarrow b_k = e^{-jk\\omega_0t_d}a_k $$\n",
    "\n",
    "**Observação:** $|b_k| = |a_k|$\n",
    "\n",
    "### Reversão no tempo\n",
    "\n",
    "$$ y(t) = x(-t) \\stackrel{SF} \\leftrightarrow b_k = a_{\\_k} $$"
   ]
  },
  {
   "cell_type": "markdown",
   "metadata": {
    "slideshow": {
     "slide_type": "slide"
    }
   },
   "source": [
    "## Propriedades da série de Fourier\n",
    "---\n",
    "\n",
    "### Compressão/expansão\n",
    "\n",
    "$$ y(t) = x(\\alpha t)\\stackrel{SF} \\leftrightarrow y(t) = \\sum_{k=-\\infty}^{\\infty}a_k e^{jk\\alpha \\omega_0t} $$\n",
    "\n",
    "Muda somente a frequência fundamental ($\\alpha \\omega_0$) e seus harmônicos.\n",
    "\n",
    "$$b_k = a_k $$"
   ]
  },
  {
   "cell_type": "markdown",
   "metadata": {
    "slideshow": {
     "slide_type": "slide"
    }
   },
   "source": [
    "## Propriedades da série de Fourier\n",
    "---\n",
    "\n",
    "### Operações com os sinais\n",
    "\n",
    "- $z(t) = x(t)y(t) \\stackrel{SF} \\leftrightarrow c_k = \\sum_{l=-\\infty}^{\\infty}a_lb_{k-1}$\n",
    "\n",
    "- $y(t) = x^*(t) \\stackrel{SF} \\leftrightarrow b_k = a^*_{-k}$\n",
    "\n",
    "- $y(t) = \\int_{-\\infty}^{t}x(\\tau)d\\tau \\stackrel{SF} \\leftrightarrow b_k = \\frac{1}{jk\\omega_0}a_k$\n",
    "\n",
    "- $y(t) = \\frac{d}{dt}x(t)\\stackrel{SF} \\leftrightarrow b_k = jk\\omega_0a_k$"
   ]
  },
  {
   "cell_type": "markdown",
   "metadata": {
    "slideshow": {
     "slide_type": "slide"
    }
   },
   "source": [
    "## Propriedades da série de Fourier\n",
    "---\n",
    "\n",
    "### Relação de Parseval\n",
    "\n",
    "$$ P = \\frac{1}{T_0} \\int_{T_0}|x(t)|^2dt = \\sum_{k=-\\infty}^{\\infty}|a_k|^2 $$\n",
    "\n",
    "### Densidade Espectral de Potência\n",
    "\n",
    "$$ P= \\sum_{k=-\\infty}^{\\infty}a_ka^*_k = \\sum_{k=-\\infty}^{\\infty} |a_k|^2 $$\n",
    "\n",
    "![fig4.1.png](imagens/fig8.12.png)"
   ]
  },
  {
   "cell_type": "markdown",
   "metadata": {
    "slideshow": {
     "slide_type": "slide"
    }
   },
   "source": [
    "## Propriedades da série de Fourier\n",
    "---\n",
    "\n",
    "### Simetrias na função\n",
    "\n",
    "- Função par: os coeficientes $a_k$ são reais.\n",
    "\n",
    "- Função impar: os coeficientes $a_k$ são imaginários."
   ]
  },
  {
   "cell_type": "markdown",
   "metadata": {
    "slideshow": {
     "slide_type": "slide"
    }
   },
   "source": [
    "## Propriedades da série de Fourier\n",
    "---\n",
    "\n",
    "### Série trigonométrica de Fourier\n",
    "\n",
    "Para sinais reais os coeficientes $a_k$ aparecem na forma de números complexos conjugados tais que:\n",
    "\n",
    "$$ a_k = A_ke^{j\\phi_k} $$\n",
    "\n",
    "Portanto x(t) pode ser escrita na seguinte forma (forma compacta):\n",
    "\n",
    "$$ x(t) = A_0 + 2\\sum_{k=1}^{\\infty}\\{A_kcos(k\\omega_0t+\\phi_k)\\} \\ \\ \\ \\text{em que:} \\ A_0 = a_0 $$"
   ]
  },
  {
   "cell_type": "markdown",
   "metadata": {
    "slideshow": {
     "slide_type": "slide"
    }
   },
   "source": [
    "## Propriedades da série de Fourier\n",
    "---\n",
    "\n",
    "Considerando os coeficientes $a_k$ na forma retangular, isto é,\n",
    "\n",
    "$$a_k = B_k + jC_k $$\n",
    "\n",
    "Então:\n",
    "\n",
    "$$ x(t) = a_0 + 2 \\sum_{k=1}^{\\infty}\\{B_kcos(k\\omega_0t)-C_ksen(k\\omega_0t)\\} $$\n",
    "\n",
    "$$ B_k = \\frac{1}{T_0}\\int_{T_0}x(t)cos(k\\omega_0t)dt $$\n",
    "\n",
    "$$ k = 1,2,\\dots $$\n",
    "\n",
    "$$ C_k = \\frac{1}{T_0} \\int_{T_0}x(t)sen(k\\omega_0t)dt $$"
   ]
  },
  {
   "cell_type": "markdown",
   "metadata": {
    "slideshow": {
     "slide_type": "slide"
    }
   },
   "source": [
    "## Propriedades da série de Fourier\n",
    "---\n",
    "\n",
    "Relação com os coeficientes da série exponencial:\n",
    "\n",
    "$$ A_0 = a_0; \\ \\ A_k =\\sqrt{B_k^2+c_k^2}; \\ \\ \\phi_k = arctan \\left(\\frac{C_k}{B_k} \\right) $$\n",
    "\n",
    "Exemplo: \n",
    "\n",
    "$$ x(t) = \\left|cos\\left(\\frac{\\pi t}{2}\\right) \\right| $$\n",
    "\n",
    "![fig4.1.png](imagens/fig8.13.png)"
   ]
  },
  {
   "cell_type": "markdown",
   "metadata": {
    "slideshow": {
     "slide_type": "slide"
    }
   },
   "source": [
    "## Propriedades da série de Fourier\n",
    "---\n",
    "\n",
    "$$ x(t) = sen(\\omega_0t) = cos\\left(\\omega_0t - \\frac{\\pi}{2}\\right) = \\frac{1}{2} \\left(e^{j(\\omega_0t-\\pi/2)}+e^{-j(\\omega_0t-\\pi/2)}\\right) $$\n",
    "\n",
    "![fig4.1.png](imagens/fig8.14.png)\n",
    "\n",
    "![fig4.1.png](imagens/fig8.15.png)"
   ]
  },
  {
   "cell_type": "markdown",
   "metadata": {
    "slideshow": {
     "slide_type": "slide"
    }
   },
   "source": [
    "## Amostragem\n",
    "---\n",
    "\n",
    "![fig4.1.png](imagens/fig9.1.png)"
   ]
  },
  {
   "cell_type": "markdown",
   "metadata": {
    "slideshow": {
     "slide_type": "slide"
    }
   },
   "source": [
    "## Amostragem\n",
    "---\n",
    "\n",
    "### Introdução\n",
    "\n",
    "- A teoria da Amostragem é a base matemática para se obter um sinal x[n] discreto no tempo a partir de um sinal x(t) contínuo no tempo.\n",
    "\n",
    "- A obtenção de uma sequência de amostras x[n] a partir de um sinal x(t) contínuo no tempo pode ser representada pela seguinte relação:\n",
    "\n",
    "$$ x[n] = x(t)|_{t=nT_a} = x(nT_a) $$\n",
    "\n",
    "- Em que:\n",
    "    \n",
    "    - n é um número inteiro;\n",
    "    \n",
    "    - $T_a$ é o perído de amostragem do sinal;\n",
    "    \n",
    "    - $F_a$ = 1/$T_a$ é a frequência de amostragem\n",
    "   \n",
    "- Na prática a operação de amostragem é executada por um conversor AD (analógico-digital) que inclui também a quantização das amplitudes das amostras."
   ]
  },
  {
   "cell_type": "markdown",
   "metadata": {
    "slideshow": {
     "slide_type": "slide"
    }
   },
   "source": [
    "## Amostragem\n",
    "---\n",
    "\n",
    "### Representação Matemática\n",
    "\n",
    "![fig4.1.png](imagens/fig9.2.png)\n",
    "\n",
    "- O sinal s[t] é um trem de impulsos periódicos tal que:\n",
    "\n",
    "\\begin{equation} s(t)=\\sum_{n=-\\infty}^{\\infty} \\delta(t-nT_a) \\end{equation}\n",
    "\n",
    "- Como o sinal amostrado é o produto de s(t) por x(t), então:\n",
    "\n",
    "$$ x_a(t)=x(nT_a) \\overset{\\text{def}}{=} x(t)s(t) =  \\sum_{n=-\\infty}^{\\infty}x(t)\\delta(t-nT_a) $$"
   ]
  },
  {
   "cell_type": "markdown",
   "metadata": {
    "slideshow": {
     "slide_type": "slide"
    }
   },
   "source": [
    "## Amostragem\n",
    "---\n",
    "\n",
    "### Calculando a transformada de Fourier tem-se:\n",
    "\n",
    "$$ X_a(j\\omega)=\\frac{1}{2\\pi}X(j\\omega)*S(j\\omega) \\ \\ \\ \\ \\text{(Teor. da Convolução)} $$\n",
    "\n",
    "$$ S(\\omega) = TF\\{s(t)\\} = \\frac{2\\pi}{T_a}\\sum_{k=-\\infty}^{\\infty} \\delta(\\omega-k\\omega_a), \\ \\ \\text{em que:} \\ \\omega_a=\\frac{2\\pi}{T_a} $$\n",
    "\n",
    "$$ X_a(\\omega) = \\frac{1}{T_a}\\sum_{k=-\\infty}^{\\infty} X(\\omega-k\\omega_a) \\;\\;\\;\\;\\;\\;\\;\\; \\left \\{ X(\\omega-\\omega_0) = X(\\omega)*\\delta(\\omega-\\omega_0) \\right\\} $$\n",
    "\n",
    "- $X_a(\\omega)$ consiste de cópias regularmente espaçadas de $X(\\omega)$.\n",
    "\n",
    "- O espaçamento é dado por múltiplos inteiros de $\\omega_a$.\n"
   ]
  },
  {
   "cell_type": "markdown",
   "metadata": {
    "slideshow": {
     "slide_type": "slide"
    }
   },
   "source": [
    "## Amostragem\n",
    "---\n",
    "\n",
    "![fig4.1.png](imagens/fig9.5.png)"
   ]
  },
  {
   "cell_type": "markdown",
   "metadata": {
    "slideshow": {
     "slide_type": "slide"
    }
   },
   "source": [
    "## Amostragem\n",
    "---\n",
    "![fig4.1.png](imagens/fig9.6.png)\n",
    "\n",
    "- Observe que para não haver superposição de Espectros:\n",
    "\n",
    "\\begin{equation} \\omega_a - \\omega_M > \\omega_M \\rightarrow \\omega_a > 2\\omega_M \\end{equation}\n",
    "\n",
    "- Se a condição acima é satisfeita as réplicas de $X(\\omega)$ não irão se superporem.\n",
    "\n",
    "- Em cada período tem-se uma réplica exata de $X(\\omega)$.\n",
    "\n",
    "- Portanto o sinal x(t) pode ser recuperado a partir de $x_a(nT_a)$ através de um filtro passa-baixas com corte em $\\omega_c = \\frac{\\omega_a}{ 2}$ "
   ]
  },
  {
   "cell_type": "markdown",
   "metadata": {
    "slideshow": {
     "slide_type": "slide"
    }
   },
   "source": [
    "## Amostragem\n",
    "---\n",
    "\n",
    "### Condições de Nyquist\n",
    "\n",
    "1- O sinal deve ter banda limitada;\n",
    "\n",
    "2- A relação entre $F_s$ (1/T) e wmax deve satisfazer o teorema da amostragem\n",
    "\n",
    "![fig4.1.png](imagens/fig9.3.png)\n",
    "\n",
    "![fig4.1.png](imagens/fig9.4.png)"
   ]
  },
  {
   "cell_type": "markdown",
   "metadata": {
    "slideshow": {
     "slide_type": "slide"
    }
   },
   "source": [
    "## Amostragem\n",
    "---\n",
    "\n",
    "### Recuperação de x(t)\n",
    "\n",
    "![fig4.1.png](imagens/fig9.7.png)\n",
    "\n",
    "- Se a condiçõ $\\Omega_a > 2\\Omega_M$ não é satisfeita, as rélicas de $X(\\Omega)$ se sobrepõem, modificando o espectro do sinal original.\n",
    "\n",
    "- O sinal na banda básica aparecerá distorcido e não poderá ser recuperado. Este efeito é conhecido como $\\textit{aliasing}$."
   ]
  },
  {
   "cell_type": "markdown",
   "metadata": {
    "slideshow": {
     "slide_type": "slide"
    }
   },
   "source": [
    "## Amostragem\n",
    "---\n",
    "\n",
    "### Teorema da Amostragem\n",
    "\n",
    "A discussão anterior forma a base para se enunciar o teorema da amostragem:\n",
    "\n",
    "- Um sinal x(t), contínuo no tempo e limitado em banda tal que a frequência máxima de seu espectro seja $\\Omega_M$, isto é,\n",
    "\n",
    "\\begin{equation} X(\\Omega) = 0, |\\Omega| > |\\Omega_M|, \\end{equation}\n",
    "\n",
    "pode ser recuperado unicamente a partir de suas amostras $x[n] = x[nT_a]$, tomadas em intervalos regularmente espaçados tais que:\n",
    "\n",
    "\\begin{equation} \\Omega_a = \\frac{2\\pi}{T_a} > 2\\Omega_M \\ \\ \\ \\text{ou} \\ \\ \\ F_a > 2F_M \\end{equation}\n",
    "\n",
    "- $\\Omega_M$ ou $F_M$ $\\rightarrow$ Frequência de Nyquist.\n",
    "\n",
    "- $\\Omega_a$ ou $F_a$ $\\rightarrow$ Taxa de Nyquist.\n"
   ]
  }
 ],
 "metadata": {
  "celltoolbar": "Slideshow",
  "kernelspec": {
   "display_name": "Python 3 (ipykernel)",
   "language": "python",
   "name": "python3"
  },
  "language_info": {
   "codemirror_mode": {
    "name": "ipython",
    "version": 3
   },
   "file_extension": ".py",
   "mimetype": "text/x-python",
   "name": "python",
   "nbconvert_exporter": "python",
   "pygments_lexer": "ipython3",
   "version": "3.11.3"
  }
 },
 "nbformat": 4,
 "nbformat_minor": 4
}
