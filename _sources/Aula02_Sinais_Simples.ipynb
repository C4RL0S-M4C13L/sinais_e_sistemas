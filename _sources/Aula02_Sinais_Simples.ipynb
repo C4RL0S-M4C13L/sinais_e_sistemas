{
 "cells": [
  {
   "cell_type": "markdown",
   "metadata": {
    "slideshow": {
     "slide_type": "slide"
    }
   },
   "source": [
    "# Sinais Simples\n",
    "---\n",
    "### O que são sinais?\n",
    "- Um sinal pode ser definido como uma função matemática que representa o estado ou comportamento de um sistema físico.\n",
    "\n",
    "### Sinais\n",
    "- São representados matematicamente como funções de uma ou mais variáveis independentes. Exemplo: sinal de fala, fotografia."
   ]
  },
  {
   "cell_type": "markdown",
   "metadata": {
    "slideshow": {
     "slide_type": "slide"
    }
   },
   "source": [
    "## Introdução\n",
    "---\n",
    "A variável independente usada para a representação matemática do sinal pode ser discreta ou contínua.\n",
    "### Tempo contínuo\n",
    "- Sinais contínuos são definidos ao longo do tempo contínuo. São também conhecidos como sinais analógicos.\n",
    "\n",
    "### Tempo discreto\n",
    "- Sinais discretos no tempo são definidos em tempo discreto e suas variáveis independentes possuem valores discretos.\n",
    "\n",
    "### Sinais digitais\n",
    "- Sinais digitais são aqueles que possuem tanto a amplitude quanto o tempo discreto."
   ]
  },
  {
   "attachments": {},
   "cell_type": "markdown",
   "metadata": {
    "slideshow": {
     "slide_type": "slide"
    }
   },
   "source": [
    "![image.png](imagens/fig2.1.png)\n",
    "\n",
    "referência: https://i.stack.imgur.com/wVjge.jpg"
   ]
  },
  {
   "attachments": {},
   "cell_type": "markdown",
   "metadata": {
    "slideshow": {
     "slide_type": "slide"
    }
   },
   "source": [
    "## Exemplos de sinais\n",
    "---\n",
    "![image.png](imagens/fig2.2.png)"
   ]
  },
  {
   "attachments": {},
   "cell_type": "markdown",
   "metadata": {
    "slideshow": {
     "slide_type": "slide"
    }
   },
   "source": [
    "## Exemplos de sinais\n",
    "---\n",
    "![image.png](imagens/fig2.3.png)"
   ]
  },
  {
   "attachments": {},
   "cell_type": "markdown",
   "metadata": {
    "slideshow": {
     "slide_type": "slide"
    }
   },
   "source": [
    "## Operações com sinais\n",
    "---\n",
    "### Deslocamento no tempo\n",
    "$y(t) = x(t-t_0)$ onde:<br>\n",
    "\n",
    "- $t_0 > 0 \\rightarrow$ representa um tempo de atraso.<br>\n",
    "- $t_0 < 0 \\rightarrow$ representa um tempo de avanço.\n",
    "\n",
    "![image.png](imagens/fig2.4.png)\n",
    "\n",
    "Sinais idênticos quanto à forma mas deslocados no tempo.\n"
   ]
  },
  {
   "attachments": {},
   "cell_type": "markdown",
   "metadata": {
    "slideshow": {
     "slide_type": "slide"
    }
   },
   "source": [
    "## Operações com sinais\n",
    "---\n",
    "### Reversão do tempo\n",
    "$y(t) = x(-t)$<br>\n",
    "É obtido refletindo x(t) em torno da origem ($t = 0$).\n",
    "\n",
    "![image.png](imagens/fig2.5.png)"
   ]
  },
  {
   "attachments": {},
   "cell_type": "markdown",
   "metadata": {
    "slideshow": {
     "slide_type": "slide"
    }
   },
   "source": [
    "## Operações com sinais\n",
    "---\n",
    "\n",
    "### Compressão e expansão\n",
    "\n",
    "$y(t) = x(at), onde$ $a$ é uma constante.<br>\n",
    "É obtido fazendo-se uma mudança 'afim' na variável independente.\n",
    "\n",
    "- se $a > 1 \\rightarrow$ o sinal é comprimido (variações rápidas)\n",
    "- se $a < 1 \\rightarrow$ o sinal é expandido(variações lentas)\n",
    "\n",
    "![image.png](imagens/fig2.6.png)"
   ]
  },
  {
   "attachments": {},
   "cell_type": "markdown",
   "metadata": {
    "slideshow": {
     "slide_type": "slide"
    }
   },
   "source": [
    "## Classificação de sinais\n",
    "---\n",
    "### Sinal par\n",
    "\n",
    "- Um sinal é chamado **par** se ele satisfazer a seguinte condição: $x(t) = x(−t)$. Ou seja, $x(t)$ é igual a sua reflexão em torno do eixo y.\n",
    "\n",
    "### Sinal ímpar\n",
    "\n",
    "- Um sinal é chamado **ímpar** se ele satisfazer a seguinte condição: $x(t) = −x(−t)$. $x(t)$ é igual a sua reflexão em torno da origem.\n",
    "\n",
    "![image.png](imagens/fig2.7.png)"
   ]
  },
  {
   "cell_type": "markdown",
   "metadata": {
    "slideshow": {
     "slide_type": "slide"
    }
   },
   "source": [
    "## Classificação de sinais\n",
    "---\n",
    "\n",
    "### A parte par de um sinal:\n",
    "\n",
    "- $x_{e}(t) = \\frac{1}{2}[x(t)+x(-t)]$<br>\n",
    "\n",
    "### A parte ímpar de um sinal:\n",
    "- $x_{o}(t) = \\frac{1}{2}[x(t)-x(-t)]$"
   ]
  },
  {
   "cell_type": "markdown",
   "metadata": {
    "slideshow": {
     "slide_type": "slide"
    }
   },
   "source": [
    "## Sinais periódicos\n",
    "---\n",
    "\n",
    "### Definição\n",
    "- Um sinal é chamado periódico se existir um valor positivo T tal que: $x(t) = x(t + T ), ∀t$. Essa condição é válida para: ±T , ±2T , ±3T , . . .\n",
    "\n",
    "### Período fundamental\n",
    "- $T_{0}$: menor $T$ que satisfaz a condição acima\n",
    "\n",
    "### Frequência fundamental\n",
    "- $f_{0} = \\frac{1}{T_{0}}$ ciclos por segundo ou Hertz [Hz].\n",
    "\n",
    "- $\\omega_{0} = \\frac{2\\pi}{T_{0}} = 2\\pi f_{0}$ radianos por segundo [rad/s], pois tem-se um ciclo completo em $2\\pi$ radianos."
   ]
  },
  {
   "attachments": {},
   "cell_type": "markdown",
   "metadata": {
    "slideshow": {
     "slide_type": "slide"
    }
   },
   "source": [
    "## Sinais periódicos\n",
    "---\n",
    "Um exemplo de sinal periódico:\n",
    "\n",
    "![image.png](imagens/fig2.8.png)"
   ]
  },
  {
   "cell_type": "markdown",
   "metadata": {
    "slideshow": {
     "slide_type": "slide"
    }
   },
   "source": [
    "![image.png](imagens/PAP.png)"
   ]
  },
  {
   "cell_type": "markdown",
   "metadata": {},
   "source": [
    "Sinais __quasi-periodic__\n",
    "\n",
    "composição de 2 sinais periódicos com período $T_0$ e $T_1$\n",
    "\n",
    "![title](imagens/quasi_periodic.png)\n",
    "\n",
    "\n",
    "É necessário que $N T_0 = M T_1$ então $\\frac{T_0}{T_1} = \\frac{M}{N} \\in Q$\n",
    "\n",
    "\n",
    "sinais __quasi-periodics__ são periódicos e sinais __almost periodic__ não são.\n",
    "\n",
    "\n"
   ]
  },
  {
   "cell_type": "markdown",
   "metadata": {
    "slideshow": {
     "slide_type": "slide"
    }
   },
   "source": [
    "## Energia e Potência de Sinais\n",
    "---\n",
    "### Definição\n",
    "- A potência instantânea dissipada em um resistor é definida como:<br>\n",
    "$p(t) = \\frac{v²(t)}{R} = Ri²(t)$\n",
    "\n",
    "    1. A potência instantânea de um sinal em relação a um resistor de 1 ohm é: $p(t) = x²(t)$\n",
    "    2. **Observação:** É importante não esquecer que a unidade ainda permanece! Mesmo tendo simplificado a equação, o resistor não desapareceu."
   ]
  },
  {
   "cell_type": "markdown",
   "metadata": {},
   "source": [
    "As fórmulas dimensionais são:\n",
    "\n",
    "1. tensão é: $M L^2 T^{-3} I^{-1}$\n",
    "2. resitência: $M L^2 T^{-3} I^{-2}$\n",
    "3. potência: $M L^2 T^{-3}$\n",
    "4. energia: $ML^2T^{−2}$\n",
    "\n",
    "onde \n",
    "\n",
    "M &rarr; Massa, L &rarr; comprimento, T &rarr; Tempo e I &rarr; Corrente\n",
    "\n",
    "1. $V = RI$ \n",
    "2. $E = P*T$\n",
    "3. $\\dfrac{V^2}{R} = M L^2 T^{-3}$"
   ]
  },
  {
   "cell_type": "markdown",
   "metadata": {
    "slideshow": {
     "slide_type": "slide"
    }
   },
   "source": [
    "## Energia e Potência de Sinais\n",
    "---\n",
    "\n",
    "### Energia de um sinal:\n",
    "- $E = \\int_{-\\infty}^{\\infty}x²(t)dt$\n",
    "\n",
    "### Potência média de um sinal:\n",
    "- $P_M = \\lim_{x \\to \\infty}\\frac{1}{T}\\int_{-T/2}^{T/2}x²(t)dt$\n",
    "\n",
    "### Potência média de um sinal periódico:\n",
    "- $P_M = \\frac{1}{T_0}\\int_{t'}^{t'+T_0}x²(t)dt$\n",
    "\n",
    "### Raiz do valor médio quadrático (<i>root mean square</i>)\n",
    "- É a raiz quadrada da potência média em relação a um resistor de 1 ohm que é equivalente ao valor eficaz."
   ]
  },
  {
   "cell_type": "markdown",
   "metadata": {
    "slideshow": {
     "slide_type": "slide"
    }
   },
   "source": [
    "## Para o caso de $x(t)$ complexo a Lei de Ohm vai ser re-escrita como:\n",
    "### $i(t) = x^*(t)/R$ e a potência instantânea será $P_{inst} = \\frac{x(t)x^*(t)}{R} = \\frac{|x(t)|^2}{R}$\n",
    "\n",
    "### Nesse contexto, tem-se:\n",
    "\n",
    "### $E = \\int_{-\\infty}^{\\infty} |x(t)|^2dt$\n",
    "\n",
    "### $P_M = \\frac{1}{T_0}\\int_t^{t+T_0}|x(t)|^2dt$"
   ]
  },
  {
   "cell_type": "markdown",
   "metadata": {
    "slideshow": {
     "slide_type": "slide"
    }
   },
   "source": [
    "## Energia e Potência de Sinais\n",
    "---\n",
    "\n",
    "### Definição:\n",
    "1. Sinal de energia é aquele que: $E < \\infty$\n",
    "2. Sinal de potência é aquele que: $0 < P_M < \\infty$\n",
    "\n",
    "**Cuidado:** sinais periódicos não possuem energia!!!"
   ]
  },
  {
   "attachments": {},
   "cell_type": "markdown",
   "metadata": {
    "slideshow": {
     "slide_type": "slide"
    }
   },
   "source": [
    "## Sinais exponenciais\n",
    "---\n",
    "\n",
    "- $x(t) = Ce^{at}$, onde $C$ e $a$ são, em geral, números complexos\n",
    "\n",
    "![image.png](imagens/fig2.9.png)\n",
    "\n",
    "Exemplo:\n",
    "- Descarga de um capacitor através de um resistor"
   ]
  },
  {
   "cell_type": "markdown",
   "metadata": {
    "slideshow": {
     "slide_type": "slide"
    }
   },
   "source": [
    "## Sinais exponenciais\n",
    "---\n",
    "\n",
    "- A forma mais comum de exponencial complexa é realizada admitindo a um número puramente imaginário. $x(t) = Ce^{j\\omega_0t}$ onde $C$ é admitido ser 1 e $\\omega_0$ é um número positivo. Esta função é periódica com período $T_0$ pois:<br>\n",
    "$x(t+T_0) = e^{j\\omega_{0}(t+T_0)} = e^{j\\omega_0t}e^{j\\omega_0T_0} = e^{j\\omega_0t}e^{j2\\pi} = e^{j\\omega_0t} = x(t)$ \n",
    "\n",
    "### Aplicação\n",
    "- Análise de Fourier onde é definido um conjunto de exponenciais relacionadas harmonicamente tais que:<br>\n",
    "$\\phi_k(t) = e^{jk\\omega_0t}$ $\\{k = 0, \\pm1, \\pm2,\\dots\\}$ $T_k = \\frac{2\\pi}{|k|\\omega_0} = \\frac{T_0}{|k|}$"
   ]
  },
  {
   "attachments": {},
   "cell_type": "markdown",
   "metadata": {
    "slideshow": {
     "slide_type": "slide"
    }
   },
   "source": [
    "## Sinais senoidais\n",
    "---\n",
    "\n",
    "- A forma mais comum de se escrever um sinal senoidal é: $x(t) = Asen(\\omega_0t+\\phi)$. Onde $A$ é a amplitude, $\\omega_0$ é a frequência em (rad/s) e $\\phi$ é o ângulo de fase em radianos.\n",
    "\n",
    "![image.png](imagens/fig2.10.png)"
   ]
  },
  {
   "cell_type": "markdown",
   "metadata": {
    "slideshow": {
     "slide_type": "slide"
    }
   },
   "source": [
    "## Relações de Euler\n",
    "---\n",
    "\n",
    "- $e^{j\\omega_0t} = cos(\\omega_0t)+jsen(\\omega_0t)$\n",
    "- $cos(\\omega_0t) = \\frac{1}{2}[e^{j\\omega_0t}+e^{-j\\omega_0t}]$\n",
    "- $sen(\\omega_0t) = \\frac{1}{2j}[e^{j\\omega_0t}-e^{-j\\omega_0t}]$"
   ]
  },
  {
   "attachments": {},
   "cell_type": "markdown",
   "metadata": {
    "slideshow": {
     "slide_type": "slide"
    }
   },
   "source": [
    "\n",
    "## Sinais senoidais exponencialmente amortecidos\n",
    "---\n",
    "- $x(t) = Ae^{-at}sen(\\omega_0t+\\phi)$, em que $a>0$\n",
    "\n",
    "![image.png](imagens/fig2.11.png)"
   ]
  },
  {
   "attachments": {},
   "cell_type": "markdown",
   "metadata": {
    "slideshow": {
     "slide_type": "slide"
    }
   },
   "source": [
    "\n",
    "## Função degrau unitário\n",
    "---\n",
    "\n",
    "- $\n",
    "u(t)=\n",
    "\\begin{cases}\n",
    "\\displaystyle 1, t\\geq 0 \\\\\n",
    "\\\\\n",
    "\\displaystyle 0, t<0\n",
    "\\end{cases} \n",
    "$\n",
    "\n",
    "![image.png](imagens/fig2.12.png)"
   ]
  },
  {
   "cell_type": "code",
   "execution_count": null,
   "metadata": {},
   "outputs": [],
   "source": []
  }
 ],
 "metadata": {
  "celltoolbar": "Slideshow",
  "kernelspec": {
   "display_name": "Python 3 (ipykernel)",
   "language": "python",
   "name": "python3"
  },
  "language_info": {
   "codemirror_mode": {
    "name": "ipython",
    "version": 3
   },
   "file_extension": ".py",
   "mimetype": "text/x-python",
   "name": "python",
   "nbconvert_exporter": "python",
   "pygments_lexer": "ipython3",
   "version": "3.11.3"
  }
 },
 "nbformat": 4,
 "nbformat_minor": 4
}
