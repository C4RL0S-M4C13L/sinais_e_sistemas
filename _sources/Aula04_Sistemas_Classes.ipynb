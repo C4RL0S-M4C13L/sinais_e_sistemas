{
 "cells": [
  {
   "cell_type": "markdown",
   "metadata": {},
   "source": [
    "# Sistemas e suas classes"
   ]
  },
  {
   "cell_type": "markdown",
   "metadata": {
    "slideshow": {
     "slide_type": "slide"
    }
   },
   "source": [
    "## Sistemas \n",
    "---\n",
    "\n",
    "### Introdução\n",
    "\n",
    "- É um dispositivo que processa um sinal aplicado em sua entrada gerando um sinal de saída;\n",
    "\n",
    "- É um processo (ou conjunto de interconexões de operações) que resulta numa transformação de um sinal.\n",
    "\n",
    "Admitindo $H[.]$ um operador que denota a transformação então:\n",
    "\n",
    "\\begin{equation} y(t) = H[x(t)]\\end{equation}\n",
    "\n",
    "![fig4.1.png](imagens/fig4.1.png)\n",
    "\n",
    "\\begin{equation}x(t) \\stackrel{H[.]}{\\rightarrow} y(t) \\end{equation}\n",
    "\n",
    "$x(t)$: sinal de entrada e $y(t)$: sinal de saída"
   ]
  },
  {
   "cell_type": "markdown",
   "metadata": {
    "cell_style": "split",
    "slideshow": {
     "slide_type": "slide"
    }
   },
   "source": [
    "## Sistemas - Diagrama de blocos\n",
    "---\n",
    "\n",
    "- Conexão série\n",
    "\n",
    "![fig4.2.png](imagens/fig4.2.png)\n",
    "\n",
    "- Conexão paralela\n",
    "\n",
    "![fig4.3.png](imagens/fig4.3.png)\n"
   ]
  },
  {
   "cell_type": "markdown",
   "metadata": {
    "cell_style": "split",
    "slideshow": {
     "slide_type": "fragment"
    }
   },
   "source": [
    "## Sistemas - Interconexões combinadas\n",
    "---\n",
    "\n",
    "- Diagrama de Blocos\n",
    "\n",
    "![fig4.4.png](imagens/fig4.4.png)\n",
    "\n",
    "![fig4.5.png](imagens/fig4.5.png)"
   ]
  },
  {
   "attachments": {},
   "cell_type": "markdown",
   "metadata": {
    "cell_style": "split",
    "slideshow": {
     "slide_type": "slide"
    }
   },
   "source": [
    "## Sistemas - Exemplo\n",
    "---\n",
    "\n",
    "- Circuito RC paralelo alimentado por uma fonte de corrente.\n",
    "\n",
    "![fig4.7.png](imagens/fig4.7.png)\n",
    "\n",
    "$ i(t) = i_1(t)+i_2(t)\\rightarrow i_1(t) = i(t)-i_2(t)$\n",
    "\n",
    "$ v(t) = \\frac{1}{C} \\int_{-\\infty}^{t}i_1(t)dt $\n",
    "\n",
    "$ i_2(t) = \\frac{v(t)}{R} $\n",
    "\n"
   ]
  },
  {
   "cell_type": "markdown",
   "metadata": {
    "cell_style": "split",
    "slideshow": {
     "slide_type": "fragment"
    }
   },
   "source": [
    "Modelo em diagrama de blocos:\n",
    "\n",
    "![fig4.8.png](imagens/fig4.8.png)"
   ]
  },
  {
   "cell_type": "markdown",
   "metadata": {},
   "source": [
    "### Conhecer as partes $\\to$ conhecer o comportamento do sistema todo / podemos dizer qual a resposta de saída para qualquer entrada\n",
    "\n",
    "\n",
    "### Será que podemos fazer o mesmo sem conhecer as partes que o constitui?"
   ]
  },
  {
   "cell_type": "markdown",
   "metadata": {
    "slideshow": {
     "slide_type": "slide"
    }
   },
   "source": [
    "## Modelo caixa preta (_Black box model_)\n",
    "---\n",
    "\n",
    "![fig4.9.png](imagens/imagens_aula4/fig4.9.png)"
   ]
  },
  {
   "cell_type": "markdown",
   "metadata": {
    "slideshow": {
     "slide_type": "slide"
    }
   },
   "source": [
    "## Como entender a resposta de um sistema?\n",
    "---\n",
    "\n",
    "- **Entenda o comportamento de pequenas partes e como vinculá-las.**\n",
    "    - Circuitos elétricos: elementos como resistor, capacitor, indutor, fontes controladas, e etc, associados com o uso das leis de Kirchhoff's para circuitos.\n",
    "    - Circuitos mecânicos: elementos como massa, mola e etc, associados com o uso das leis de Newton.\n",
    "\n",
    "- **Se o sistema é desconhecido, como determinar sua resposta para uma entrada geral x(t)?**\n",
    "    - Vá para o laboratório e faça vários experimentos."
   ]
  },
  {
   "cell_type": "markdown",
   "metadata": {
    "cell_style": "split",
    "slideshow": {
     "slide_type": "slide"
    }
   },
   "source": [
    "## Classes de sistemas\n",
    "---\n",
    "\n",
    "### O sistema é linear?\n",
    "### O sistema é estável?\n",
    "### O sistema é invariante no tempo?\n",
    "### O sistema é causal?\n",
    "\n",
    "![fig4.10.png](imagens/imagens_aula4/fig4.10.png)"
   ]
  },
  {
   "cell_type": "markdown",
   "metadata": {
    "cell_style": "split",
    "slideshow": {
     "slide_type": "slide"
    }
   },
   "source": [
    "## Classes de sistemas\n",
    "---\n",
    "\n",
    "![fig4.11.png](imagens/imagens_aula4/fig4.11.png)"
   ]
  },
  {
   "cell_type": "markdown",
   "metadata": {
    "slideshow": {
     "slide_type": "slide"
    }
   },
   "source": [
    "## Descrição Qualitativa das Classes"
   ]
  },
  {
   "cell_type": "markdown",
   "metadata": {
    "slideshow": {
     "slide_type": "slide"
    }
   },
   "source": [
    "## Estabilidade\n",
    "---\n",
    "\n",
    "- A estabilidade é um dos principais conceitos ligados a projeto de sistemas.\n",
    "\n",
    "- Existem diversos conceitos de estabilidade. No nosso caso será tratado apenas do **BIBO - bounded input bounded output**.\n",
    "\n",
    "- Esse conceito BIBO esta ligado a um sistema ser capaz de gerar uma saída limitada para uma entrada limitada.\n",
    "\n",
    "**Exemplo:**\n",
    "\n",
    "![fig4.12.png](imagens/imagens_aula4/fig4.12.png)"
   ]
  },
  {
   "cell_type": "markdown",
   "metadata": {
    "slideshow": {
     "slide_type": "slide"
    }
   },
   "source": [
    "## A ideia geral é que se o sinal de entrada esteja limitado entre $[-X_M, X_M]$ então a saída estaja limitada entre $[-Y_M, Y_M]$\n",
    "\n",
    "\n",
    "\n",
    "![fig4.12.png](imagens/estabilidade1.png)"
   ]
  },
  {
   "cell_type": "code",
   "execution_count": 2,
   "metadata": {},
   "outputs": [
    {
     "data": {
      "image/jpeg": "[encoded data removed]",
      "text/html": [
       "\n",
       "        <iframe\n",
       "            width=\"600\"\n",
       "            height=\"300\"\n",
       "            src=\"https://www.youtube.com/embed/0c_TOfVG2As\"\n",
       "            frameborder=\"0\"\n",
       "            allowfullscreen\n",
       "            \n",
       "        ></iframe>\n",
       "        "
      ],
      "text/plain": [
       "<IPython.lib.display.YouTubeVideo at 0x7f2cc111c650>"
      ]
     },
     "execution_count": 2,
     "metadata": {},
     "output_type": "execute_result"
    }
   ],
   "source": [
    "from IPython.display import YouTubeVideo\n",
    "YouTubeVideo('0c_TOfVG2As', width=600, height=300)\n"
   ]
  },
  {
   "cell_type": "markdown",
   "metadata": {},
   "source": [
    "## Caso a saída do sistema cresça sem limite isso pode levar a destruição do sistema\n",
    "\n",
    "![title](imagens/estabilidade2.png)"
   ]
  },
  {
   "cell_type": "code",
   "execution_count": 3,
   "metadata": {
    "slideshow": {
     "slide_type": "slide"
    }
   },
   "outputs": [
    {
     "data": {
      "image/jpeg": "[encoded data removed]",
      "text/html": [
       "\n",
       "        <iframe\n",
       "            width=\"600\"\n",
       "            height=\"300\"\n",
       "            src=\"https://www.youtube.com/embed/XggxeuFDaDU\"\n",
       "            frameborder=\"0\"\n",
       "            allowfullscreen\n",
       "            \n",
       "        ></iframe>\n",
       "        "
      ],
      "text/plain": [
       "<IPython.lib.display.YouTubeVideo at 0x7f2cc1152790>"
      ]
     },
     "execution_count": 3,
     "metadata": {},
     "output_type": "execute_result"
    }
   ],
   "source": [
    "from IPython.display import YouTubeVideo\n",
    "\n",
    "YouTubeVideo('XggxeuFDaDU', width=600, height=300)"
   ]
  },
  {
   "cell_type": "markdown",
   "metadata": {
    "slideshow": {
     "slide_type": "slide"
    }
   },
   "source": [
    "## Invariância no tempo\n",
    "---\n",
    "\n",
    "![fig4.14.png](imagens/imagens_aula4/fig4.14.png)"
   ]
  },
  {
   "cell_type": "markdown",
   "metadata": {
    "slideshow": {
     "slide_type": "slide"
    }
   },
   "source": [
    "## Linearidade\n",
    "---\n",
    "\n",
    "**Considere a seguinte situação**\n",
    "\n",
    "![fig4.15.png](imagens/imagens_aula4/fig4.15.png)"
   ]
  },
  {
   "cell_type": "code",
   "execution_count": 4,
   "metadata": {},
   "outputs": [
    {
     "data": {
      "image/jpeg": "[encoded data removed]",
      "text/html": [
       "\n",
       "        <iframe\n",
       "            width=\"600\"\n",
       "            height=\"300\"\n",
       "            src=\"https://www.youtube.com/embed/7bkZbqcXRIA\"\n",
       "            frameborder=\"0\"\n",
       "            allowfullscreen\n",
       "            \n",
       "        ></iframe>\n",
       "        "
      ],
      "text/plain": [
       "<IPython.lib.display.YouTubeVideo at 0x7f2cc1154d10>"
      ]
     },
     "execution_count": 4,
     "metadata": {},
     "output_type": "execute_result"
    }
   ],
   "source": [
    "from IPython.display import YouTubeVideo\n",
    "\n",
    "YouTubeVideo('7bkZbqcXRIA', width=600, height=300)"
   ]
  },
  {
   "cell_type": "code",
   "execution_count": 5,
   "metadata": {},
   "outputs": [
    {
     "data": {
      "image/jpeg": "[encoded data removed]",
      "text/html": [
       "\n",
       "        <iframe\n",
       "            width=\"600\"\n",
       "            height=\"300\"\n",
       "            src=\"https://www.youtube.com/embed/E6ciuhaXc_4\"\n",
       "            frameborder=\"0\"\n",
       "            allowfullscreen\n",
       "            \n",
       "        ></iframe>\n",
       "        "
      ],
      "text/plain": [
       "<IPython.lib.display.YouTubeVideo at 0x7f2cc1154f90>"
      ]
     },
     "execution_count": 5,
     "metadata": {},
     "output_type": "execute_result"
    }
   ],
   "source": [
    "YouTubeVideo('E6ciuhaXc_4', width=600, height=300)"
   ]
  },
  {
   "cell_type": "markdown",
   "metadata": {},
   "source": [
    "### A linearidade compreende dois comportamentos: a escala e a sobreposição"
   ]
  },
  {
   "cell_type": "markdown",
   "metadata": {
    "slideshow": {
     "slide_type": "slide"
    }
   },
   "source": [
    "## Causalidade\n",
    "---\n",
    "\n",
    "**Observe este trecho de programa:**\n",
    "\n",
    "    entrada x(n)\n",
    "\n",
    "    saída y(n)\n",
    "\n",
    "    for i=1:N\n",
    "\n",
    "        y(i)=(x(i-1)+x(i)+x(i+1))/3\n",
    "\n",
    "    end-for\n",
    "\n",
    "O que faz esse programa?"
   ]
  },
  {
   "cell_type": "markdown",
   "metadata": {
    "slideshow": {
     "slide_type": "slide"
    }
   },
   "source": [
    "## Causalidade\n",
    "---\n",
    "\n",
    "Observe que a saída y(i) depende:\n",
    "- do passado da entrada: x(i-1) (é preciso de memória).\n",
    "\n",
    "- do futuro da entrada: x(i+1)\n",
    "\n",
    "Se for considerado que **i** é o <u>instânte presente</u>, o nosso sistema precisaria de <u>entradas futuras</u> para saber como é o presente. **O sistema seria antecipativo**."
   ]
  },
  {
   "cell_type": "markdown",
   "metadata": {
    "slideshow": {
     "slide_type": "slide"
    }
   },
   "source": [
    "## Sistema com e sem memória\n",
    "---\n",
    "\n",
    "A saída depende da entrada somente para o instante atual.\n",
    "\n",
    "- O resistor é um sistema sem memória: $v(t) = Ri(t)$\n",
    "- O capacitor é um sistema com memória: $v(t) = \\frac{1}{C}\\int_{-\\infty}^{t}i(t)dt$\n",
    "- $y(t) = T\\{x(t)\\} = x²(t)$ ou $y[n] = T\\{x[n]²\\}$\n",
    "- $y(t) = T\\{x(t)\\} = x(t) + x(t-1)$ ou $y(t) = T\\{x(t)\\} = \\int_{T_0}^{T_1}x(t)dt$,\n",
    "- $y[n] = T\\{x[n]\\} = x[n] + x[n-1]$ ou $y[n] = T\\{x[n]\\} = \\sum_{n=N_0}^{N_1}x[n$"
   ]
  },
  {
   "cell_type": "code",
   "execution_count": null,
   "metadata": {},
   "outputs": [],
   "source": []
  },
  {
   "cell_type": "markdown",
   "metadata": {
    "slideshow": {
     "slide_type": "slide"
    }
   },
   "source": [
    "## Descrição 'mais formal' das classes"
   ]
  },
  {
   "cell_type": "markdown",
   "metadata": {
    "slideshow": {
     "slide_type": "slide"
    }
   },
   "source": [
    "## Sistema causal\n",
    "---\n",
    "\n",
    "### Definição\n",
    "\n",
    "### Um sistema é causal quando a sua saída, em qualquer instante de tempo $(t)$ ou amostra $(n)$, depende somente do valor presente ou dos valores passados do sinal de entrada.\n",
    "\n",
    "$$ y(t) = T\\{x(t)\\}$$\n",
    "\n",
    "### Se definir um $t_0$ da saída, $y(t_0) = T\\{x(t)\\}$, tem-se que os valor de $x(t)$ usados são apenas $t \\leq t_0$ \n",
    "\n",
    "\n",
    "\n",
    "\n",
    "### - Sistema causal: $y(t) = x(t) + x(t-1)$ ou $y[n] = x[n] + x[n-1]$\n",
    "### - Sistema causal: $y(t) = \\int_{-\\infty}^{t}x(\\tau)d\\tau$\n",
    "### - Sistema não-causal: $y(t) = x(t) + x(t+1)$ ou $y[n] = x[n] + x[n+1]$\n",
    "\n",
    "Sistema causal $\\rightarrow$ sistema não-antecipativo\n",
    "\n",
    "Sistema antecipativo $\\rightarrow$ sistema não-causal"
   ]
  },
  {
   "cell_type": "markdown",
   "metadata": {
    "slideshow": {
     "slide_type": "slide"
    }
   },
   "source": [
    "## Sistema estável\n",
    "---\n",
    "\n",
    "### Definição\n",
    "\n",
    "**Um sistema é estável no sentido BIBO (bounded input bounded output) se para toda entrada limitada a saída também é limitada**.\n",
    "\n",
    "$$ |x(t)| \\leq M_x < \\infty \\Rightarrow |y(t)| \\leq M_y < \\infty $$\n"
   ]
  },
  {
   "cell_type": "markdown",
   "metadata": {
    "slideshow": {
     "slide_type": "slide"
    }
   },
   "source": [
    "## Sistema Invariante no Tempo\n",
    "---\n",
    "\n",
    "### Definição\n",
    "**Um sistema é invariante no tempo se um deslocamento no sinal de entrada produzir o mesmo deslocamento no sinal de saída.**\n",
    "\n",
    "$$y(t) = H\\{x(t)\\}\\Rightarrow y(t-t_0) = H\\{x(t-t_0)\\} $$\n"
   ]
  },
  {
   "cell_type": "markdown",
   "metadata": {
    "slideshow": {
     "slide_type": "slide"
    }
   },
   "source": [
    "## Sistema Linear\n",
    "---\n",
    "\n",
    "## Definição\n",
    "- **satisfaz o princípio da superposição;\n",
    "- **satisfaz a condição de escala.\n",
    "\n",
    "**Admitindo que $y_i(t) = H[x_i(t)]$ e $a_i$ são constantes quaisquer, o sistema é _linear_** se: \n",
    "\n",
    "\n",
    "$$ y(t) = H[a_1x_1(t)+a_2x_2(t)+\\dots+a_Nx_N(t)] $$\n",
    "\n",
    "$$ y(t) = a_1H[x_1(t)]+a_2H[x_2(t)]+\\dots+a_NH[x_N(t)] $$\n",
    "\n",
    "$$ y(t) = a_1y_1(t)+a_2y_2(t)+\\dots+a_Ny_N(t) $$\n"
   ]
  }
 ],
 "metadata": {
  "celltoolbar": "Slideshow",
  "kernelspec": {
   "display_name": "Python 3 (ipykernel)",
   "language": "python",
   "name": "python3"
  },
  "language_info": {
   "codemirror_mode": {
    "name": "ipython",
    "version": 3
   },
   "file_extension": ".py",
   "mimetype": "text/x-python",
   "name": "python",
   "nbconvert_exporter": "python",
   "pygments_lexer": "ipython3",
   "version": "3.11.3"
  }
 },
 "nbformat": 4,
 "nbformat_minor": 4
}
