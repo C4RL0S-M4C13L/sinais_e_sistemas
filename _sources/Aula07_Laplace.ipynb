{
 "cells": [
  {
   "cell_type": "markdown",
   "metadata": {
    "slideshow": {
     "slide_type": "slide"
    }
   },
   "source": [
    "\n",
    "# Transformada de Laplace\n",
    "\n",
    "## Tópicos que serão abordados\n",
    "\n",
    "###    - a transformada de Laplace;\n",
    "    \n",
    "###    - região de convergência;\n",
    "    \n",
    "###    - propriedades;\n",
    "    \n",
    "###    - inversão da transformada;\n",
    "    \n",
    "###    - aplicações."
   ]
  },
  {
   "cell_type": "markdown",
   "metadata": {
    "slideshow": {
     "slide_type": "slide"
    }
   },
   "source": [
    "## Transformada de Laplace: Introdução\n",
    "---\n",
    "\n",
    "## - É utilizada na análise e caracterização de sistemas lineares invariantes no tempo:\n",
    "###    - Determinação da função de transferência ou da função do sistema;\n",
    "###    - Análise de estabilidade, causalidade, etc.\n",
    "\n"
   ]
  },
  {
   "cell_type": "markdown",
   "metadata": {
    "slideshow": {
     "slide_type": "slide"
    }
   },
   "source": [
    "## Sistema Linear e Invariante no Tempo\n",
    "---\n",
    "\n",
    "## $x(t) \\to  \\fbox{h(t)}  \\to y(t) = h(t)*x(t) = \\int_{-\\infty}^{\\infty} h(\\tau)x(t-\\tau)d\\tau $\n",
    "\n",
    "### fazendo $x(t) = e^{st}$\n",
    "\n",
    "## $y(t) = \\int_{-\\infty}^{\\infty} h(\\tau)e^{s(t-\\tau)}d\\tau = \\underbrace{e^{st}}_{auto-função}\\underbrace{\\int_{-\\infty}^{\\infty} h(\\tau)e^{-s\\tau}d\\tau}_{auto-valor}$\n",
    "\n",
    "### Todas as famílias de funções na forma $e^{st}$ se comportam como auto-funções para sistemas LIT. \n"
   ]
  },
  {
   "cell_type": "markdown",
   "metadata": {
    "slideshow": {
     "slide_type": "slide"
    }
   },
   "source": [
    "## A transformada de Laplace\n",
    "---\n",
    "\n",
    "## - Definição:\n",
    "\n",
    "$$ X(s) = \\int_{-\\infty}^{\\infty}x(t)e^{-st}dt, s=\\sigma+j\\omega $$\n",
    "\n",
    "## - Forma de representação:\n",
    "\n",
    "$$ x(t)  \\stackrel{\\mathcal{L}} \\rightarrow X(s) $$\n",
    "\n",
    "### Condição de existência da TL $\\to$ Região de Convergência ___ROC___\n",
    "\n",
    "### Lugar geométrico do plano complexo (S) onde a TL converge\n"
   ]
  },
  {
   "cell_type": "markdown",
   "metadata": {
    "cell_style": "center",
    "slideshow": {
     "slide_type": "slide"
    }
   },
   "source": [
    "## - A transformada de Laplace se aplica a sinais mais gerais\n",
    "---\n",
    "\n",
    "#### - consequentemente uma condição para a convergência é que:\n",
    "    \n",
    "### $ \\int_{-\\infty}^{\\infty}|x(t)e^{-st}|dt < \\infty \\to \\int_{-\\infty}^{\\infty}|x(t)e^{-(\\sigma+j\\omega)t}|dt$ \n",
    "\n",
    "### $ \\int_{-\\infty}^{\\infty}|x(t)e^{-(\\sigma+j\\omega)t}|dt = \\int_{-\\infty}^{\\infty}|x(t)e^{-\\sigma t}| \\underbrace{|e^{-j\\omega t}|}_{1}dt < \\infty  $ \n",
    "\n",
    "    \n"
   ]
  },
  {
   "cell_type": "markdown",
   "metadata": {
    "cell_style": "center",
    "slideshow": {
     "slide_type": "slide"
    }
   },
   "source": [
    "## **As ROC são dependentes apenas de $\\sigma$ e, dessa forma, são semi-planos paralelos ao eixo-y**\n",
    "\n",
    "- **Plano s:**\n",
    "\n",
    "\n",
    "![fig4.1.png](imagens/fig7.1.png)"
   ]
  },
  {
   "cell_type": "markdown",
   "metadata": {},
   "source": [
    "## A transformada de Laplace Unilateral\n",
    "---\n",
    "\n",
    "### - Definição:   $X(s) = \\int_{0^-}^{\\infty}x(t)e^{-st}dt $\n",
    "\n",
    "### Diferenciação $\\frac{d}{dt}x(t) = sX(s) - x(0^-)$\n",
    "\n",
    "### Integração $\\int_{-\\infty}^{t}x(\\tau)d\\tau = \\frac{1}{s}X(s) - \\frac{1}{s}\\int_{-\\infty}^{0^-}x(\\tau)d\\tau$\n",
    "\n",
    "A transformada de Laplace unilateral ignora $x(t)$ para $t < 0$. Como $x(t)$ é um sinal lateral direito, a ROC de $X(s)$ é sempre da forma $Re(s) > σ_{max}$ ou seja, o semi-plano lateral direito de $s$."
   ]
  },
  {
   "cell_type": "markdown",
   "metadata": {
    "slideshow": {
     "slide_type": "slide"
    }
   },
   "source": [
    "## Exercícios\n",
    "---\n",
    "\n",
    "### 1- $e^{-at}u(t) \\stackrel{\\mathcal{L}} \\rightarrow \\frac{1}{s+a}, \\ \\ \\     \\sigma > -a $\n",
    "\n",
    "### 2- $-e^{-at}u(-t) \\stackrel{\\mathcal{L}} \\rightarrow \\frac{1}{s+a}, \\ \\ \\ \\sigma < -a $\n",
    "\n",
    "### 3- $ e^{-t}u(t) + e^{-3t}u(t) \\stackrel{\\mathcal{L}} \\rightarrow \\frac{1}{s+1} + \\frac{1}{s+3}, \\ \\ \\ \\sigma > -1 $\n",
    "\n",
    "![fig4.1.png](imagens/fig7.2.png)"
   ]
  },
  {
   "cell_type": "markdown",
   "metadata": {
    "slideshow": {
     "slide_type": "slide"
    }
   },
   "source": [
    "## Exercício 1\n",
    "---\n",
    "\n",
    "\n",
    "### $X(s) = \\int_{-\\infty}^{\\infty} x(t)e^{-st}dt = \\int_{0}^{\\infty} e^{-at}e^{-st}dt$\n",
    "\n",
    "### $X(s) = \\int_{0}^{\\infty} e^{-(a+s)t}dt = -\\frac{1}{s+a}e^{-(s+a)t}\\Big |_{0}^{\\infty} $\n",
    "\n",
    "### $X(s) = \\lim_{t \\to \\infty} -\\frac{1}{s+a}e^{-(s+a)t} - [-\\frac{1}{s+a}e^{-(s+a)0}]$\n",
    "\n",
    "### Quando o limite converge?  $\\Re\\{{s+a}\\}>0 \\to \\sigma > -a$\n",
    "\n",
    "### Resposta $X(s) = \\frac{1}{s+a}, \\sigma > -a$\n"
   ]
  },
  {
   "cell_type": "markdown",
   "metadata": {
    "slideshow": {
     "slide_type": "slide"
    }
   },
   "source": [
    "## Exercícios\n",
    "---\n",
    "\n",
    "### 4- $e^{-3t}u(t) -e^{-t}u(-t) \\stackrel{\\mathcal{L}} \\to \\frac{1}{s+3}+ \\frac{1}{s+1}, -3<\\sigma<-1$\n",
    "\n",
    "### 5- $e^{-t}u(t) - e^{-3t}u(-t) \\stackrel{\\mathcal{L}} \\to ROC: \\sigma<-3 \\text{ e } \\sigma>-1 $ Não existe solução\n",
    "\n",
    "\n"
   ]
  },
  {
   "cell_type": "markdown",
   "metadata": {
    "slideshow": {
     "slide_type": "slide"
    }
   },
   "source": [
    "## Observações\n",
    "---\n",
    "\n",
    "## Para o exemplo 3\n",
    "\n",
    "### $$e^{-t}u(t) + e^{-3t}u(t) \\stackrel{\\mathcal{L}} \\rightarrow \\frac{1}{s+1} + \\frac{1}{s+3}, \\sigma > -1 $$\n",
    "\n",
    "### $$X(s) = \\frac{2(s+2)}{(s+1)(s+3)}, \\sigma > -1 $$\n",
    "\n",
    "- O diagrama de pólos e zeros no plano s será:\n",
    "\n",
    "![fig4.1.png](imagens/fig7.3.png)"
   ]
  },
  {
   "cell_type": "markdown",
   "metadata": {
    "slideshow": {
     "slide_type": "slide"
    }
   },
   "source": [
    "## Observações\n",
    "---\n",
    "\n",
    "## - nos três exemplos X(s) é uma razão de polinômios:\n",
    "\n",
    "### $$ X(s) = \\frac{N(s)}{D(s)} \\rightarrow \\frac{\\text{raízes = zeros}}{\\text{raízes = polos}} $$\n",
    "\n",
    "### - Se $x(t)$ for uma combinação de exponenciais complexas então $X(s)$ será uma função racional.\n",
    "\n",
    "\n",
    "### - Sistemas lineares descritos por equações diferenciais lineares com coeficientes constantes apresentam transformada racional.\n",
    "\n",
    "####    - As raízes do numerador e denominador descrevem o sistema.\n",
    "    \n",
    "####    - Os pólos estão relacionados com a região de convergência."
   ]
  },
  {
   "cell_type": "markdown",
   "metadata": {
    "slideshow": {
     "slide_type": "slide"
    }
   },
   "source": [
    "## Propriedades da região de convergência (RDC)\n",
    "---\n",
    "\n",
    "- Para que a transformada de Laplace convirja:\n",
    "\n",
    "$\\int_{-\\infty}^{\\infty}|x(t)e^{-st}|dt < \\infty$, em que $\\sigma = \\Re\\{s\\}$\n",
    " \n",
    "- O conjunto de valores de $\\sigma$ define a RDC:\n",
    "\n",
    "1- A RDC consiste de faixas paralelas ao eixo jw.\n",
    "\n",
    "2- Para sinais de duração finita a RDC é todo o plano s.\n",
    "\n",
    "3- A RDC não contém pólos.\n",
    "\n",
    "4- Sinal lateral direito $(x(t)u(t))$ a RDC então a RDC é da forma: $\\sigma > \\sigma_0$\n",
    "\n",
    "5- Sinal lateral esquerdo $(x(t)u(-t)$ a RDC então a RDC é da forma: $\\sigma < \\sigma_1$\n",
    "\n",
    "6- Sinal bilateral ($x(t) \\neq 0, -\\infty < t < \\infty$ ) a RDC então a RDC é da forma: $\\sigma_0 < \\sigma < \\sigma_1$"
   ]
  },
  {
   "cell_type": "markdown",
   "metadata": {
    "slideshow": {
     "slide_type": "slide"
    }
   },
   "source": [
    "## Propriedades da transformada de Laplace\n",
    "---\n",
    "\n",
    "### Linearidade:\n",
    "\n",
    "$$ x_1(t) \\stackrel{\\mathcal{L}} \\leftrightarrow X_1(s) \\ \\ \\text{e}\\ \\ x_2(t) \\stackrel{\\mathcal{L}} \\leftrightarrow X_2(s) $$\n",
    "\n",
    "$$ a_1x_1(t)+a_2x_2(t) \\stackrel{\\mathcal{L}} \\leftrightarrow a_1X_1(s)+a_2X_2(s) $$\n",
    "\n",
    "**RDC = $R_1 \\cap R_2$**\n",
    "\n",
    "### Deslocamento no tempo:\n",
    "\n",
    "$$ x(t-t_d) \\stackrel{\\mathcal{L}} \\leftrightarrow e^{-st_d}X(s) $$\n",
    "\n",
    "**RDC = R** $\\rightarrow$ A própria RDC de $X(s)$"
   ]
  },
  {
   "cell_type": "markdown",
   "metadata": {
    "slideshow": {
     "slide_type": "slide"
    }
   },
   "source": [
    "## Propriedades da transformada de Laplace\n",
    "---\n",
    "\n",
    "### Deslocamento em S\n",
    "\n",
    "$$ e^{s_0t}x(t) \\stackrel{\\mathcal{L}} \\leftrightarrow  X(s-s_0) \\ \\ \\ RDC = R + Re[s_0] $$\n",
    "\n",
    "### Compressão / Expansão\n",
    "\n",
    "$$ x(at) \\stackrel{\\mathcal{L}} \\leftrightarrow \\frac{1}{|a|}X\\left(\\frac{s}{a}\\right) \\ \\ \\ RDC=R/a $$\n",
    "\n"
   ]
  },
  {
   "cell_type": "markdown",
   "metadata": {
    "slideshow": {
     "slide_type": "slide"
    }
   },
   "source": [
    "## Convolução\n",
    "\n",
    "$$ x_1(t) * x_2(t) \\stackrel{\\mathcal{L}} \\leftrightarrow X_1(s).X_2(s) \\ \\ \\ RDC = R_1 \\cap R_2 $$\n",
    "\n",
    "### Diferenciação no domínio do tempo\n",
    "\n",
    "Com condições inicias nulas:\n",
    "\n",
    "$$ \\frac{d}{dt}x(t) \\stackrel{\\mathcal{L}} \\leftrightarrow sX(s) \\ \\ \\ RDC = R $$"
   ]
  },
  {
   "cell_type": "markdown",
   "metadata": {
    "slideshow": {
     "slide_type": "slide"
    }
   },
   "source": [
    "## Propriedades da transformada de Laplace\n",
    "---\n",
    "\n",
    "### Integração no domínio do tempo\n",
    "\n",
    "$$ \\int_{\\infty}^{t}x(\\tau)d\\tau \\stackrel{\\mathcal{L}} \\leftrightarrow \\frac{1}{s}X(s) \\ \\ \\ RDC = R + \\sigma >0 $$\n",
    "\n",
    "\n",
    "### Diferenciação em Laplace\n",
    "\n",
    "Com condições iniciais nulas:\n",
    "\n",
    "$$-tx(t) \\stackrel{\\mathcal{L}} \\leftrightarrow \\frac{d}{ds}X(s) \\ \\ \\ RDC = R $$\n"
   ]
  },
  {
   "cell_type": "markdown",
   "metadata": {
    "slideshow": {
     "slide_type": "slide"
    }
   },
   "source": [
    "## Teoremas do valor inicial e do valor final\n",
    "\n",
    "x(t) é um sinal causal sem impulsos ou singularidades na origem.\n",
    "\n",
    "$$ x(0_+) = \\lim_{s\\rightarrow \\infty} sX(s) \\ \\ \\ \\text{valor inicial} $$\n",
    "\n",
    "$$\\lim_{t\\rightarrow \\infty}x(t) = \\lim_{s\\rightarrow 0} sX(s) \\ \\ \\ \\text{valor final} $$"
   ]
  },
  {
   "cell_type": "markdown",
   "metadata": {
    "slideshow": {
     "slide_type": "slide"
    }
   },
   "source": [
    "## Transforma Laplace Unilateral\n",
    "---\n",
    "\n",
    "## Transformada Bilateral: $X(s) = \\int_{-\\infty}^{\\infty} x(t)e^{-st}dt$\n",
    "\n",
    "## Transformada Unilateral: $X(s) = \\int_{0}^{\\infty} x(t)e^{-st}dt$\n",
    "\n",
    "### A transformada unilateral vai incorporar todo o comportamento do sistema de $-\\infty$ até $^-0$ na forma de condições iniciais em $t=0$.\n"
   ]
  },
  {
   "cell_type": "markdown",
   "metadata": {
    "slideshow": {
     "slide_type": "slide"
    }
   },
   "source": [
    "## Transformada de Laplace inversa\n",
    "---\n",
    "\n",
    "A transformada de Laplace inversa é calculada pela seguinte equação:\n",
    "\n",
    "$$ x(t) = \\frac{1}{2\\pi j}\\int_{\\sigma-j\\infty}^{\\sigma+j\\infty}X(s)e^{st}ds $$\n",
    "\n",
    "- A equação acima envolve integral de contorno em uma linha reta paralela ao eixo $j\\omega$.\n",
    "\n"
   ]
  },
  {
   "cell_type": "markdown",
   "metadata": {},
   "source": [
    "## Caso das transformadas cuja forma é uma razão de dois polinômios.\n",
    "    \n",
    "$$ X(s) = \\frac{N(s)}{D(s)} = \\frac{b_Ms^M+b_{M-1}s^{M-1}+\\dots+b_1s+b_0}{s^N+a_{N-1}s^{N-1}+\\dots+a_1s+a_0} $$\n",
    "\n",
    "- Em que $M < N$ e $a_N$ = 1\n"
   ]
  },
  {
   "cell_type": "markdown",
   "metadata": {
    "slideshow": {
     "slide_type": "slide"
    }
   },
   "source": [
    "## Transformada de Laplace inversa\n",
    "---\n",
    "\n",
    "### Calculando os pólos [$p_k$] de X(s) podemos escrever que:\n",
    "\n",
    "$$X(s) = \\frac{N(s)}{D(s)} = \\frac{b_Ms^M+b_{M-1}s^{M-1}+\\dots+b_1s+b_0}{\\prod_{k=1}^{N}(s-p_k)} $$\n",
    "\n",
    "### Expansão em frações parciais\n",
    "\n",
    "Se os polos forem distintos uns dos outros então:\n",
    "\n",
    "$$X(s) = \\sum_{k=1}^{N}\\frac{A_k}{(s-p_k)} $$\n",
    "\n",
    "em que: $A_k = \\left\\{(s-p_k)X(s)\\right\\}_{s=p_k}$ $\\ \\ k=1, \\dots, N$ Justificativa **Teorema dos Resíduos**"
   ]
  },
  {
   "cell_type": "markdown",
   "metadata": {
    "slideshow": {
     "slide_type": "slide"
    }
   },
   "source": [
    "## Transformada de Laplace inversa\n",
    "---\n",
    "\n",
    "### Expansão em frações parciais\n",
    "\n",
    "se ocorrer um pólo $p$, com multiplicidade $r$, então são incluídos na expansão $r$ termos do tipo:\n",
    "\n",
    "$$\\frac{k_1}{(s-p)}, \\frac{k_2}{(s-p)^2}, \\dots, \\frac{k_r}{(s-p)^r} $$\n",
    "\n",
    "em que:\n",
    "\n",
    "$$k_i = \\frac{1}{(r-i)!}\\frac{d^{r-i}}{ds^{r-i}}\\left\\{(s-p)^rX(s)\\right\\}_{s=p} \\ \\ \\ i=1,2,\\dots,r $$\n",
    "\n"
   ]
  },
  {
   "cell_type": "markdown",
   "metadata": {
    "slideshow": {
     "slide_type": "slide"
    }
   },
   "source": [
    "### Pares de transformadas de Laplace importantes:\n",
    "\n",
    "$$ A_ke^{-at}u(t) \\stackrel{\\mathcal{L}} \\leftrightarrow \\frac{A_k}{s+a} \\ \\ \\ \\sigma>-a $$\n",
    "\n",
    "$$ \\frac{k_rt^{r-1}}{(r-1)!}e^{-at}u(t) \\stackrel{\\mathcal{L}} \\leftrightarrow \\frac{k_r}{(s+a)^r} \\ \\ \\ \\sigma>-a $$\n"
   ]
  },
  {
   "cell_type": "markdown",
   "metadata": {
    "slideshow": {
     "slide_type": "slide"
    }
   },
   "source": [
    "## Análise de sistemas lineares utilizando a transformada de Laplace\n",
    "---\n",
    "\n",
    "Em um sistema LTI os sinais de entrada e saída estão relacionados pela integral de convolução:\n",
    "\n",
    "$$ y(t) = h(t) * x(t), $$\n",
    "\n",
    "onde:\n",
    "\n",
    "- $y(t)$ é a saída do sistema\n",
    "\n",
    "- $h(t)$ é a resposta ao impulso\n",
    "\n",
    "- $x(t)$ é a entrada\n",
    "\n",
    "Pela propriedade da convolução:\n",
    "\n",
    "$ Y(s) = H(s).X(s)$\n",
    "\n"
   ]
  },
  {
   "cell_type": "markdown",
   "metadata": {
    "slideshow": {
     "slide_type": "slide"
    }
   },
   "source": [
    "## Sistemas descritos por equações diferenciais lineares\n",
    "---\n",
    "\n",
    "- Para um sistema LIT, descrito por equação diferencial com coeficientes constantes, tem-se que:\n",
    "\n",
    "$$\\sum_{k=0}^{N}a_k\\frac{d^k}{dt^k}y(t) = \\sum_{k=0}^{M}b_k\\frac{d^k}{dt^k}x(t) $$\n",
    "\n",
    "- aplicando a transformada de Laplace em ambos os lados da equação acima tem-se:\n",
    "\n",
    "$$ \\mathcal{L}\\left\\{\\sum_{k=0}^{N}a_k\\frac{d^k}{dt^k}y(t)\\right\\} = \\mathcal{L}\\left\\{\\sum_{k=0}^{M}b_k\\frac{d^k}{dt^k}x(t)\\right\\} $$"
   ]
  },
  {
   "cell_type": "markdown",
   "metadata": {
    "slideshow": {
     "slide_type": "slide"
    }
   },
   "source": [
    "## Sistemas descritos por equações diferenciais lineares\n",
    "---\n",
    "\n",
    "- Pelas propriedades da linearidade e diferenciação no tempo:\n",
    "\n",
    "$$ \\left\\{\\sum_{k=0}^{N}a_ks^k\\right\\}Y(s)=\\left\\{\\sum_{k=0}^{M}b_ks^k\\right\\}X(s) $$\n",
    "\n",
    "- portanto a **função de transferência** será:\n",
    "\n",
    "$$ H(s) = \\frac{Y(s)}{X(s)}=\\frac{\\sum_{k=0}^{M}b_ks^k}{\\sum_{k=0}^{N}a_ks^k}=\\frac{N(s)}{D(s)} $$\n",
    "\n",
    "- H(s) é uma função racional de s\n",
    "    - polinômios no numerador e denominador\n",
    "    \n",
    "    - Os coeficientes são os mesmos da equação diferencial."
   ]
  },
  {
   "cell_type": "markdown",
   "metadata": {
    "slideshow": {
     "slide_type": "slide"
    }
   },
   "source": [
    "## Sistemas descritos por equações diferenciais lineares\n",
    "---\n",
    "\n",
    "- Zeros $c_k$ de H(s) são as raízes do numerador:\n",
    "\n",
    "$$ N(s) = \\sum_{k=0}^{M}b_ks^k=0 $$\n",
    "\n",
    "- Polos $p_k$ de H(s) são as raízes do denominador:\n",
    "\n",
    "$$ D(s) = \\sum_{k=0}^{N}a_ks^k=0 $$\n",
    "\n",
    "- A RDC e propriedades de estabilidade podem ser determinadas através da localização dos pólos de H(s) pois:\n",
    "\n",
    "$$H(s) = \\frac{b_M}{a_N}\\frac{\\prod_{k=1}^{M}(s-c_k)}{\\prod_{k=1}^{N}(s-p_k)} \\ \\ \\ \\ \\ \\Rightarrow \\text{Exercício 16}$$"
   ]
  },
  {
   "cell_type": "markdown",
   "metadata": {
    "slideshow": {
     "slide_type": "slide"
    }
   },
   "source": [
    "## Causalidade e estabilidade de sistemas LTI\n",
    "---\n",
    "\n",
    "- sabemos que a resposta ao impulso fornece informações sobre a estabilidade e causalidade dos sistemas.\n",
    "\n",
    "- para um sistema LTI causal, h(t) é nula para $t < 0$.\n",
    "\n",
    "$ h(t) = 0, t<0$ então a ROC deve incluir $+\\infty$ ou estar a direita do polo com maior parte Real.\n",
    "\n",
    "- para um sistema LTI estável, $h(t)$ é absolutamente integrável.\n",
    "\n",
    "$ \\int_{-\\infty}^{\\infty}|h(t)|dt \\ < \\infty $\n",
    "\n",
    "$ \\int_{-\\infty}^{\\infty}|h(t)||e^{j\\omega t}|dt \\ < \\infty $ ou seja, a reta $j\\omega$ deve estar na ROC da TLaplace\n",
    "\n",
    "- portanto, para um sistema LTI estável:\n",
    "\n",
    "    - ROC inclui a reta $j\\omega$ pois $h(t)$ é absolutamente integrável\n",
    "    \n",
    "    - estar a direita do polo com maior parte Real."
   ]
  },
  {
   "cell_type": "markdown",
   "metadata": {
    "slideshow": {
     "slide_type": "slide"
    }
   },
   "source": [
    "## Sistemas estáveis\n",
    "---\n",
    "\n",
    "Seja $s=p_k$ um polo de $H(s)$:\n",
    "\n",
    "- este pólo contribui, no domínio do tempo, com um termo exponencial.\n",
    "\n",
    "**A exponencial é decrescente e absolutamente integrável se:**\n",
    "\n",
    "$$ Re(p_k)=\\sigma_k < \\ 0 \\ \\ \\ \\text{e a RDC à direita} $$\n",
    "\n",
    "\n",
    "![fig4.1.png](imagens/fig7.4.png)"
   ]
  },
  {
   "cell_type": "markdown",
   "metadata": {
    "slideshow": {
     "slide_type": "slide"
    }
   },
   "source": [
    "## Sistemas estáveis\n",
    "---\n",
    "**Ou a exponencial é decrescente e absolutamente integrável se:**\n",
    "\n",
    "$$ Re(p_k)=\\sigma_k > \\ 0 \\ \\ \\ \\text{e a RDC à esquerda} $$\n",
    "\n",
    "![fig4.1.png](imagens/fig7.5.png)"
   ]
  },
  {
   "cell_type": "markdown",
   "metadata": {
    "slideshow": {
     "slide_type": "slide"
    }
   },
   "source": [
    "## Sistemas Causais e estáveis\n",
    "---\n",
    "\n",
    "- Os pólos de H(s) devem estar localizados no semi-plano esquerdo do plano s, e a Região de Convergência deve incluir o eixo imaginário jw.\n",
    "\n",
    "![fig4.1.png](imagens/fig7.6.png)"
   ]
  }
 ],
 "metadata": {
  "celltoolbar": "Slideshow",
  "kernelspec": {
   "display_name": "Python 3 (ipykernel)",
   "language": "python",
   "name": "python3"
  },
  "language_info": {
   "codemirror_mode": {
    "name": "ipython",
    "version": 3
   },
   "file_extension": ".py",
   "mimetype": "text/x-python",
   "name": "python",
   "nbconvert_exporter": "python",
   "pygments_lexer": "ipython3",
   "version": "3.11.3"
  }
 },
 "nbformat": 4,
 "nbformat_minor": 4
}
