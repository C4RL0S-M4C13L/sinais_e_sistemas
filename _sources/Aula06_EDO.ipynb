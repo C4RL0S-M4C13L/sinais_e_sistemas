{
 "cells": [
  {
   "cell_type": "markdown",
   "metadata": {
    "slideshow": {
     "slide_type": "slide"
    }
   },
   "source": [
    "# Equações Diferenciais Lineares\n",
    "---\n",
    "\n",
    "## Forma geral da representação:\n",
    "\n",
    "$$ \\sum_{k=0}^{N}a_k\\frac{d^K}{dt^k}y(t) = \\sum_{k=0}^{M}b_k\\frac{d^K}{dt^k}x(t) $$\n",
    "\n",
    "#### - $a_k$ e $b_k$ são coeficientes constantes.\n",
    "\n",
    "#### - N (a maior derivada de y(t)) $\\rightarrow$ ordem do sistema.\n",
    "\n",
    "#### A solução consiste de duas partes:\n",
    "\n",
    "- solução homogênea (resposta natural) $\\to y_h(t)$\n",
    "\n",
    "- solução particular $\\to y_p(t)$\n",
    "\n",
    "$$ y(t) = y_h(t)+y_p(t) $$"
   ]
  },
  {
   "cell_type": "markdown",
   "metadata": {
    "slideshow": {
     "slide_type": "slide"
    }
   },
   "source": [
    "\n",
    "## Considerações\n",
    "---\n",
    "\n",
    "### Um sistema para a qual a entrada e a saída satisfazem uma equação linear de diferenças possui:\n",
    "\n",
    "#### - A saída para uma dada entrada não é unicamente especificada. Informações adicionais são necessárias;\n",
    "\n",
    "#### - A informação auxiliar consiste de $N$ condições iniciais da saída;\n",
    "\n",
    "#### - Se $N = 0$ nenhuma condição é necessária para o cálculo da saída.\n",
    "\n",
    "#### - Linearidade, invariância no tempo e causalidade do sistema não dependem das condições auxiliares."
   ]
  },
  {
   "cell_type": "markdown",
   "metadata": {
    "slideshow": {
     "slide_type": "slide"
    }
   },
   "source": [
    "## Equações Diferenciais Lineares\n",
    "---\n",
    "\n",
    "### Solução\n",
    "\n",
    "- A solução da equação diferencial necessita de um conjunto de N condições auxiliares:\n",
    "\n",
    "$$ y(t_0), \\frac{d}{dt}y(t_0), \\dots, \\frac{d^{N-1}}{dt^{N-1}}y(t_0) $$\n",
    "\n",
    "Essas condições resumem as condições dos dispositivos que armazenam energia (tensões nos capacitores, correntes nos indutores, $\\dots$)"
   ]
  },
  {
   "cell_type": "markdown",
   "metadata": {
    "slideshow": {
     "slide_type": "slide"
    }
   },
   "source": [
    "## Equações Diferenciais Lineares\n",
    "---\n",
    "\n",
    "### Solução\n",
    "\n",
    "- A solução da equação diferencial necessita de um conjunto de $N$ condições auxiliares: Um sistema linear é causal se a condição inicial de repouso for satisfeita:\n",
    "\n",
    "$$x(t) = 0, t < t_0 \\rightarrow y(t) = 0, t < t_0 $$"
   ]
  },
  {
   "cell_type": "markdown",
   "metadata": {
    "slideshow": {
     "slide_type": "slide"
    }
   },
   "source": [
    "## Solução homogênea ou resposta natural\n",
    "---\n",
    "\n",
    "$y_h(t)$ $\\rightarrow$ a resposta natural é a saída do sistema quando a entrada é nula: \n",
    "\n",
    "$$\\underbrace{\\sum_{k=0}^{N}a_k\\frac{d^K}{dt^k}y_h(t) = 0}_{\\text{equação homogênea}} $$\n",
    "\n",
    "A solução apresenta a seguinte forma: \n",
    "\n",
    "$$ y_h(t) = \\sum_{k=1}^{N}C_ke^{\\alpha_kt}$$ \n",
    "\n",
    "Em que os coeficientes $\\alpha_k$ são as raízes da seguinte equação característica: \n",
    "\n",
    "$\\sum_{k=0}^{N}a_k s^k = a_0+a_1s+\\ldots+a_Ns^N$"
   ]
  },
  {
   "cell_type": "markdown",
   "metadata": {
    "slideshow": {
     "slide_type": "slide"
    }
   },
   "source": [
    "\n",
    "## Solução homogênea ou resposta natual\n",
    "---\n",
    "\n",
    "### Com relação ao tipo de raízes, tem-se os seguintes tipos de saída:\n",
    "\n",
    "#### - Reais $\\rightarrow$ **Exponenciais Reais**\n",
    "\n",
    "#### - Imaginárias $\\rightarrow$ **Senóides**\n",
    "\n",
    "#### - Complexas $\\rightarrow$ **Senóides Amortecidas**\n",
    "\n",
    "### Se uma das raízes tiver multiplicidade M, são incluídos M termos:\n",
    "\n",
    "$$ e^{\\alpha_it}, te^{\\alpha_it}, \\dots, t^{M-1}e^{\\alpha_it} $$"
   ]
  },
  {
   "cell_type": "markdown",
   "metadata": {
    "slideshow": {
     "slide_type": "slide"
    }
   },
   "source": [
    "\n",
    "## Solução particular\n",
    "---\n",
    "\n",
    "### $y_p(t)$ $\\rightarrow$ a solução particular é obtida através da resposta forçada na forma $e^{st}$. \n",
    "\n",
    "### Supõe-se que a saída tenha a mesma forma geral de entrada.\n",
    "\n",
    "$$ 1 \\rightarrow c   $$\n",
    "\n",
    "$$ e^{\\alpha t}\\rightarrow ce^{\\alpha t} $$\n",
    "\n",
    "$$ cos(\\omega t + \\phi) \\rightarrow c_1cos(\\omega t) + c_2sen(\\omega t) $$\n",
    "\n"
   ]
  },
  {
   "cell_type": "markdown",
   "metadata": {
    "slideshow": {
     "slide_type": "slide"
    }
   },
   "source": [
    "## Estruturas para sistemas contínuos no tempo\n",
    "---\n",
    "\n",
    "### Conceitos básicos\n",
    "\n",
    "Os sistemas descritos por equações diferenciais com coeficientes constantes podem ser representados por um diagrama de blocos de operações elementares. Três operações básica são utilizadas:\n",
    "\n",
    "![fig4.1.png](imagens/fig6.7.png)"
   ]
  },
  {
   "cell_type": "markdown",
   "metadata": {
    "slideshow": {
     "slide_type": "slide"
    }
   },
   "source": [
    "## Estruturas para sistemas contínuos no tempo\n",
    "---\n",
    "\n",
    "### Considere o sistema descrito pela equação diferencial:\n",
    "\n",
    "\\begin{equation} \\sum_{k=0}^{N}a_k\\frac{d^k}{dt^k}y(t) = \\sum_{k=0}^{M}b_k\\frac{d^k}{dt^k}x(t) \\end{equation}\n",
    "\n",
    "Considere a seguinte operação de integração recursiva: $g^{(n)}(t) = \\int_{-\\infty}^{t}g^{(n-1)}(\\tau)d\\tau$\n",
    "\n",
    "- $g^{(n)}(t) \\rightarrow$ a n-ésima integral de $g(t)$\n",
    "\n",
    "- $g^{(0)}(t) = g(t)$\n",
    "\n",
    "- Admitindo $N \\geq M$\n",
    "\n",
    "$$ \\sum_{k=0}^{N}a_ky^{(N-k)}(t) = \\sum_{k=0}^{M}b_kx^{(M-k)}(t) $$"
   ]
  },
  {
   "cell_type": "markdown",
   "metadata": {
    "slideshow": {
     "slide_type": "slide"
    }
   },
   "source": [
    "## Estruturas para sistemas contínuos no tempo\n",
    "---\n",
    "\n",
    "### Exemplo\n",
    "\n",
    "$$ a_0y(t) + a_1\\frac{d}{dt}y(t) + a_2\\frac{d²}{dt²}y(t) = b_0x(t) + b_1 \\frac{d}{dt}x(t) + b_2 \\frac{d²}{dt²}x(t) $$\n",
    "\n",
    "Escrevendo a equação acima através de uma soma de integrais:\n",
    "\n",
    "$$ a_0y^{(2)}(t) + a_1y^{(1)}(t) + a_2y(t) = b_0x^{(2)}(t) + b_1x^{(1)}(t) + b_2x(t) $$\n",
    "\n",
    "De outro modo:\n",
    "\n",
    "$$ a_2y(t) = \\underbrace{b_0x^{(2)}(t) + b_1x^{(1)}(t) + b_2x(t)}_{\\text{operações em x(t)}} - \\underbrace{a_0y^{(2)}(t) - a_1y^{(1)} (t)}_{\\text{operações em y(t)}} $$\n",
    "\n",
    "$$ y(t) = \\frac{1}{a_2}\\left\\{ \\underbrace{ b_0x^{(2)}(t) + b_1x^{(1)}(t) + b_2x(t)}_{g(t)} -a_0y^{(2)}(t) - a_1y^{(1)} (t)\\right\\} $$"
   ]
  },
  {
   "cell_type": "markdown",
   "metadata": {
    "slideshow": {
     "slide_type": "slide"
    }
   },
   "source": [
    "## Estruturas para sistemas contínuos no tempo\n",
    "---\n",
    "\n",
    "### Forma direta\n",
    "\n",
    "\n",
    "![fig4.1.png](imagens/fig6.8.png)"
   ]
  },
  {
   "cell_type": "markdown",
   "metadata": {
    "slideshow": {
     "slide_type": "slide"
    }
   },
   "source": [
    "## Estruturas para sistemas contínuos no tempo\n",
    "---\n",
    "\n",
    "- Tem-se dois sistemas LTI em cascata. Pode-se trocar a ordem de execução (propriedades comutativa) trocando a ordem de operação dos sistemas:\n",
    "\n",
    "![fig4.1.png](imagens/fig6.9.png)"
   ]
  },
  {
   "cell_type": "markdown",
   "metadata": {
    "slideshow": {
     "slide_type": "slide"
    }
   },
   "source": [
    "## Estruturas para sistemas contínuos no tempo\n",
    "---\n",
    "\n",
    "### Forma direta modificada\n",
    "\n",
    "- $w(t)$ alimenta os dois conjuntos de integradores idênticos. Portanto, eles podem ser agrupados em um só formando então uma nova forma de diagrama de blocos.\n",
    "\n",
    "![fig4.1.png](imagens/fig6.10.png)\n",
    "\n",
    "$\\Rightarrow$ **Vantagem:** utiliza um número menor de integradores em relação à primeira forma direta."
   ]
  },
  {
   "cell_type": "markdown",
   "metadata": {
    "slideshow": {
     "slide_type": "slide"
    }
   },
   "source": [
    "## Estruturas para sistemas contínuos no tempo\n",
    "---\n",
    "\n",
    "### Forma canônica\n",
    "\n",
    "Generalizando a forma direta modificada:\n",
    "\n",
    "![fig4.1.png](imagens/fig6.11.png)\n"
   ]
  },
  {
   "cell_type": "markdown",
   "metadata": {
    "slideshow": {
     "slide_type": "slide"
    }
   },
   "source": [
    "## Exercício\n",
    "---\n",
    "\n",
    "## Fazer os exercícios 27 e 28 da lista.\n",
    "\n",
    "## Como ficaria a implementação usando as estruturas  com integração e diferenciação?"
   ]
  },
  {
   "cell_type": "code",
   "execution_count": null,
   "metadata": {},
   "outputs": [],
   "source": []
  },
  {
   "cell_type": "markdown",
   "metadata": {
    "slideshow": {
     "slide_type": "slide"
    }
   },
   "source": [
    "## Equações de Recorrência para sistemas em tempo discreto"
   ]
  },
  {
   "cell_type": "markdown",
   "metadata": {
    "slideshow": {
     "slide_type": "slide"
    }
   },
   "source": [
    "## Equações de Recorrência Lineares\n",
    "---\n",
    "\n",
    "### Justicativa\n",
    "- Uma importante classe de sistemas lineares e invariantes no tempo consiste na seguinte equação:\n",
    "\n",
    "$$ \\sum_{k=0}^{N}a_ky[n-k] = \\sum_{k=0}^{M}b_kx[n-k] $$\n",
    "\n",
    "Exemplo:\n",
    "\n",
    "$$ y[n] - y[n-1] = x[n] $$\n",
    "\n",
    "$$ N = 1, a_1 = -1, a_0 = 1 $$\n",
    "$$ b_0 = 1, M = 0 $$"
   ]
  },
  {
   "cell_type": "markdown",
   "metadata": {
    "slideshow": {
     "slide_type": "slide"
    }
   },
   "source": [
    "## Em diagrama de blocos\n",
    "---\n",
    "![fig4.1.png](imagens/fig6.1.png)"
   ]
  },
  {
   "cell_type": "markdown",
   "metadata": {
    "slideshow": {
     "slide_type": "slide"
    }
   },
   "source": [
    "## Exemplo para N = 0\n",
    "---\n",
    "\n",
    "$$ y[n] = \\sum_{k=-0}^{M}\\left(\\frac{b_k}{a_0}\\right)x[n-k] $$\n",
    "\n",
    "Substituindo $x[n]$ por $\\delta[n]$\n",
    "\n",
    "$$ y[n] = \\sum_{k=-0}^{M}\\left(\\frac{b_k}{a_0}\\right)\\delta[n-k] $$\n",
    "\n",
    "$$\n",
    "h[n] =\n",
    "\\begin{cases}\n",
    "\\displaystyle \\frac{b_k}{a_0}, 0 \\leq n < M \\\\\n",
    "\\\\\n",
    "\\displaystyle 0, c.c\n",
    "\\end{cases} \n",
    "$$"
   ]
  },
  {
   "cell_type": "markdown",
   "metadata": {
    "slideshow": {
     "slide_type": "slide"
    }
   },
   "source": [
    "## Estruturas para sistemas discretos no tempo\n",
    "---\n",
    "\n",
    "### Definição\n",
    "\n",
    "- Sistemas LTI com função racional possui a propriedade que a sua sequência de entrada e saída satisfaz uma equação de diferençaas finitas com coeficientes constante. A função do sistema é a TZ da resposta impulsiva. Veja a seguir a representação das operações elementares em sistemas discretos:\n",
    "\n",
    "![fig4.1.png](imagens/fig6.2.png)"
   ]
  },
  {
   "cell_type": "markdown",
   "metadata": {
    "slideshow": {
     "slide_type": "slide"
    }
   },
   "source": [
    "## Estruturas para sistemas discretos no tempo\n",
    "---\n",
    "\n",
    "### Exemplo\n",
    "\n",
    "$$H(z) = \\frac{b_0}{1-a_1z^{-1}-a_2z^{-2}} $$\n",
    "$$ y[n] = a_1y[n-1] + a_2y[n-2] + b_0x[n] $$\n",
    "\n",
    "\n",
    "![fig4.1.png](imagens/fig6.3.png)"
   ]
  },
  {
   "cell_type": "markdown",
   "metadata": {
    "slideshow": {
     "slide_type": "slide"
    }
   },
   "source": [
    "## Forma direta\n",
    "---\n",
    "\n",
    "![fig4.1.png](imagens/fig6.4.png)"
   ]
  },
  {
   "cell_type": "markdown",
   "metadata": {
    "slideshow": {
     "slide_type": "slide"
    }
   },
   "source": [
    "## Eq. recorrência\n",
    "---\n",
    "\n",
    "### Sistema discreto\n",
    "\n",
    "$$ y[n] - \\sum_{k=1}^{N}a_ky[n-k] = \\sum_{k=0}^{M}b_kx[n-k] $$"
   ]
  },
  {
   "cell_type": "markdown",
   "metadata": {
    "slideshow": {
     "slide_type": "slide"
    }
   },
   "source": [
    "### Forma direta modificada\n",
    "---\n",
    "\n",
    "![fig4.1.png](imagens/fig6.5.png)"
   ]
  },
  {
   "cell_type": "markdown",
   "metadata": {
    "slideshow": {
     "slide_type": "slide"
    }
   },
   "source": [
    "## Estruturas para sistemas discretos no tempo\n",
    "---\n",
    "\n",
    "### Considerando\n",
    "\n",
    "$v[n] = \\sum_{k=0}^{M} b_kx[n-k]$. Esse gráfico pode ser interpretado como a cascata de 2 sistemas e desta forma a ordem da soma pode ser alterada. Caso $N \\neq M$ existem alguns coeficientes com zero.\n",
    "\n",
    "$$ H(z) = H_2(z)H_1(z) = \\left(\\frac{1}{1-\\sum_{k=1}^{N}a_kz^{-k}}\\right) \\left(\\sum_{k=0}^{M}b_kz^{-k}\\right) $$\n",
    "\n",
    "$$ V(z) = H_1(z)X(z) = \\left(\\sum_{k=0}^{M}b_kz^{-k}\\right)X(z) $$\n",
    "\n",
    "$$ Y(z) = H_2(z)V(z) = \\frac{1}{1-\\sum_{k=1}^{N}a_kz^{-k}}V(z) $$"
   ]
  },
  {
   "cell_type": "markdown",
   "metadata": {
    "slideshow": {
     "slide_type": "slide"
    }
   },
   "source": [
    "## Estruturas para sistemas discretos no tempo\n",
    "---\n",
    "\n",
    "### Forma canônica\n",
    "\n",
    "![fig4.1.png](imagens/fig6.6.png)"
   ]
  }
 ],
 "metadata": {
  "celltoolbar": "Slideshow",
  "kernelspec": {
   "display_name": "Python 3 (ipykernel)",
   "language": "python",
   "name": "python3"
  },
  "language_info": {
   "codemirror_mode": {
    "name": "ipython",
    "version": 3
   },
   "file_extension": ".py",
   "mimetype": "text/x-python",
   "name": "python",
   "nbconvert_exporter": "python",
   "pygments_lexer": "ipython3",
   "version": "3.11.3"
  }
 },
 "nbformat": 4,
 "nbformat_minor": 4
}
