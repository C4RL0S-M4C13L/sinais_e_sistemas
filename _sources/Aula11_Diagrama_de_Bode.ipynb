{
 "cells": [
  {
   "cell_type": "markdown",
   "metadata": {},
   "source": [
    "# Diagrama de Bode"
   ]
  },
  {
   "cell_type": "markdown",
   "metadata": {
    "slideshow": {
     "slide_type": "slide"
    }
   },
   "source": [
    "## Resposta de sistemas LIT\n",
    "---\n",
    "\n",
    "### Introdução\n",
    "\n",
    "![fig4.1.png](imagens/fig11.1.png)\n",
    "\n",
    "- Considerando sistemas cuja entrada e saída estejam relacionadas com uma EDO linear tem-se:\n",
    "\n",
    "$$ H(s) = \\frac{Y(s)}{X(s)} = \\frac{N(s)}{D(s)}$$\n",
    "\n",
    "Onde: N(s) é um polinômio de grau M e D(s) é um polinômio de grau N."
   ]
  },
  {
   "cell_type": "markdown",
   "metadata": {
    "slideshow": {
     "slide_type": "slide"
    }
   },
   "source": [
    "## Resposta de sistemas LIT\n",
    "---\n",
    "\n",
    "### Introdução\n",
    "\n",
    "- Reescrevendo a equação anterior:\n",
    "\n",
    "$$ H(s)=\\frac{Y(s)}{X(s)}=\\frac{N(s)}{D(s)}=\\frac{\\prod_{i=1}^{M}(s-z_i)}{\\prod_{i=1}^{N}(s-p_i)}=\\frac{\\prod_{i=1}^{M}|a_i|e^{j\\angle a_i}}{\\prod_{i=1}^{N}|b_i|e^{j\\angle b_i}}$$\n",
    "\n",
    "Onde:\n",
    "1. $z_i$ são os zeros da função de transferência e $p_i$ são os polos da função de transferência;\n",
    "2. $a_i = s - z_i$ e $ b_i = s - p_i$"
   ]
  },
  {
   "cell_type": "markdown",
   "metadata": {
    "slideshow": {
     "slide_type": "slide"
    }
   },
   "source": [
    "## Resposta de sistemas LIT\n",
    "---\n",
    "\n",
    "### Exemplo: Calcular a resposta de frequência para o sistema $H(s)$.\n",
    "\n",
    "### $ H(s)=\\frac{s+1}{(s+1-5j)(s+1+5j)}$ fazendo $s \\to j\\omega $\n",
    "\n",
    "\\begin{align}\n",
    " H(j\\omega) & = & \\frac{j\\omega+1}{(j\\omega+1-5j)(j\\omega+1+5j)}\\\\\n",
    "            & = & \\frac{1+j\\omega}{(1+j\\omega)^2+5^2}\\\\\n",
    "            & = & \\frac{1+j\\omega}{26-\\omega²+2j\\omega} \n",
    "\\end{align}\n",
    "\n",
    "### Neste caso se determina $|H(j\\omega)|$ e fase $\\angle H(j\\omega)$ para alguns valores de $\\omega$."
   ]
  },
  {
   "cell_type": "markdown",
   "metadata": {
    "slideshow": {
     "slide_type": "slide"
    }
   },
   "source": [
    "Fazendo as contas para $|H(j\\omega)|$ e $\\angle H(j\\omega)$:\n",
    "\n",
    "![fig4.1.png](imagens/fig11.2.png)"
   ]
  },
  {
   "cell_type": "markdown",
   "metadata": {
    "slideshow": {
     "slide_type": "slide"
    }
   },
   "source": [
    "## Diagrama de Bode\n",
    "---\n",
    "\n",
    "### Gráficos de Magnitude e Fase\n",
    "\n",
    "- O diagrama de Bode é uma técnica gráfica que fornece uma aproximação da resposta de H(s).\n",
    "\n",
    "- Consiste de dois diagramas separados:\n",
    "\n",
    "    - $|H(j\\omega)|$ x $\\omega$ (**módulo**)\n",
    "    \n",
    "    - $\\angle H(j\\omega)$ x $\\omega$ (**fase**)\n",
    "\n",
    "- Os desenhos são feitos em gráficos log-log"
   ]
  },
  {
   "cell_type": "markdown",
   "metadata": {
    "slideshow": {
     "slide_type": "slide"
    }
   },
   "source": [
    "## Diagrama de Bode\n",
    "---\n",
    "\n",
    "### Diagrama de Módulo\n",
    "\n",
    "- Calculando o módulo\n",
    "\n",
    "$$ |H(j\\omega)|=\\frac{|Y(j\\omega)|}{|X(j\\omega)|}=\\frac{\\prod_{i=1}^{M}|j\\omega-z_i|}{\\prod_{i=1}^{N}|j\\omega-p_i|}=\\frac{\\prod_{i=1}^{M}|a_i|}{\\prod_{i=1}^{N}|b_i|}=\\frac{|a_1\\dots a_M|}{|b_1\\dots b_N|} $$\n",
    "\n",
    "- No exemplo anterior:\n",
    "\n",
    "$$ |H(j\\omega)|=\\frac{|j\\omega+1|}{|j\\omega+1-5j||j\\omega+1+5j|} $$\n",
    "\n",
    "Onde $|H(j\\omega)|$ é o módulo da diferença do vetor $j\\omega$ ao vetor -1."
   ]
  },
  {
   "cell_type": "markdown",
   "metadata": {
    "slideshow": {
     "slide_type": "slide"
    }
   },
   "source": [
    "## Diagrama de Bode\n",
    "---\n",
    "\n",
    "### Diagrama de Módulo: Interpretação\n",
    "\n",
    "![fig4.1.png](imagens/DiagPoloZeros.png)\n"
   ]
  },
  {
   "cell_type": "markdown",
   "metadata": {
    "slideshow": {
     "slide_type": "slide"
    }
   },
   "source": [
    "## Diagrama de Bode\n",
    "---\n",
    "\n",
    "### Diagrama de Módulo: interpretação\n",
    "\n",
    "- A determinação do módulo de $H(j\\omega)$ é dado pelo:\n",
    "\n",
    "    - produto das distâncias de $j\\omega$ aos zeros;\n",
    "    \n",
    "    - dividido pelo produto das distâncias de $j\\omega$ aos polos\n",
    "    \n",
    "- Considerando o $|H(s)|$ em dB os produtos passam para somas.\n",
    "\n",
    "$$ |H(j\\omega)|_{dB}=\\sum_{i=1}^{M}|j\\omega-z_i|_{dB}-\\sum_{i=1}^{N}|j\\omega-p_i|_{dB} $$"
   ]
  },
  {
   "cell_type": "markdown",
   "metadata": {
    "slideshow": {
     "slide_type": "slide"
    }
   },
   "source": [
    "## Diagrama de Bode\n",
    "---\n",
    "\n",
    "### Diagrama de Módulo: Reescrevendo a equação\n",
    "\n",
    "$$ |H(j\\omega)|=\\frac{|Y(j\\omega)|}{|X(j\\omega)|}=\n",
    "\\frac{\\prod_{i=1}^M|j\\omega-z_i|}{\\prod_{i=1}^N|j\\omega-p_i|}= \n",
    "\\frac{\\prod_{i=1}^M|z_i|}{\\prod_{i=1}^N |p_i|} \n",
    "\\frac{\\prod_{i=1}^M|\\frac{j\\omega}{z_i}-1|}{\\prod_{i=1}^{N}\\left|\\frac{j\\omega}{p_i}-1\\right|} \n",
    "$$\n",
    "\n",
    "\n",
    "$$|H(s)|=K\\frac{\\prod_{i=1}^{M}\\left|\\frac{j\\omega}{z_i}-1\\right|}{\\prod_{i=1}^{N}\\left|\\frac{j\\omega}{p_i}-1\\right|} \\ \\ \\ \\text{onde} \\ \\ \\ K=\\frac{\\prod_{i=1}^{M}|z_i|}{\\prod_{i=1}^{N}|p_i|} $$"
   ]
  },
  {
   "cell_type": "markdown",
   "metadata": {
    "slideshow": {
     "slide_type": "slide"
    }
   },
   "source": [
    "## Diagrama de Bode\n",
    "---\n",
    "\n",
    "### Diagrama de Módulo\n",
    "\n",
    "- Passando o módulo para logaritmo\n",
    "\n",
    "$$ |H(j\\omega)|_{dB}=20log_{10}K+\\sum_{i=1}^{M}20log_{10}\\left|\\frac{j\\omega}{\\omega_{z_i}}-1\\right|-\\sum_{i=1}^{N}20log_{10}\\left|\\frac{j\\omega}{\\omega_{p_i}}-1\\right| $$\n",
    "\n",
    "- Analisando apenas uma parcela:\n",
    "\n",
    "$$ |Q(j\\omega)|_{dB}=20log_{10}\\left|j\\frac{\\omega}{\\omega_q}-1\\right| $$\n",
    "\n",
    "$$\n",
    "\\begin{cases}\n",
    "\\displaystyle \\omega \\ll \\omega_Q \\ \\ \\frac{j\\omega}{\\omega_p}\\approx 0 \\rightarrow 20log_{10}|-1|=0\n",
    "\\\\\n",
    "\\displaystyle \\omega \\gg \\omega_Q \\ \\ \\frac{j\\omega}{\\omega_p} \\gg 1 \\rightarrow 20log_{10}\\left|\\frac{\\omega}{\\omega_p}\\right| \\equiv 20log_{10}|\\omega|-20log_{10}|\\omega_p| \n",
    "\\end{cases} \n",
    "$$"
   ]
  },
  {
   "cell_type": "markdown",
   "metadata": {},
   "source": [
    "### Alguns pontos especiais:\n",
    "\n",
    "1. $\\omega = \\omega_p/2$ \n",
    "\n",
    "2. $\\omega = \\omega_p $\n",
    "\n",
    "3. $\\omega = \\omega_p 2$"
   ]
  },
  {
   "cell_type": "code",
   "execution_count": 1,
   "metadata": {},
   "outputs": [
    {
     "data": {
      "text/plain": [
       "3.010299956639812"
      ]
     },
     "execution_count": 1,
     "metadata": {},
     "output_type": "execute_result"
    }
   ],
   "source": [
    "import numpy as np\n",
    "20*np.log10(np.sqrt(2))"
   ]
  },
  {
   "cell_type": "markdown",
   "metadata": {
    "slideshow": {
     "slide_type": "slide"
    }
   },
   "source": [
    "## Diagrama de Bode\n",
    "---\n",
    "\n",
    "### Diagrama de Módulo\n",
    "\n",
    "- Analisando as equações\n",
    "\n",
    "$$\n",
    "\\begin{cases}\n",
    "\\displaystyle \\omega \\ll \\omega_Q \\ \\ \\frac{j\\omega}{\\omega_p}\\approx 0 \\rightarrow 20log_{10}|-1|=0\n",
    "\\\\\n",
    "\\displaystyle \\omega \\gg \\omega_Q \\ \\ \\frac{j\\omega}{\\omega_p} \\gg 1 \\rightarrow 20log_{10}\\left|\\frac{\\omega}{\\omega_p}\\right| \\equiv 20log_{10}|\\omega|-20log_{10}|\\omega_p| \n",
    "\\end{cases} \n",
    "$$\n",
    "\n",
    "$$ 20log|\\omega|-20log|\\omega_Q| \\equiv mx+h = \\begin{cases}\n",
    "\\displaystyle m = 20\n",
    "\\\\\n",
    "\\displaystyle h= -20log_{10}|\\omega_Q|\n",
    "\\\\\n",
    "\\displaystyle x = log_{10}|\\omega|\n",
    "\\end{cases} $$\n",
    "\n",
    "Em um gráfico log x log e a direita de $\\omega_p$, essa contribuição será linear"
   ]
  },
  {
   "cell_type": "markdown",
   "metadata": {
    "slideshow": {
     "slide_type": "slide"
    }
   },
   "source": [
    "## Diagrama de Bode\n",
    "---\n",
    "\n",
    "![fig4.1.png](imagens/fig11.4.png)"
   ]
  },
  {
   "cell_type": "markdown",
   "metadata": {
    "slideshow": {
     "slide_type": "slide"
    }
   },
   "source": [
    "## Diagrama de Bode\n",
    "---\n",
    "\n",
    "![fig4.1.png](imagens/fig11.5.png)"
   ]
  },
  {
   "cell_type": "code",
   "execution_count": 2,
   "metadata": {
    "hideCode": true,
    "hidePrompt": false
   },
   "outputs": [
    {
     "name": "stdout",
     "output_type": "stream",
     "text": [
      "Numerador:    [1]\n",
      "Denominador:  [1, 101, 100]\n",
      "Zeros:  []\n",
      "Polos:  [-100.   -1.]\n",
      "KdB =  -40.0\n"
     ]
    },
    {
     "data": {
      "image/png": "[encoded data removed]",
      "text/plain": [
       "<Figure size 640x480 with 1 Axes>"
      ]
     },
     "metadata": {},
     "output_type": "display_data"
    },
    {
     "data": {
      "image/png": "[encoded data removed]",
      "text/plain": [
       "<Figure size 640x480 with 1 Axes>"
      ]
     },
     "metadata": {},
     "output_type": "display_data"
    }
   ],
   "source": [
    "from scipy import signal\n",
    "import numpy as np\n",
    "\n",
    "import matplotlib.pyplot as plt\n",
    "\n",
    "def assintota(W, q, tipo):\n",
    "    resp = []\n",
    "    for freq in W:\n",
    "        if freq < q:\n",
    "            resp.append(0)\n",
    "        else :\n",
    "            if tipo == 'polo':\n",
    "                resp.append(-20*np.log10(freq) + 20*np.log10(q))\n",
    "            else :\n",
    "                resp.append( 20*np.log10(freq) - 20*np.log10(q))\n",
    "    return resp\n",
    "        \n",
    "def soma(l1, l2):\n",
    "    L = []\n",
    "    for i in range(len(l1)):\n",
    "        L.append(l1[i]+l2[i])     \n",
    "    return L\n",
    "    \n",
    "Num  = [1]             # 1\n",
    "Den  = [1, 101, 100]   # S^2 + 101s + 100\n",
    "\n",
    "print('Numerador:   ', Num)\n",
    "print('Denominador: ', Den)\n",
    "\n",
    "\n",
    "zeros = np.roots(Num)\n",
    "polos = np.roots(Den)\n",
    "\n",
    "print('Zeros: ', zeros)\n",
    "print('Polos: ', polos)\n",
    "\n",
    "\n",
    "zeros = [abs(zero) for zero in zeros]\n",
    "zeros.sort()\n",
    "\n",
    "polos = [abs(polo) for polo in polos]\n",
    "polos.sort()\n",
    "\n",
    "k=1\n",
    "for zero in zeros:\n",
    "    k = k*zero\n",
    "for polo in polos:\n",
    "    k = k/polo\n",
    "KdB = 20*np.log10(abs(k))\n",
    "print('KdB = ', KdB)\n",
    "\n",
    "#\n",
    "\n",
    "sys = signal.TransferFunction(Num, Den) # 1/(s+1)        10/(s+1)(s+10)\n",
    "w, mag, phase = signal.bode(sys)\n",
    "\n",
    "plt.figure()\n",
    "\n",
    "plt.semilogx(w, mag-KdB, linewidth= 2)    # Bode magnitude plot\n",
    "for polo in polos:\n",
    "    plt.scatter(polo, 0, marker=\"x\", s = 80, color = 'red')\n",
    "for zero in zeros:\n",
    "    plt.scatter(zero, 0, s=80, facecolors='none', edgecolors='k')\n",
    "    \n",
    "#assintote0 = assintota(w, zeros[0], 'zero')\n",
    "    \n",
    "assintote1 = assintota(w, polos[0],'polo')\n",
    "#plt.semilogx(w, assintote)    \n",
    "\n",
    "assintote2 = assintota(w, polos[1], 'polo')\n",
    "\n",
    "assin = soma(assintote1, assintote2)\n",
    "#assin = soma(assin, assintote0)\n",
    "\n",
    "plt.semilogx(w, assin)\n",
    "\n",
    "#plt.semilogx(w, assintote0, color='purple', alpha=0.3)\n",
    "plt.semilogx(w, assintote1, color='purple', alpha=0.3)\n",
    "plt.semilogx(w, assintote2, color='purple', alpha=0.3)\n",
    "plt.xlabel('frequency')\n",
    "plt.ylabel(r'$|H(j\\omega)|_{dB}$')\n",
    "#plt.ylim((-21,21))\n",
    "\n",
    "plt.grid()\n",
    "\n",
    "plt.figure()\n",
    "\n",
    "plt.semilogx(w, phase)  # Bode phase plot\n",
    "#plt.ylim((-90, 10))\n",
    "plt.xlabel('frequency')\n",
    "plt.ylabel(r'$\\angle |H(j\\omega)|$')\n",
    "plt.grid()\n",
    "plt.show()"
   ]
  },
  {
   "cell_type": "code",
   "execution_count": 3,
   "metadata": {
    "hideCode": true
   },
   "outputs": [
    {
     "name": "stdout",
     "output_type": "stream",
     "text": [
      "Numerador:    [1, 1]\n",
      "Denominador:  [1, 110, 1000]\n",
      "Zeros:  [-1.]\n",
      "Polos:  [-100.  -10.]\n",
      "KdB =  -60.0\n"
     ]
    },
    {
     "data": {
      "image/png": "[encoded data removed]",
      "text/plain": [
       "<Figure size 640x480 with 1 Axes>"
      ]
     },
     "metadata": {},
     "output_type": "display_data"
    },
    {
     "data": {
      "image/png": "[encoded data removed]",
      "text/plain": [
       "<Figure size 640x480 with 1 Axes>"
      ]
     },
     "metadata": {},
     "output_type": "display_data"
    }
   ],
   "source": [
    "from scipy import signal\n",
    "import numpy as np\n",
    "\n",
    "import matplotlib.pyplot as plt\n",
    "\n",
    "def assintota(W, q, tipo):\n",
    "    resp = []\n",
    "    for freq in W:\n",
    "        if freq < q:\n",
    "            resp.append(0)\n",
    "        else :\n",
    "            if tipo == 'polo':\n",
    "                resp.append(-20*np.log10(freq) + 20*np.log10(q))\n",
    "            else :\n",
    "                resp.append( 20*np.log10(freq) - 20*np.log10(q))\n",
    "    return resp\n",
    "        \n",
    "def soma(l1, l2):\n",
    "    L = []\n",
    "    for i in range(len(l1)):\n",
    "        L.append(l1[i]+l2[i])     \n",
    "    return L\n",
    "    \n",
    "Num  = [1, 1]          # 1\n",
    "Den  = [1, 110, 1000]   # S^2 + 101s + 100\n",
    "\n",
    "print('Numerador:   ', Num)\n",
    "print('Denominador: ', Den)\n",
    "\n",
    "\n",
    "zeros = np.roots(Num)\n",
    "polos = np.roots(Den)\n",
    "\n",
    "print('Zeros: ', zeros)\n",
    "print('Polos: ', polos)\n",
    "\n",
    "\n",
    "zeros = [abs(zero) for zero in zeros]\n",
    "zeros.sort()\n",
    "\n",
    "polos = [abs(polo) for polo in polos]\n",
    "polos.sort()\n",
    "\n",
    "k=1\n",
    "for zero in zeros:\n",
    "    k = k*zero\n",
    "for polo in polos:\n",
    "    k = k/polo\n",
    "KdB = 20*np.log10(abs(k))\n",
    "print('KdB = ', KdB)\n",
    "\n",
    "sys = signal.TransferFunction(Num, Den) # 1/(s+1)        10/(s+1)(s+10)\n",
    "w, mag, phase = signal.bode(sys)\n",
    "\n",
    "plt.figure()\n",
    "\n",
    "plt.semilogx(w, mag-KdB, linewidth= 2)    # Bode magnitude plot\n",
    "for polo in polos:\n",
    "    plt.scatter(polo, 0, marker=\"x\", s = 80, color = 'red')\n",
    "for zero in zeros:\n",
    "    plt.scatter(zero, 0, s=80, facecolors='none', edgecolors='k')\n",
    "    \n",
    "assintote0 = assintota(w, zeros[0], 'zero')\n",
    "    \n",
    "assintote1 = assintota(w, polos[0],'polo')\n",
    "plt.semilogx(w, assintote0)    \n",
    "\n",
    "assintote2 = assintota(w, polos[1], 'polo')\n",
    "\n",
    "assin = soma(assintote1, assintote2)\n",
    "assin = soma(assin, assintote0)\n",
    "\n",
    "plt.semilogx(w, assin)\n",
    "\n",
    "plt.semilogx(w, assintote0, color='purple', alpha=0.3)\n",
    "plt.semilogx(w, assintote1, color='purple', alpha=0.3)\n",
    "plt.semilogx(w, assintote2, color='purple', alpha=0.3)\n",
    "plt.xlabel('frequency')\n",
    "plt.ylabel(r'$|H(j\\omega)|_{dB}$')\n",
    "#plt.ylim((-21,21))\n",
    "\n",
    "plt.grid()\n",
    "\n",
    "plt.figure()\n",
    "\n",
    "plt.semilogx(w, phase)  # Bode phase plot\n",
    "#plt.ylim((-90, 10))\n",
    "plt.xlabel('frequency')\n",
    "plt.ylabel(r'$\\angle |H(j\\omega)|$')\n",
    "plt.grid()\n",
    "plt.show()"
   ]
  },
  {
   "cell_type": "markdown",
   "metadata": {
    "slideshow": {
     "slide_type": "slide"
    }
   },
   "source": [
    "### Diagramas mais precisos\n",
    "---\n",
    "\n",
    "Os gráficos com linhas retas podem ser feitos de forma mais precisa realizando a correção dos valores de amplitude perto das frequências dos polos e zeros.\n",
    "\n",
    "A partir da metade da frequência dos polos (ou zeros) e no dobro da sua frequência os valores reais em dB são:\n",
    "\n",
    "$$ \\frac{\\omega}{\\omega_q} = \\frac{1}{2} \\rightarrow A_{dB} = \\pm 20log_{10}|1-j/2| = \\pm 1dB $$\n",
    "\n",
    "$$\n",
    "\\frac{\\omega}{\\omega_q} = 1 \\rightarrow A_{dB} = \\pm 20log_{10}|1-j| = \\pm 3dB $$\n",
    "\n",
    "$$\n",
    "\\frac{\\omega}{\\omega_q} = 2 \\rightarrow A_{dB} = \\pm 20log_{10}|1-j2| = \\pm 6dB $$\n",
    "\n",
    "Nessas equações os sinais + corresponde aos zeros de primeira ordem e o sinal - para o polo de primeira ordem"
   ]
  },
  {
   "cell_type": "markdown",
   "metadata": {
    "slideshow": {
     "slide_type": "slide"
    }
   },
   "source": [
    "## Diagramas mais precisos\n",
    "---\n",
    "\n",
    "![fig4.1.png](imagens/fig11.9.png)"
   ]
  },
  {
   "cell_type": "markdown",
   "metadata": {
    "slideshow": {
     "slide_type": "slide"
    }
   },
   "source": [
    "# Diagramas para o ângulo\n",
    "---\n",
    "\n",
    "- O ângulo da fase para a constante K é zero.\n",
    "\n",
    "- O ângulo da fase para um polo ou zero de primeira ordem na origem é constante igual a $\\pm 90º$.\n",
    "\n",
    "- Para polos ou zeros fora da origem:\n",
    "\n",
    "    - Para freqüências menores que 1/10$\\omega_q$ o ângulo de fase é considerado zero.\n",
    "    \n",
    "    - Para freqüências menores que 10$\\omega_q$ o ângulo de fase é considerado $\\pm 90º$.\n",
    "    \n",
    "    - Entre essas frequências o diagrama é uma linha reta que vai de 0º a $\\pm 90º$ com inclinação de $\\pm 45º$/década."
   ]
  },
  {
   "cell_type": "markdown",
   "metadata": {
    "slideshow": {
     "slide_type": "slide"
    }
   },
   "source": [
    "## Diagramas para o ângulo\n",
    "---\n",
    "\n",
    "\n",
    "![fig4.1.png](imagens/fig11.10.png)"
   ]
  },
  {
   "cell_type": "markdown",
   "metadata": {
    "slideshow": {
     "slide_type": "slide"
    }
   },
   "source": [
    "## Diagramas para o ângulo\n",
    "---\n",
    "### Exemplo\n",
    "\n",
    "$$ H(j\\omega) = \\frac{0.11j\\omega}{\\left(1+j\\frac{\\omega}{10}\\right)\\left(1+j\\frac{\\omega}{100}\\right)}$$\n",
    "\n",
    "$$ H(j\\omega) =0.11 \\frac{|j\\omega|}{\\left|1+j\\frac{\\omega}{10}\\right|\\left|1+j\\frac{\\omega}{100}\\right|}\\angle(\\Psi_1-\\beta_1-\\beta_2)$$\n",
    "\n",
    "$\\Theta(\\omega)=\\Psi_1-\\beta_1-\\beta_2$\n",
    "\n",
    "$\\Psi_1=90º$\n",
    "\n",
    "$\\beta_1=tan^{-1}(\\omega/10)$\n",
    "\n",
    "$\\beta_2 = tan^{-1}(\\omega/100)$\n"
   ]
  },
  {
   "cell_type": "markdown",
   "metadata": {
    "slideshow": {
     "slide_type": "slide"
    }
   },
   "source": [
    "### Exemplo\n",
    "---\n",
    "\n",
    "![fig4.1.png](imagens/fig11.11.png)"
   ]
  },
  {
   "cell_type": "markdown",
   "metadata": {
    "slideshow": {
     "slide_type": "slide"
    }
   },
   "source": [
    "# Polos e Zeros complexos\n",
    "---\n",
    "\n",
    "\n",
    "![fig4.1.png](imagens/fig11.12.png)\n",
    "\n",
    "$$ H(s)=\\frac{K}{(s+\\alpha-j\\beta)(s+\\alpha+j\\beta)}=\\frac{K}{s²+2\\alpha s+\\alpha²+\\beta²} $$\n",
    "\n",
    "$$\\text{Fazendo $\\omega_n²=\\alpha²+\\beta²$ e $\\zeta\\omega_n=\\alpha$} \\rightarrow \\frac{K}{s²+2\\zeta\\omega_ns+\\omega_n²} $$\n",
    "\n",
    "Qual a interpreteção para $\\omega_n$ e $\\zeta$?\n",
    "\n",
    "$$ H(s)=\\frac{K/\\omega_n}{1+(s/\\omega_n)²+2\\zeta(s/\\omega_n)} \\ \\text{fazendo} \\ s=j\\omega, \\  K_0=K/\\omega_n, \\  u=\\omega/\\omega_n $$\n",
    "\n",
    "$$ H(j\\omega) = \\frac{K_0}{1-u^2+j2\\zeta u} $$\n",
    "\n",
    "$$ A_{dB}(u)=20log_{10}K_0-20log_{10}|(1-u²)+j2\\zeta u| \\ \\ \\ \\text{e} \\ \\ \\ \\theta(u)=-tan^{-1}\\frac{2\\zeta u}{1-u²} $$"
   ]
  },
  {
   "cell_type": "markdown",
   "metadata": {
    "slideshow": {
     "slide_type": "slide"
    }
   },
   "source": [
    "## Comportamento dos polos e zeros complexos\n",
    "---\n",
    "\n",
    "![fig4.1.png](imagens/fig11.13.png)"
   ]
  },
  {
   "cell_type": "markdown",
   "metadata": {
    "slideshow": {
     "slide_type": "slide"
    }
   },
   "source": [
    "## Diagrmas de amplitude\n",
    "---\n",
    "\n",
    "$$ -20log_{10}|(1-u²)+j2\\zeta u|= -20log_{10} \\sqrt{(1-u²)²+4u²\\zeta²} $$\n",
    "\n",
    "$$ -10log_{10}[u⁴+2u²(2\\zeta²-1)+1] $$\n",
    "\n",
    "- $u=\\frac{\\omega}{\\omega_n}$, $u\\rightarrow 0$ se $\\omega\\rightarrow 0$ e $u\\rightarrow \\infty$ se $\\omega\\rightarrow \\infty$\n",
    "\n",
    "- se $u\\rightarrow 0$, $-10log_{10}[u⁴+2u²(2\\zeta²-1)+1]\\rightarrow 0$\n",
    "\n",
    "- se $u\\rightarrow \\infty$, $-10log_{10}[u⁴+2u²(2\\zeta²-1)+1]\\rightarrow -40log_{10}u$\n",
    "\n",
    "O diagrama de amplitude consiste de duas retas.\n",
    "\n",
    "Para $\\omega<\\omega_n$, a linha reta está sobre o eixo-x em 0 dB. Para $\\omega>\\omega_n$, a linha reta possui inclinação de -40 dB/década.\n",
    "\n",
    "Essas duas linhas se encontram em $\\omega=\\omega_n$."
   ]
  },
  {
   "cell_type": "markdown",
   "metadata": {
    "slideshow": {
     "slide_type": "slide"
    }
   },
   "source": [
    "![fig4.1.png](imagens/fig11.14.png)"
   ]
  },
  {
   "cell_type": "markdown",
   "metadata": {
    "slideshow": {
     "slide_type": "slide"
    }
   },
   "source": [
    "![fig4.1.png](imagens/fig11.15.png)"
   ]
  },
  {
   "cell_type": "markdown",
   "metadata": {
    "slideshow": {
     "slide_type": "slide"
    }
   },
   "source": [
    "## Exemplo\n",
    "---\n",
    "\n",
    "![fig4.1.png](imagens/fig11.6.png)\n",
    "\n",
    "$$ H(s)=\\frac{\\frac{1}{LC}}{s²+\\frac{R}{L}s+\\frac{1}{LC}}=\\frac{2500}{s²+20s+2500} $$\n",
    "\n",
    "$$ w_n²=2500 \\rightarrow \\omega_n=50rad/s. \\ K_0=2500/\\omega_n²=1.\\ \\zeta=\\frac{20}{2\\omega_n}=0.2 $$\n",
    "\n",
    "$$ A_{dB}(25)=-10log_{10}(0.2²+0.5625)=2.2dB $$\n",
    "\n",
    "$$\n",
    "\\omega_p=50\\sqrt{1-2(0.2)²}=0.96 rad/s\n",
    "$$\n",
    "\n",
    "$$\n",
    "A_{dB}(47.96)=-10log_{10}[4(0.2)²(1-0.2²)]=8.14dB\n",
    "$$\n",
    "\n",
    "$$\n",
    "A_{dB}(50)=-10log_{10}(2(0.2))=2.96 dB\n",
    "$$\n",
    "\n",
    "$$\n",
    "\\omega_0 = \\sqrt{2}(47.96)=67.82 rad/s\n",
    "$$"
   ]
  },
  {
   "cell_type": "markdown",
   "metadata": {
    "slideshow": {
     "slide_type": "slide"
    }
   },
   "source": [
    "![fig4.1.png](imagens/fig11.7.png)"
   ]
  },
  {
   "cell_type": "code",
   "execution_count": null,
   "metadata": {},
   "outputs": [],
   "source": []
  }
 ],
 "metadata": {
  "celltoolbar": "Hide code",
  "kernelspec": {
   "display_name": "Python 3 (ipykernel)",
   "language": "python",
   "name": "python3"
  },
  "language_info": {
   "codemirror_mode": {
    "name": "ipython",
    "version": 3
   },
   "file_extension": ".py",
   "mimetype": "text/x-python",
   "name": "python",
   "nbconvert_exporter": "python",
   "pygments_lexer": "ipython3",
   "version": "3.11.3"
  }
 },
 "nbformat": 4,
 "nbformat_minor": 4
}
